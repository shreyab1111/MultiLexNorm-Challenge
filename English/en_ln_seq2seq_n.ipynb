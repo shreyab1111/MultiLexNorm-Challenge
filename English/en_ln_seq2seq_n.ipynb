{
  "nbformat": 4,
  "nbformat_minor": 0,
  "metadata": {
    "colab": {
      "name": "en-ln-seq2seq-n.ipynb",
      "provenance": [],
      "collapsed_sections": [],
      "mount_file_id": "1ZJusN-lCZAov9XNFAsFbOJcW0Zdxhfqw",
      "authorship_tag": "ABX9TyOjru+RIyTw1MsTYV0Gq7E0",
      "include_colab_link": true
    },
    "kernelspec": {
      "name": "python3",
      "display_name": "Python 3"
    },
    "language_info": {
      "name": "python"
    },
    "accelerator": "GPU"
  },
  "cells": [
    {
      "cell_type": "markdown",
      "metadata": {
        "id": "view-in-github",
        "colab_type": "text"
      },
      "source": [
        "<a href=\"https://colab.research.google.com/github/shreyab1111/MultiLexNorm-Challenge/blob/main/en_ln_seq2seq_n.ipynb\" target=\"_parent\"><img src=\"https://colab.research.google.com/assets/colab-badge.svg\" alt=\"Open In Colab\"/></a>"
      ]
    },
    {
      "cell_type": "code",
      "metadata": {
        "id": "17JYgmWqoFO8"
      },
      "source": [
        "import numpy as np\n",
        "import tensorflow as tf\n",
        "from tensorflow import keras"
      ],
      "execution_count": 7,
      "outputs": []
    },
    {
      "cell_type": "markdown",
      "metadata": {
        "id": "Qnsf7hnBCpIC"
      },
      "source": [
        "English"
      ]
    },
    {
      "cell_type": "code",
      "metadata": {
        "id": "oqYRZRn7oLCM"
      },
      "source": [
        "batch_size = 64  # Batch size for training.\n",
        "epochs = 150  # Number of epochs to train for.\n",
        "latent_dim = 68  # Latent dimensionality of the encoding space.\n",
        "num_samples = 20000  # Number of samples to train on.\n",
        "data_path = '/content/drive/MyDrive/NLP/Lexical Normalisation/Multilexnorm Challenge/English/train.norm.txt'"
      ],
      "execution_count": 8,
      "outputs": []
    },
    {
      "cell_type": "markdown",
      "metadata": {
        "id": "kXpZ8zmgtQQD"
      },
      "source": [
        "Character encoding"
      ]
    },
    {
      "cell_type": "code",
      "metadata": {
        "colab": {
          "base_uri": "https://localhost:8080/"
        },
        "id": "Y15wH0J3oNl1",
        "outputId": "22db1699-2822-47be-a180-25e42c33a9a6"
      },
      "source": [
        "# Vectorize the data.\n",
        "input_texts = []\n",
        "target_texts = []\n",
        "input_characters = set()\n",
        "target_characters = set()\n",
        "with open(data_path, \"r\", encoding=\"utf-8\") as f:\n",
        "    lines = f.readlines()\n",
        "for line in lines[: min(num_samples, len(lines) - 1)]:\n",
        "  if line=='\\n':\n",
        "    continue\n",
        "  else:\n",
        "    input_text, target_text= line.split(\"\\t\")\n",
        "    # We use \"tab\" as the \"start sequence\" character\n",
        "    # for the targets, and \"\\n\" as \"end sequence\" character.\n",
        "    target_text = \"\\t\" + target_text + \"\\n\"\n",
        "    input_texts.append(input_text)\n",
        "    target_texts.append(target_text)\n",
        "    for char in input_text:\n",
        "        if char not in input_characters:\n",
        "            input_characters.add(char)\n",
        "    for char in target_text:\n",
        "        if char not in target_characters:\n",
        "            target_characters.add(char)\n",
        "\n",
        "input_characters = sorted(list(input_characters))\n",
        "target_characters = sorted(list(target_characters))\n",
        "num_encoder_tokens = len(input_characters)\n",
        "num_decoder_tokens = len(target_characters)\n",
        "max_encoder_seq_length = max([len(txt) for txt in input_texts])\n",
        "max_decoder_seq_length = max([len(txt) for txt in target_texts])\n",
        "\n",
        "print(\"Number of samples:\", len(input_texts))\n",
        "print(\"Number of unique input tokens:\", num_encoder_tokens)\n",
        "print(\"Number of unique output tokens:\", num_decoder_tokens)\n",
        "print(\"Max sequence length for inputs:\", max_encoder_seq_length)\n",
        "print(\"Max sequence length for outputs:\", max_decoder_seq_length)"
      ],
      "execution_count": 9,
      "outputs": [
        {
          "output_type": "stream",
          "text": [
            "Number of samples: 18755\n",
            "Number of unique input tokens: 67\n",
            "Number of unique output tokens: 70\n",
            "Max sequence length for inputs: 40\n",
            "Max sequence length for outputs: 43\n"
          ],
          "name": "stdout"
        }
      ]
    },
    {
      "cell_type": "code",
      "metadata": {
        "id": "me-0VkLIDPpV"
      },
      "source": [
        ""
      ],
      "execution_count": null,
      "outputs": []
    },
    {
      "cell_type": "markdown",
      "metadata": {
        "id": "m2rgulyotMnp"
      },
      "source": [
        "encoder_input_data is a 3D array of shape (num_pairs, max_english_sentence_length, num_english_characters) containing a one-hot vectorization of the English sentences.\n",
        "\n",
        "decoder_input_data is a 3D array of shape (num_pairs, max_french_sentence_length, num_french_characters) containg a one-hot vectorization of the French sentences.\n",
        "\n",
        "decoder_target_data is the same as decoder_input_data but offset by one timestep. decoder_target_data[:, t, :] will be the same as decoder_input_data[:, t + 1, :]."
      ]
    },
    {
      "cell_type": "code",
      "metadata": {
        "id": "zgLeI1FDtIim"
      },
      "source": [
        "input_token_index = dict([(char, i) for i, char in enumerate(input_characters)])\n",
        "target_token_index = dict([(char, i) for i, char in enumerate(target_characters)])\n",
        "\n",
        "encoder_input_data = np.zeros(\n",
        "    (len(input_texts), max_encoder_seq_length, num_encoder_tokens), dtype=\"float32\"\n",
        ")\n",
        "decoder_input_data = np.zeros(\n",
        "    (len(input_texts), max_decoder_seq_length, num_decoder_tokens), dtype=\"float32\"\n",
        ")\n",
        "decoder_target_data = np.zeros(\n",
        "    (len(input_texts), max_decoder_seq_length, num_decoder_tokens), dtype=\"float32\"\n",
        ")"
      ],
      "execution_count": 10,
      "outputs": []
    },
    {
      "cell_type": "markdown",
      "metadata": {
        "id": "18xsjDSctEAq"
      },
      "source": [
        "one hot rep"
      ]
    },
    {
      "cell_type": "code",
      "metadata": {
        "id": "BUOnWjmVtCuO"
      },
      "source": [
        "for i, (input_text, target_text) in enumerate(zip(input_texts, target_texts)):\n",
        "    for t, char in enumerate(input_text):\n",
        "        encoder_input_data[i, t, input_token_index[char]] = 1.0\n",
        "    #encoder_input_data[i, t + 1 :, input_token_index[' ']] = 1.0\n",
        "    for t, char in enumerate(target_text):\n",
        "        # decoder_target_data is ahead of decoder_input_data by one timestep\n",
        "        decoder_input_data[i, t, target_token_index[char]] = 1.0\n",
        "        if t > 0:\n",
        "            # decoder_target_data will be ahead by one timestep\n",
        "            # and will not include the start character.\n",
        "            decoder_target_data[i, t - 1, target_token_index[char]] = 1.0\n",
        "    decoder_input_data[i, t + 1 :, target_token_index[' ']] = 1.0\n",
        "    decoder_target_data[i, t:, target_token_index[' ']] = 1.0"
      ],
      "execution_count": 11,
      "outputs": []
    },
    {
      "cell_type": "code",
      "metadata": {
        "id": "b4QqON8DoQSM"
      },
      "source": [
        "# Define an input sequence and process it.\n",
        "encoder_inputs = keras.Input(shape=(None, num_encoder_tokens))\n",
        "encoder = keras.layers.LSTM(latent_dim, return_state=True)\n",
        "encoder_outputs, state_h, state_c = encoder(encoder_inputs)\n",
        "\n",
        "# We discard `encoder_outputs` and only keep the states.\n",
        "encoder_states = [state_h, state_c]\n",
        "\n",
        "# Set up the decoder, using `encoder_states` as initial state.\n",
        "decoder_inputs = keras.Input(shape=(None, num_decoder_tokens))\n",
        "\n",
        "# We set up our decoder to return full output sequences,\n",
        "# and to return internal states as well. We don't use the\n",
        "# return states in the training model, but we will use them in inference.\n",
        "decoder_lstm = keras.layers.LSTM(latent_dim, return_sequences=True, return_state=True)\n",
        "decoder_outputs, _, _ = decoder_lstm(decoder_inputs, initial_state=encoder_states)\n",
        "decoder_dense = keras.layers.Dense(num_decoder_tokens, activation=\"softmax\")\n",
        "decoder_outputs = decoder_dense(decoder_outputs)\n",
        "\n",
        "# Define the model that will turn\n",
        "# `encoder_input_data` & `decoder_input_data` into `decoder_target_data`\n",
        "model = keras.Model([encoder_inputs, decoder_inputs], decoder_outputs)"
      ],
      "execution_count": 12,
      "outputs": []
    },
    {
      "cell_type": "code",
      "metadata": {
        "colab": {
          "base_uri": "https://localhost:8080/"
        },
        "id": "89rHyXfDoT3z",
        "outputId": "96d59696-3993-464b-e587-0a0fcd75beae"
      },
      "source": [
        "model.compile(\n",
        "    optimizer=\"rmsprop\", loss=\"categorical_crossentropy\", metrics=[\"accuracy\"]\n",
        ")\n",
        "model.fit(\n",
        "    [encoder_input_data, decoder_input_data],\n",
        "    decoder_target_data,\n",
        "    batch_size=batch_size,\n",
        "    epochs=epochs,\n",
        "    validation_split=0.2,\n",
        ")\n",
        "# Save model\n",
        "model.save(\"s2s\")"
      ],
      "execution_count": 13,
      "outputs": [
        {
          "output_type": "stream",
          "text": [
            "Epoch 1/150\n",
            "235/235 [==============================] - 12s 13ms/step - loss: 0.6314 - accuracy: 0.8628 - val_loss: 0.4263 - val_accuracy: 0.8962\n",
            "Epoch 2/150\n",
            "235/235 [==============================] - 3s 11ms/step - loss: 0.3984 - accuracy: 0.8955 - val_loss: 0.3772 - val_accuracy: 0.8990\n",
            "Epoch 3/150\n",
            "235/235 [==============================] - 2s 10ms/step - loss: 0.3568 - accuracy: 0.9028 - val_loss: 0.3430 - val_accuracy: 0.9088\n",
            "Epoch 4/150\n",
            "235/235 [==============================] - 2s 10ms/step - loss: 0.3290 - accuracy: 0.9095 - val_loss: 0.3153 - val_accuracy: 0.9145\n",
            "Epoch 5/150\n",
            "235/235 [==============================] - 2s 10ms/step - loss: 0.3101 - accuracy: 0.9133 - val_loss: 0.3017 - val_accuracy: 0.9157\n",
            "Epoch 6/150\n",
            "235/235 [==============================] - 2s 10ms/step - loss: 0.2966 - accuracy: 0.9161 - val_loss: 0.2885 - val_accuracy: 0.9188\n",
            "Epoch 7/150\n",
            "235/235 [==============================] - 2s 10ms/step - loss: 0.2820 - accuracy: 0.9203 - val_loss: 0.2745 - val_accuracy: 0.9230\n",
            "Epoch 8/150\n",
            "235/235 [==============================] - 2s 10ms/step - loss: 0.2690 - accuracy: 0.9240 - val_loss: 0.2623 - val_accuracy: 0.9260\n",
            "Epoch 9/150\n",
            "235/235 [==============================] - 2s 10ms/step - loss: 0.2577 - accuracy: 0.9272 - val_loss: 0.2574 - val_accuracy: 0.9264\n",
            "Epoch 10/150\n",
            "235/235 [==============================] - 2s 10ms/step - loss: 0.2478 - accuracy: 0.9299 - val_loss: 0.2461 - val_accuracy: 0.9286\n",
            "Epoch 11/150\n",
            "235/235 [==============================] - 2s 10ms/step - loss: 0.2380 - accuracy: 0.9328 - val_loss: 0.2397 - val_accuracy: 0.9306\n",
            "Epoch 12/150\n",
            "235/235 [==============================] - 2s 10ms/step - loss: 0.2274 - accuracy: 0.9360 - val_loss: 0.2228 - val_accuracy: 0.9374\n",
            "Epoch 13/150\n",
            "235/235 [==============================] - 2s 10ms/step - loss: 0.2182 - accuracy: 0.9384 - val_loss: 0.2303 - val_accuracy: 0.9352\n",
            "Epoch 14/150\n",
            "235/235 [==============================] - 2s 10ms/step - loss: 0.2102 - accuracy: 0.9407 - val_loss: 0.2146 - val_accuracy: 0.9398\n",
            "Epoch 15/150\n",
            "235/235 [==============================] - 2s 10ms/step - loss: 0.2021 - accuracy: 0.9429 - val_loss: 0.2138 - val_accuracy: 0.9386\n",
            "Epoch 16/150\n",
            "235/235 [==============================] - 2s 10ms/step - loss: 0.1949 - accuracy: 0.9448 - val_loss: 0.1889 - val_accuracy: 0.9465\n",
            "Epoch 17/150\n",
            "235/235 [==============================] - 3s 11ms/step - loss: 0.1868 - accuracy: 0.9474 - val_loss: 0.1825 - val_accuracy: 0.9484\n",
            "Epoch 18/150\n",
            "235/235 [==============================] - 3s 11ms/step - loss: 0.1786 - accuracy: 0.9496 - val_loss: 0.1925 - val_accuracy: 0.9455\n",
            "Epoch 19/150\n",
            "235/235 [==============================] - 3s 11ms/step - loss: 0.1708 - accuracy: 0.9520 - val_loss: 0.1707 - val_accuracy: 0.9525\n",
            "Epoch 20/150\n",
            "235/235 [==============================] - 2s 11ms/step - loss: 0.1632 - accuracy: 0.9541 - val_loss: 0.1628 - val_accuracy: 0.9534\n",
            "Epoch 21/150\n",
            "235/235 [==============================] - 3s 11ms/step - loss: 0.1559 - accuracy: 0.9564 - val_loss: 0.1563 - val_accuracy: 0.9558\n",
            "Epoch 22/150\n",
            "235/235 [==============================] - 3s 11ms/step - loss: 0.1483 - accuracy: 0.9586 - val_loss: 0.1555 - val_accuracy: 0.9563\n",
            "Epoch 23/150\n",
            "235/235 [==============================] - 3s 11ms/step - loss: 0.1417 - accuracy: 0.9605 - val_loss: 0.1417 - val_accuracy: 0.9601\n",
            "Epoch 24/150\n",
            "235/235 [==============================] - 3s 11ms/step - loss: 0.1356 - accuracy: 0.9625 - val_loss: 0.1371 - val_accuracy: 0.9620\n",
            "Epoch 25/150\n",
            "235/235 [==============================] - 3s 11ms/step - loss: 0.1298 - accuracy: 0.9642 - val_loss: 0.1318 - val_accuracy: 0.9644\n",
            "Epoch 26/150\n",
            "235/235 [==============================] - 2s 10ms/step - loss: 0.1247 - accuracy: 0.9656 - val_loss: 0.1275 - val_accuracy: 0.9658\n",
            "Epoch 27/150\n",
            "235/235 [==============================] - 2s 10ms/step - loss: 0.1194 - accuracy: 0.9672 - val_loss: 0.1279 - val_accuracy: 0.9662\n",
            "Epoch 28/150\n",
            "235/235 [==============================] - 2s 10ms/step - loss: 0.1149 - accuracy: 0.9684 - val_loss: 0.1234 - val_accuracy: 0.9664\n",
            "Epoch 29/150\n",
            "235/235 [==============================] - 2s 10ms/step - loss: 0.1105 - accuracy: 0.9697 - val_loss: 0.1186 - val_accuracy: 0.9687\n",
            "Epoch 30/150\n",
            "235/235 [==============================] - 2s 10ms/step - loss: 0.1071 - accuracy: 0.9708 - val_loss: 0.1112 - val_accuracy: 0.9703\n",
            "Epoch 31/150\n",
            "235/235 [==============================] - 2s 10ms/step - loss: 0.1034 - accuracy: 0.9719 - val_loss: 0.1058 - val_accuracy: 0.9717\n",
            "Epoch 32/150\n",
            "235/235 [==============================] - 2s 11ms/step - loss: 0.1001 - accuracy: 0.9727 - val_loss: 0.1048 - val_accuracy: 0.9719\n",
            "Epoch 33/150\n",
            "235/235 [==============================] - 2s 10ms/step - loss: 0.0974 - accuracy: 0.9736 - val_loss: 0.1008 - val_accuracy: 0.9735\n",
            "Epoch 34/150\n",
            "235/235 [==============================] - 2s 10ms/step - loss: 0.0946 - accuracy: 0.9744 - val_loss: 0.1119 - val_accuracy: 0.9697\n",
            "Epoch 35/150\n",
            "235/235 [==============================] - 2s 10ms/step - loss: 0.0918 - accuracy: 0.9751 - val_loss: 0.1076 - val_accuracy: 0.9710\n",
            "Epoch 36/150\n",
            "235/235 [==============================] - 2s 10ms/step - loss: 0.0894 - accuracy: 0.9758 - val_loss: 0.1025 - val_accuracy: 0.9723\n",
            "Epoch 37/150\n",
            "235/235 [==============================] - 2s 11ms/step - loss: 0.0875 - accuracy: 0.9764 - val_loss: 0.1005 - val_accuracy: 0.9732\n",
            "Epoch 38/150\n",
            "235/235 [==============================] - 2s 10ms/step - loss: 0.0848 - accuracy: 0.9771 - val_loss: 0.0948 - val_accuracy: 0.9748\n",
            "Epoch 39/150\n",
            "235/235 [==============================] - 2s 10ms/step - loss: 0.0830 - accuracy: 0.9776 - val_loss: 0.0950 - val_accuracy: 0.9751\n",
            "Epoch 40/150\n",
            "235/235 [==============================] - 2s 10ms/step - loss: 0.0809 - accuracy: 0.9781 - val_loss: 0.0936 - val_accuracy: 0.9756\n",
            "Epoch 41/150\n",
            "235/235 [==============================] - 2s 11ms/step - loss: 0.0793 - accuracy: 0.9787 - val_loss: 0.0885 - val_accuracy: 0.9770\n",
            "Epoch 42/150\n",
            "235/235 [==============================] - 2s 10ms/step - loss: 0.0773 - accuracy: 0.9791 - val_loss: 0.0995 - val_accuracy: 0.9739\n",
            "Epoch 43/150\n",
            "235/235 [==============================] - 3s 11ms/step - loss: 0.0757 - accuracy: 0.9797 - val_loss: 0.0837 - val_accuracy: 0.9784\n",
            "Epoch 44/150\n",
            "235/235 [==============================] - 3s 11ms/step - loss: 0.0744 - accuracy: 0.9801 - val_loss: 0.0901 - val_accuracy: 0.9762\n",
            "Epoch 45/150\n",
            "235/235 [==============================] - 3s 11ms/step - loss: 0.0727 - accuracy: 0.9803 - val_loss: 0.0850 - val_accuracy: 0.9779\n",
            "Epoch 46/150\n",
            "235/235 [==============================] - 3s 11ms/step - loss: 0.0710 - accuracy: 0.9810 - val_loss: 0.0835 - val_accuracy: 0.9783\n",
            "Epoch 47/150\n",
            "235/235 [==============================] - 3s 11ms/step - loss: 0.0699 - accuracy: 0.9811 - val_loss: 0.0882 - val_accuracy: 0.9771\n",
            "Epoch 48/150\n",
            "235/235 [==============================] - 3s 11ms/step - loss: 0.0685 - accuracy: 0.9815 - val_loss: 0.0787 - val_accuracy: 0.9796\n",
            "Epoch 49/150\n",
            "235/235 [==============================] - 3s 11ms/step - loss: 0.0671 - accuracy: 0.9819 - val_loss: 0.0811 - val_accuracy: 0.9791\n",
            "Epoch 50/150\n",
            "235/235 [==============================] - 3s 11ms/step - loss: 0.0663 - accuracy: 0.9821 - val_loss: 0.0833 - val_accuracy: 0.9787\n",
            "Epoch 51/150\n",
            "235/235 [==============================] - 3s 11ms/step - loss: 0.0647 - accuracy: 0.9826 - val_loss: 0.0825 - val_accuracy: 0.9785\n",
            "Epoch 52/150\n",
            "235/235 [==============================] - 3s 11ms/step - loss: 0.0635 - accuracy: 0.9829 - val_loss: 0.0806 - val_accuracy: 0.9790\n",
            "Epoch 53/150\n",
            "235/235 [==============================] - 2s 10ms/step - loss: 0.0624 - accuracy: 0.9831 - val_loss: 0.0821 - val_accuracy: 0.9789\n",
            "Epoch 54/150\n",
            "235/235 [==============================] - 2s 10ms/step - loss: 0.0615 - accuracy: 0.9835 - val_loss: 0.0884 - val_accuracy: 0.9778\n",
            "Epoch 55/150\n",
            "235/235 [==============================] - 2s 10ms/step - loss: 0.0607 - accuracy: 0.9836 - val_loss: 0.0808 - val_accuracy: 0.9788\n",
            "Epoch 56/150\n",
            "235/235 [==============================] - 2s 10ms/step - loss: 0.0594 - accuracy: 0.9840 - val_loss: 0.0760 - val_accuracy: 0.9803\n",
            "Epoch 57/150\n",
            "235/235 [==============================] - 2s 10ms/step - loss: 0.0582 - accuracy: 0.9843 - val_loss: 0.0727 - val_accuracy: 0.9815\n",
            "Epoch 58/150\n",
            "235/235 [==============================] - 2s 10ms/step - loss: 0.0571 - accuracy: 0.9846 - val_loss: 0.0816 - val_accuracy: 0.9800\n",
            "Epoch 59/150\n",
            "235/235 [==============================] - 2s 11ms/step - loss: 0.0562 - accuracy: 0.9848 - val_loss: 0.0779 - val_accuracy: 0.9802\n",
            "Epoch 60/150\n",
            "235/235 [==============================] - 2s 10ms/step - loss: 0.0556 - accuracy: 0.9849 - val_loss: 0.0782 - val_accuracy: 0.9804\n",
            "Epoch 61/150\n",
            "235/235 [==============================] - 2s 10ms/step - loss: 0.0547 - accuracy: 0.9852 - val_loss: 0.0729 - val_accuracy: 0.9815\n",
            "Epoch 62/150\n",
            "235/235 [==============================] - 2s 10ms/step - loss: 0.0541 - accuracy: 0.9854 - val_loss: 0.0719 - val_accuracy: 0.9821\n",
            "Epoch 63/150\n",
            "235/235 [==============================] - 2s 10ms/step - loss: 0.0533 - accuracy: 0.9857 - val_loss: 0.0729 - val_accuracy: 0.9812\n",
            "Epoch 64/150\n",
            "235/235 [==============================] - 2s 11ms/step - loss: 0.0522 - accuracy: 0.9858 - val_loss: 0.0778 - val_accuracy: 0.9804\n",
            "Epoch 65/150\n",
            "235/235 [==============================] - 2s 10ms/step - loss: 0.0515 - accuracy: 0.9860 - val_loss: 0.0749 - val_accuracy: 0.9807\n",
            "Epoch 66/150\n",
            "235/235 [==============================] - 2s 10ms/step - loss: 0.0510 - accuracy: 0.9861 - val_loss: 0.0733 - val_accuracy: 0.9815\n",
            "Epoch 67/150\n",
            "235/235 [==============================] - 2s 10ms/step - loss: 0.0502 - accuracy: 0.9863 - val_loss: 0.0679 - val_accuracy: 0.9830\n",
            "Epoch 68/150\n",
            "235/235 [==============================] - 2s 10ms/step - loss: 0.0496 - accuracy: 0.9865 - val_loss: 0.0728 - val_accuracy: 0.9817\n",
            "Epoch 69/150\n",
            "235/235 [==============================] - 2s 10ms/step - loss: 0.0486 - accuracy: 0.9870 - val_loss: 0.0709 - val_accuracy: 0.9823\n",
            "Epoch 70/150\n",
            "235/235 [==============================] - 3s 11ms/step - loss: 0.0482 - accuracy: 0.9870 - val_loss: 0.0681 - val_accuracy: 0.9832\n",
            "Epoch 71/150\n",
            "235/235 [==============================] - 2s 11ms/step - loss: 0.0475 - accuracy: 0.9871 - val_loss: 0.0734 - val_accuracy: 0.9814\n",
            "Epoch 72/150\n",
            "235/235 [==============================] - 3s 11ms/step - loss: 0.0468 - accuracy: 0.9873 - val_loss: 0.0718 - val_accuracy: 0.9818\n",
            "Epoch 73/150\n",
            "235/235 [==============================] - 3s 11ms/step - loss: 0.0461 - accuracy: 0.9875 - val_loss: 0.0674 - val_accuracy: 0.9832\n",
            "Epoch 74/150\n",
            "235/235 [==============================] - 3s 11ms/step - loss: 0.0455 - accuracy: 0.9877 - val_loss: 0.0807 - val_accuracy: 0.9805\n",
            "Epoch 75/150\n",
            "235/235 [==============================] - 3s 11ms/step - loss: 0.0451 - accuracy: 0.9878 - val_loss: 0.0710 - val_accuracy: 0.9832\n",
            "Epoch 76/150\n",
            "235/235 [==============================] - 3s 11ms/step - loss: 0.0445 - accuracy: 0.9880 - val_loss: 0.0685 - val_accuracy: 0.9829\n",
            "Epoch 77/150\n",
            "235/235 [==============================] - 3s 11ms/step - loss: 0.0437 - accuracy: 0.9882 - val_loss: 0.0698 - val_accuracy: 0.9828\n",
            "Epoch 78/150\n",
            "235/235 [==============================] - 3s 11ms/step - loss: 0.0432 - accuracy: 0.9884 - val_loss: 0.0732 - val_accuracy: 0.9821\n",
            "Epoch 79/150\n",
            "235/235 [==============================] - 2s 10ms/step - loss: 0.0430 - accuracy: 0.9883 - val_loss: 0.0672 - val_accuracy: 0.9836\n",
            "Epoch 80/150\n",
            "235/235 [==============================] - 2s 10ms/step - loss: 0.0424 - accuracy: 0.9885 - val_loss: 0.0728 - val_accuracy: 0.9821\n",
            "Epoch 81/150\n",
            "235/235 [==============================] - 2s 10ms/step - loss: 0.0417 - accuracy: 0.9887 - val_loss: 0.0666 - val_accuracy: 0.9837\n",
            "Epoch 82/150\n",
            "235/235 [==============================] - 2s 10ms/step - loss: 0.0412 - accuracy: 0.9889 - val_loss: 0.0745 - val_accuracy: 0.9821\n",
            "Epoch 83/150\n",
            "235/235 [==============================] - 3s 11ms/step - loss: 0.0408 - accuracy: 0.9889 - val_loss: 0.0637 - val_accuracy: 0.9844\n",
            "Epoch 84/150\n",
            "235/235 [==============================] - 2s 11ms/step - loss: 0.0402 - accuracy: 0.9891 - val_loss: 0.0669 - val_accuracy: 0.9837\n",
            "Epoch 85/150\n",
            "235/235 [==============================] - 3s 11ms/step - loss: 0.0397 - accuracy: 0.9892 - val_loss: 0.0662 - val_accuracy: 0.9839\n",
            "Epoch 86/150\n",
            "235/235 [==============================] - 3s 11ms/step - loss: 0.0393 - accuracy: 0.9892 - val_loss: 0.0649 - val_accuracy: 0.9846\n",
            "Epoch 87/150\n",
            "235/235 [==============================] - 3s 11ms/step - loss: 0.0387 - accuracy: 0.9894 - val_loss: 0.0680 - val_accuracy: 0.9836\n",
            "Epoch 88/150\n",
            "235/235 [==============================] - 3s 11ms/step - loss: 0.0385 - accuracy: 0.9895 - val_loss: 0.0746 - val_accuracy: 0.9814\n",
            "Epoch 89/150\n",
            "235/235 [==============================] - 3s 11ms/step - loss: 0.0379 - accuracy: 0.9897 - val_loss: 0.0755 - val_accuracy: 0.9813\n",
            "Epoch 90/150\n",
            "235/235 [==============================] - 3s 11ms/step - loss: 0.0377 - accuracy: 0.9898 - val_loss: 0.0740 - val_accuracy: 0.9829\n",
            "Epoch 91/150\n",
            "235/235 [==============================] - 3s 11ms/step - loss: 0.0370 - accuracy: 0.9899 - val_loss: 0.0660 - val_accuracy: 0.9839\n",
            "Epoch 92/150\n",
            "235/235 [==============================] - 3s 11ms/step - loss: 0.0364 - accuracy: 0.9901 - val_loss: 0.0667 - val_accuracy: 0.9842\n",
            "Epoch 93/150\n",
            "235/235 [==============================] - 3s 11ms/step - loss: 0.0362 - accuracy: 0.9901 - val_loss: 0.0661 - val_accuracy: 0.9843\n",
            "Epoch 94/150\n",
            "235/235 [==============================] - 2s 10ms/step - loss: 0.0359 - accuracy: 0.9902 - val_loss: 0.0643 - val_accuracy: 0.9845\n",
            "Epoch 95/150\n",
            "235/235 [==============================] - 2s 10ms/step - loss: 0.0354 - accuracy: 0.9903 - val_loss: 0.0695 - val_accuracy: 0.9835\n",
            "Epoch 96/150\n",
            "235/235 [==============================] - 2s 10ms/step - loss: 0.0350 - accuracy: 0.9906 - val_loss: 0.0674 - val_accuracy: 0.9838\n",
            "Epoch 97/150\n",
            "235/235 [==============================] - 2s 11ms/step - loss: 0.0346 - accuracy: 0.9905 - val_loss: 0.0664 - val_accuracy: 0.9839\n",
            "Epoch 98/150\n",
            "235/235 [==============================] - 2s 10ms/step - loss: 0.0344 - accuracy: 0.9907 - val_loss: 0.0666 - val_accuracy: 0.9844\n",
            "Epoch 99/150\n",
            "235/235 [==============================] - 2s 10ms/step - loss: 0.0337 - accuracy: 0.9907 - val_loss: 0.0680 - val_accuracy: 0.9838\n",
            "Epoch 100/150\n",
            "235/235 [==============================] - 2s 10ms/step - loss: 0.0336 - accuracy: 0.9908 - val_loss: 0.0646 - val_accuracy: 0.9849\n",
            "Epoch 101/150\n",
            "235/235 [==============================] - 2s 10ms/step - loss: 0.0332 - accuracy: 0.9909 - val_loss: 0.0656 - val_accuracy: 0.9844\n",
            "Epoch 102/150\n",
            "235/235 [==============================] - 2s 11ms/step - loss: 0.0330 - accuracy: 0.9910 - val_loss: 0.0651 - val_accuracy: 0.9841\n",
            "Epoch 103/150\n",
            "235/235 [==============================] - 2s 11ms/step - loss: 0.0324 - accuracy: 0.9911 - val_loss: 0.0627 - val_accuracy: 0.9848\n",
            "Epoch 104/150\n",
            "235/235 [==============================] - 2s 10ms/step - loss: 0.0319 - accuracy: 0.9913 - val_loss: 0.0685 - val_accuracy: 0.9838\n",
            "Epoch 105/150\n",
            "235/235 [==============================] - 2s 10ms/step - loss: 0.0319 - accuracy: 0.9913 - val_loss: 0.0663 - val_accuracy: 0.9842\n",
            "Epoch 106/150\n",
            "235/235 [==============================] - 3s 11ms/step - loss: 0.0315 - accuracy: 0.9915 - val_loss: 0.0655 - val_accuracy: 0.9848\n",
            "Epoch 107/150\n",
            "235/235 [==============================] - 2s 11ms/step - loss: 0.0314 - accuracy: 0.9914 - val_loss: 0.0699 - val_accuracy: 0.9839\n",
            "Epoch 108/150\n",
            "235/235 [==============================] - 2s 10ms/step - loss: 0.0312 - accuracy: 0.9915 - val_loss: 0.0647 - val_accuracy: 0.9847\n",
            "Epoch 109/150\n",
            "235/235 [==============================] - 3s 11ms/step - loss: 0.0305 - accuracy: 0.9916 - val_loss: 0.0671 - val_accuracy: 0.9844\n",
            "Epoch 110/150\n",
            "235/235 [==============================] - 3s 11ms/step - loss: 0.0302 - accuracy: 0.9917 - val_loss: 0.0636 - val_accuracy: 0.9850\n",
            "Epoch 111/150\n",
            "235/235 [==============================] - 3s 11ms/step - loss: 0.0299 - accuracy: 0.9918 - val_loss: 0.0671 - val_accuracy: 0.9845\n",
            "Epoch 112/150\n",
            "235/235 [==============================] - 3s 11ms/step - loss: 0.0296 - accuracy: 0.9919 - val_loss: 0.0695 - val_accuracy: 0.9842\n",
            "Epoch 113/150\n",
            "235/235 [==============================] - 3s 11ms/step - loss: 0.0292 - accuracy: 0.9920 - val_loss: 0.0669 - val_accuracy: 0.9848\n",
            "Epoch 114/150\n",
            "235/235 [==============================] - 3s 11ms/step - loss: 0.0290 - accuracy: 0.9921 - val_loss: 0.0675 - val_accuracy: 0.9841\n",
            "Epoch 115/150\n",
            "235/235 [==============================] - 3s 11ms/step - loss: 0.0283 - accuracy: 0.9923 - val_loss: 0.0650 - val_accuracy: 0.9849\n",
            "Epoch 116/150\n",
            "235/235 [==============================] - 3s 11ms/step - loss: 0.0286 - accuracy: 0.9921 - val_loss: 0.0636 - val_accuracy: 0.9853\n",
            "Epoch 117/150\n",
            "235/235 [==============================] - 3s 11ms/step - loss: 0.0281 - accuracy: 0.9923 - val_loss: 0.0687 - val_accuracy: 0.9843\n",
            "Epoch 118/150\n",
            "235/235 [==============================] - 3s 11ms/step - loss: 0.0277 - accuracy: 0.9925 - val_loss: 0.0648 - val_accuracy: 0.9852\n",
            "Epoch 119/150\n",
            "235/235 [==============================] - 3s 11ms/step - loss: 0.0276 - accuracy: 0.9924 - val_loss: 0.0684 - val_accuracy: 0.9846\n",
            "Epoch 120/150\n",
            "235/235 [==============================] - 3s 11ms/step - loss: 0.0273 - accuracy: 0.9924 - val_loss: 0.0683 - val_accuracy: 0.9846\n",
            "Epoch 121/150\n",
            "235/235 [==============================] - 3s 11ms/step - loss: 0.0272 - accuracy: 0.9926 - val_loss: 0.0702 - val_accuracy: 0.9843\n",
            "Epoch 122/150\n",
            "235/235 [==============================] - 3s 11ms/step - loss: 0.0273 - accuracy: 0.9926 - val_loss: 0.0735 - val_accuracy: 0.9833\n",
            "Epoch 123/150\n",
            "235/235 [==============================] - 2s 10ms/step - loss: 0.0269 - accuracy: 0.9927 - val_loss: 0.0695 - val_accuracy: 0.9844\n",
            "Epoch 124/150\n",
            "235/235 [==============================] - 2s 10ms/step - loss: 0.0264 - accuracy: 0.9928 - val_loss: 0.0695 - val_accuracy: 0.9842\n",
            "Epoch 125/150\n",
            "235/235 [==============================] - 2s 11ms/step - loss: 0.0261 - accuracy: 0.9928 - val_loss: 0.0707 - val_accuracy: 0.9844\n",
            "Epoch 126/150\n",
            "235/235 [==============================] - 2s 10ms/step - loss: 0.0258 - accuracy: 0.9928 - val_loss: 0.0719 - val_accuracy: 0.9840\n",
            "Epoch 127/150\n",
            "235/235 [==============================] - 2s 10ms/step - loss: 0.0259 - accuracy: 0.9929 - val_loss: 0.0731 - val_accuracy: 0.9839\n",
            "Epoch 128/150\n",
            "235/235 [==============================] - 2s 10ms/step - loss: 0.0255 - accuracy: 0.9930 - val_loss: 0.0714 - val_accuracy: 0.9843\n",
            "Epoch 129/150\n",
            "235/235 [==============================] - 2s 11ms/step - loss: 0.0251 - accuracy: 0.9932 - val_loss: 0.0665 - val_accuracy: 0.9851\n",
            "Epoch 130/150\n",
            "235/235 [==============================] - 2s 10ms/step - loss: 0.0248 - accuracy: 0.9932 - val_loss: 0.0693 - val_accuracy: 0.9848\n",
            "Epoch 131/150\n",
            "235/235 [==============================] - 3s 11ms/step - loss: 0.0247 - accuracy: 0.9933 - val_loss: 0.0709 - val_accuracy: 0.9840\n",
            "Epoch 132/150\n",
            "235/235 [==============================] - 2s 10ms/step - loss: 0.0245 - accuracy: 0.9933 - val_loss: 0.0694 - val_accuracy: 0.9848\n",
            "Epoch 133/150\n",
            "235/235 [==============================] - 2s 11ms/step - loss: 0.0239 - accuracy: 0.9935 - val_loss: 0.0689 - val_accuracy: 0.9848\n",
            "Epoch 134/150\n",
            "235/235 [==============================] - 2s 10ms/step - loss: 0.0239 - accuracy: 0.9935 - val_loss: 0.0707 - val_accuracy: 0.9844\n",
            "Epoch 135/150\n",
            "235/235 [==============================] - 3s 11ms/step - loss: 0.0237 - accuracy: 0.9935 - val_loss: 0.0689 - val_accuracy: 0.9851\n",
            "Epoch 136/150\n",
            "235/235 [==============================] - 3s 11ms/step - loss: 0.0234 - accuracy: 0.9936 - val_loss: 0.0713 - val_accuracy: 0.9850\n",
            "Epoch 137/150\n",
            "235/235 [==============================] - 3s 11ms/step - loss: 0.0233 - accuracy: 0.9935 - val_loss: 0.0682 - val_accuracy: 0.9850\n",
            "Epoch 138/150\n",
            "235/235 [==============================] - 3s 11ms/step - loss: 0.0234 - accuracy: 0.9936 - val_loss: 0.0655 - val_accuracy: 0.9858\n",
            "Epoch 139/150\n",
            "235/235 [==============================] - 3s 11ms/step - loss: 0.0230 - accuracy: 0.9937 - val_loss: 0.0709 - val_accuracy: 0.9848\n",
            "Epoch 140/150\n",
            "235/235 [==============================] - 3s 11ms/step - loss: 0.0227 - accuracy: 0.9938 - val_loss: 0.0699 - val_accuracy: 0.9852\n",
            "Epoch 141/150\n",
            "235/235 [==============================] - 3s 11ms/step - loss: 0.0225 - accuracy: 0.9938 - val_loss: 0.0691 - val_accuracy: 0.9850\n",
            "Epoch 142/150\n",
            "235/235 [==============================] - 3s 11ms/step - loss: 0.0226 - accuracy: 0.9937 - val_loss: 0.0673 - val_accuracy: 0.9853\n",
            "Epoch 143/150\n",
            "235/235 [==============================] - 3s 11ms/step - loss: 0.0223 - accuracy: 0.9937 - val_loss: 0.0761 - val_accuracy: 0.9836\n",
            "Epoch 144/150\n",
            "235/235 [==============================] - 3s 11ms/step - loss: 0.0219 - accuracy: 0.9940 - val_loss: 0.0706 - val_accuracy: 0.9850\n",
            "Epoch 145/150\n",
            "235/235 [==============================] - 2s 11ms/step - loss: 0.0217 - accuracy: 0.9941 - val_loss: 0.0711 - val_accuracy: 0.9851\n",
            "Epoch 146/150\n",
            "235/235 [==============================] - 3s 11ms/step - loss: 0.0215 - accuracy: 0.9940 - val_loss: 0.0678 - val_accuracy: 0.9852\n",
            "Epoch 147/150\n",
            "235/235 [==============================] - 2s 10ms/step - loss: 0.0213 - accuracy: 0.9941 - val_loss: 0.0738 - val_accuracy: 0.9846\n",
            "Epoch 148/150\n",
            "235/235 [==============================] - 3s 11ms/step - loss: 0.0211 - accuracy: 0.9943 - val_loss: 0.0728 - val_accuracy: 0.9843\n",
            "Epoch 149/150\n",
            "235/235 [==============================] - 2s 11ms/step - loss: 0.0210 - accuracy: 0.9941 - val_loss: 0.0718 - val_accuracy: 0.9852\n",
            "Epoch 150/150\n",
            "235/235 [==============================] - 2s 10ms/step - loss: 0.0213 - accuracy: 0.9942 - val_loss: 0.0748 - val_accuracy: 0.9845\n"
          ],
          "name": "stdout"
        },
        {
          "output_type": "stream",
          "text": [
            "WARNING:absl:Found untraced functions such as lstm_cell_1_layer_call_fn, lstm_cell_1_layer_call_and_return_conditional_losses, lstm_cell_2_layer_call_fn, lstm_cell_2_layer_call_and_return_conditional_losses, lstm_cell_1_layer_call_fn while saving (showing 5 of 10). These functions will not be directly callable after loading.\n"
          ],
          "name": "stderr"
        },
        {
          "output_type": "stream",
          "text": [
            "INFO:tensorflow:Assets written to: s2s/assets\n"
          ],
          "name": "stdout"
        },
        {
          "output_type": "stream",
          "text": [
            "INFO:tensorflow:Assets written to: s2s/assets\n"
          ],
          "name": "stderr"
        }
      ]
    },
    {
      "cell_type": "code",
      "metadata": {
        "colab": {
          "base_uri": "https://localhost:8080/",
          "height": 422
        },
        "id": "tjxBF_LSdSCq",
        "outputId": "cbd86726-2dee-445c-d4ce-b8cc4e8888c9"
      },
      "source": [
        "from tensorflow.keras.utils import plot_model\n",
        "plot_model(\n",
        "    model,\n",
        "    to_file=\"model.png\",\n",
        "    show_shapes=True,\n",
        "    show_dtype=False,\n",
        "    show_layer_names=True,\n",
        "    rankdir=\"TB\",\n",
        "    expand_nested=False,\n",
        "    dpi=96,\n",
        ")"
      ],
      "execution_count": 14,
      "outputs": [
        {
          "output_type": "execute_result",
          "data": {
            "image/png": "[encoded data removed]",
            "text/plain": [
              "<IPython.core.display.Image object>"
            ]
          },
          "metadata": {
            "tags": []
          },
          "execution_count": 14
        }
      ]
    },
    {
      "cell_type": "markdown",
      "metadata": {
        "id": "EIj-kPrq8V4I"
      },
      "source": [
        "testing with validation"
      ]
    },
    {
      "cell_type": "code",
      "metadata": {
        "id": "GF8UGyHXqS37"
      },
      "source": [
        "# Define sampling models\n",
        "# Restore the model and construct the encoder and decoder.\n",
        "model = keras.models.load_model(\"s2s\")\n",
        "\n",
        "encoder_inputs = model.input[0]  # input_1\n",
        "encoder_outputs, state_h_enc, state_c_enc = model.layers[2].output  # lstm_1\n",
        "encoder_states = [state_h_enc, state_c_enc]\n",
        "encoder_model = keras.Model(encoder_inputs, encoder_states)\n",
        "\n",
        "decoder_inputs = model.input[1]  # input_2\n",
        "decoder_state_input_h = keras.Input(shape=(latent_dim,), name=\"input_4\")\n",
        "decoder_state_input_c = keras.Input(shape=(latent_dim,), name=\"input_5\")\n",
        "decoder_states_inputs = [decoder_state_input_h, decoder_state_input_c]\n",
        "decoder_lstm = model.layers[3]\n",
        "decoder_outputs, state_h_dec, state_c_dec = decoder_lstm(\n",
        "    decoder_inputs, initial_state=decoder_states_inputs\n",
        ")\n",
        "decoder_states = [state_h_dec, state_c_dec]\n",
        "decoder_dense = model.layers[4]\n",
        "decoder_outputs = decoder_dense(decoder_outputs)\n",
        "decoder_model = keras.Model(\n",
        "    [decoder_inputs] + decoder_states_inputs, [decoder_outputs] + decoder_states\n",
        ")\n",
        "\n",
        "# Reverse-lookup token index to decode sequences back to\n",
        "# something readable.\n",
        "reverse_input_char_index = dict((i, char) for char, i in input_token_index.items())\n",
        "reverse_target_char_index = dict((i, char) for char, i in target_token_index.items())\n",
        "\n",
        "\n",
        "def decode_sequence(input_seq):\n",
        "    # Encode the input as state vectors.\n",
        "    states_value = encoder_model.predict(input_seq)\n",
        "\n",
        "    # Generate empty target sequence of length 1.\n",
        "    target_seq = np.zeros((1, 1, num_decoder_tokens))\n",
        "    # Populate the first character of target sequence with the start character.\n",
        "    target_seq[0, 0, target_token_index[\"\\t\"]] = 1.0\n",
        "\n",
        "    # Sampling loop for a batch of sequences\n",
        "    # (to simplify, here we assume a batch of size 1).\n",
        "    stop_condition = False\n",
        "    decoded_sentence = \"\"\n",
        "    while not stop_condition:\n",
        "        output_tokens, h, c = decoder_model.predict([target_seq] + states_value)\n",
        "\n",
        "        # Sample a token\n",
        "        sampled_token_index = np.argmax(output_tokens[0, -1, :])\n",
        "        sampled_char = reverse_target_char_index[sampled_token_index]\n",
        "        decoded_sentence += sampled_char\n",
        "\n",
        "        # Exit condition: either hit max length\n",
        "        # or find stop character.\n",
        "        if sampled_char == \"\\n\" or len(decoded_sentence) > max_decoder_seq_length:\n",
        "            stop_condition = True\n",
        "\n",
        "        # Update the target sequence (of length 1).\n",
        "        target_seq = np.zeros((1, 1, num_decoder_tokens))\n",
        "        target_seq[0, 0, sampled_token_index] = 1.0\n",
        "\n",
        "        # Update states\n",
        "        states_value = [h, c]\n",
        "    return decoded_sentence"
      ],
      "execution_count": 16,
      "outputs": []
    },
    {
      "cell_type": "code",
      "metadata": {
        "colab": {
          "base_uri": "https://localhost:8080/"
        },
        "id": "CvlCdwZP8OGR",
        "outputId": "2c40d7ed-8119-469d-a84f-a4ca7a659bf1"
      },
      "source": [
        "for seq_index in range(50):\n",
        "    # Take one sequence (part of the training set)\n",
        "    # for trying out decoding.\n",
        "    input_seq = encoder_input_data[seq_index : seq_index + 1]\n",
        "    decoded_sentence = decode_sequence(input_seq)\n",
        "    print(\"-\")\n",
        "    print(\"Input sentence:\", input_texts[seq_index])\n",
        "    print(\"Decoded sentence:\", decoded_sentence)"
      ],
      "execution_count": 18,
      "outputs": [
        {
          "output_type": "stream",
          "text": [
            "-\n",
            "Input sentence: rt\n",
            "Decoded sentence: rt\n",
            "\n",
            "-\n",
            "Input sentence: @teddyferrari1\n",
            "Decoded sentence: @teddeffirkero\n",
            "\n",
            "-\n",
            "Input sentence: :\n",
            "Decoded sentence: :\n",
            "\n",
            "-\n",
            "Input sentence: \"\n",
            "Decoded sentence: \"\n",
            "\n",
            "-\n",
            "Input sentence: ah\n",
            "Decoded sentence: ah\n",
            "\n",
            "-\n",
            "Input sentence: ...\n",
            "Decoded sentence: ...\n",
            "\n",
            "-\n",
            "Input sentence: @datzmenoni\n",
            "Decoded sentence: @datmezinno\n",
            "\n",
            "-\n",
            "Input sentence: :\n",
            "Decoded sentence: :\n",
            "\n",
            "-\n",
            "Input sentence: why\n",
            "Decoded sentence: why\n",
            "\n",
            "-\n",
            "Input sentence: sub\n",
            "Decoded sentence: sub\n",
            "\n",
            "-\n",
            "Input sentence: ozil\n",
            "Decoded sentence: ozil\n",
            "\n",
            "-\n",
            "Input sentence: \"\n",
            "Decoded sentence: \"\n",
            "\n",
            "-\n",
            "Input sentence: @lexzydoo_ab\n",
            "Decoded sentence: @lexzydaoou_\n",
            "\n",
            "-\n",
            "Input sentence: :\n",
            "Decoded sentence: :\n",
            "\n",
            "-\n",
            "Input sentence: opolo\n",
            "Decoded sentence: opolo\n",
            "\n",
            "-\n",
            "Input sentence: eyes\n",
            "Decoded sentence: eyes\n",
            "\n",
            "-\n",
            "Input sentence: u\n",
            "Decoded sentence: you\n",
            "\n",
            "-\n",
            "Input sentence: no\n",
            "Decoded sentence: no\n",
            "\n",
            "-\n",
            "Input sentence: fit\n",
            "Decoded sentence: fit\n",
            "\n",
            "-\n",
            "Input sentence: open\n",
            "Decoded sentence: open\n",
            "\n",
            "-\n",
            "Input sentence: eyes\n",
            "Decoded sentence: eyes\n",
            "\n",
            "-\n",
            "Input sentence: \"\"\n",
            "Decoded sentence: \"\"\n",
            "\n",
            "-\n",
            "Input sentence: u\n",
            "Decoded sentence: you\n",
            "\n",
            "-\n",
            "Input sentence: have\n",
            "Decoded sentence: have\n",
            "\n",
            "-\n",
            "Input sentence: a\n",
            "Decoded sentence: a\n",
            "\n",
            "-\n",
            "Input sentence: very\n",
            "Decoded sentence: very\n",
            "\n",
            "-\n",
            "Input sentence: sexy\n",
            "Decoded sentence: sexy\n",
            "\n",
            "-\n",
            "Input sentence: header\n",
            "Decoded sentence: header\n",
            "\n",
            "-\n",
            "Input sentence: @jaibrooks1\n",
            "Decoded sentence: @jairobkobr\n",
            "\n",
            "-\n",
            "Input sentence: rawr\n",
            "Decoded sentence: rawr\n",
            "\n",
            "-\n",
            "Input sentence: i\n",
            "Decoded sentence: i\n",
            "\n",
            "-\n",
            "Input sentence: miss\n",
            "Decoded sentence: miss\n",
            "\n",
            "-\n",
            "Input sentence: u\n",
            "Decoded sentence: you\n",
            "\n",
            "-\n",
            "Input sentence: my\n",
            "Decoded sentence: my\n",
            "\n",
            "-\n",
            "Input sentence: bie\n",
            "Decoded sentence: bie\n",
            "\n",
            "-\n",
            "Input sentence: !\n",
            "Decoded sentence: !\n",
            "\n",
            "-\n",
            "Input sentence: where\n",
            "Decoded sentence: where\n",
            "\n",
            "-\n",
            "Input sentence: u\n",
            "Decoded sentence: you\n",
            "\n",
            "-\n",
            "Input sentence: wanna\n",
            "Decoded sentence: want to\n",
            "\n",
            "-\n",
            "Input sentence: out\n",
            "Decoded sentence: out\n",
            "\n",
            "-\n",
            "Input sentence: wif\n",
            "Decoded sentence: wift\n",
            "\n",
            "-\n",
            "Input sentence: me\n",
            "Decoded sentence: me\n",
            "\n",
            "-\n",
            "Input sentence: ?\n",
            "Decoded sentence: ?\n",
            "\n",
            "-\n",
            "Input sentence: have\n",
            "Decoded sentence: have\n",
            "\n",
            "-\n",
            "Input sentence: a\n",
            "Decoded sentence: a\n",
            "\n",
            "-\n",
            "Input sentence: wonderful\n",
            "Decoded sentence: wonderful\n",
            "\n",
            "-\n",
            "Input sentence: day\n",
            "Decoded sentence: day\n",
            "\n",
            "-\n",
            "Input sentence: like\n",
            "Decoded sentence: like\n",
            "\n",
            "-\n",
            "Input sentence: a\n",
            "Decoded sentence: a\n",
            "\n",
            "-\n",
            "Input sentence: swan\n",
            "Decoded sentence: swan\n",
            "\n"
          ],
          "name": "stdout"
        }
      ]
    },
    {
      "cell_type": "code",
      "metadata": {
        "id": "Y8qex4uB8PKz"
      },
      "source": [
        ""
      ],
      "execution_count": null,
      "outputs": []
    },
    {
      "cell_type": "markdown",
      "metadata": {
        "id": "sRMGrhk-8SAa"
      },
      "source": [
        "Testing with dev"
      ]
    },
    {
      "cell_type": "code",
      "metadata": {
        "id": "PKYJA1KYdsN_"
      },
      "source": [
        "test_data_path = '/content/drive/MyDrive/NLP/Lexical Normalisation/Multilexnorm Challenge/English/dev.norm.txt'"
      ],
      "execution_count": null,
      "outputs": []
    },
    {
      "cell_type": "code",
      "metadata": {
        "id": "SBVa5N3Md7LN"
      },
      "source": [
        "f = open(test_data_path, 'r')\n",
        "print(f.read())\n",
        "f.close()"
      ],
      "execution_count": null,
      "outputs": []
    },
    {
      "cell_type": "code",
      "metadata": {
        "id": "Rtvz4Jvtdxyn"
      },
      "source": [
        "# Vectorize the data.\n",
        "input_texts = []\n",
        "#target_texts = []\n",
        "input_characters = set()\n",
        "#target_characters = set()\n",
        "with open(data_path, \"r\", encoding=\"utf-8\") as f:\n",
        "    lines = f.readlines()\n",
        "for line in lines[: min(num_samples, len(lines) - 1)]:\n",
        "  if line=='\\n':\n",
        "    continue\n",
        "  else:\n",
        "    input_text, target_text= line.split(\"\\t\")\n",
        "    # We use \"tab\" as the \"start sequence\" character\n",
        "    # for the targets, and \"\\n\" as \"end sequence\" character.\n",
        "    #target_text = \"\\t\" + target_text + \"\\n\"\n",
        "    input_texts.append(input_text)\n",
        "    #target_texts.append(target_text)\n",
        "    for char in input_text:\n",
        "        if char not in input_characters:\n",
        "            input_characters.add(char)\n",
        "    '''for char in target_text:\n",
        "        if char not in target_characters:\n",
        "            target_characters.add(char)'''"
      ],
      "execution_count": null,
      "outputs": []
    },
    {
      "cell_type": "code",
      "metadata": {
        "id": "qkPZvdyBepcu"
      },
      "source": [
        "input_texts"
      ],
      "execution_count": null,
      "outputs": []
    },
    {
      "cell_type": "code",
      "metadata": {
        "id": "jbRb7j1qetXu"
      },
      "source": [
        "input_characters = sorted(list(input_characters))\n",
        "num_encoder_tokens = len(input_characters)\n",
        "max_encoder_seq_length = max([len(txt) for txt in input_texts])"
      ],
      "execution_count": null,
      "outputs": []
    },
    {
      "cell_type": "code",
      "metadata": {
        "id": "n3QCmCqee1Y5"
      },
      "source": [
        "input_token_index = dict([(char, i) for i, char in enumerate(input_characters)])\n",
        "\n",
        "encoder_input_data = np.zeros(\n",
        "    (len(input_texts), max_encoder_seq_length, num_encoder_tokens), dtype=\"float32\"\n",
        ")"
      ],
      "execution_count": null,
      "outputs": []
    },
    {
      "cell_type": "code",
      "metadata": {
        "id": "Gc5znN7Pe8GX"
      },
      "source": [
        "for i, (input_text, target_text) in enumerate(zip(input_texts, target_texts)):\n",
        "    for t, char in enumerate(input_text):\n",
        "        encoder_input_data[i, t, input_token_index[char]] = 1.0\n",
        "    #encoder_input_data[i, t + 1 :, input_token_index[' ']] = 1.0"
      ],
      "execution_count": null,
      "outputs": []
    },
    {
      "cell_type": "code",
      "metadata": {
        "id": "imDqBr6jhcgG"
      },
      "source": [
        "input_seq = encoder_input_data\n",
        "decoded_sentence = decode_sequence(input_seq)\n",
        "print(\"-\")\n",
        "print(\"Input sentence:\", input_texts[seq_index])\n",
        "print(\"Decoded sentence:\", decoded_sentence)"
      ],
      "execution_count": null,
      "outputs": []
    },
    {
      "cell_type": "code",
      "metadata": {
        "id": "m48RmHg2qVkV"
      },
      "source": [
        ""
      ],
      "execution_count": null,
      "outputs": []
    },
    {
      "cell_type": "markdown",
      "metadata": {
        "id": "-LiZmcoCCuY-"
      },
      "source": [
        "Spanish"
      ]
    },
    {
      "cell_type": "code",
      "metadata": {
        "id": "YaOEolHuCvO-"
      },
      "source": [
        "es_data_path = '/content/drive/MyDrive/NLP/Lexical Normalisation/Multilexnorm Challenge/Spanish/train.norm.txt'"
      ],
      "execution_count": null,
      "outputs": []
    }
  ]
}
