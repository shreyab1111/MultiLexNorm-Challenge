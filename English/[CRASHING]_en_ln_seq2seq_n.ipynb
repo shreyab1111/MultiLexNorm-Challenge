{
  "nbformat": 4,
  "nbformat_minor": 0,
  "metadata": {
    "colab": {
      "name": "Copy of en-ln-seq2seq-n.ipynb",
      "provenance": [],
      "collapsed_sections": []
    },
    "kernelspec": {
      "name": "python3",
      "display_name": "Python 3"
    },
    "language_info": {
      "name": "python"
    },
    "accelerator": "GPU"
  },
  "cells": [
    {
      "cell_type": "markdown",
      "metadata": {
        "id": "uzBVQkjAFSpR"
      },
      "source": [
        "# English Seq-2-Seq Normalisation"
      ]
    },
    {
      "cell_type": "code",
      "metadata": {
        "id": "17JYgmWqoFO8"
      },
      "source": [
        "import numpy as np\n",
        "import tensorflow as tf\n",
        "import keras\n",
        "import os\n",
        "import string"
      ],
      "execution_count": 12,
      "outputs": []
    },
    {
      "cell_type": "markdown",
      "metadata": {
        "id": "Qnsf7hnBCpIC"
      },
      "source": [
        "English"
      ]
    },
    {
      "cell_type": "code",
      "metadata": {
        "colab": {
          "base_uri": "https://localhost:8080/"
        },
        "id": "BLU8unRKHDA_",
        "outputId": "76f9f155-809f-49c5-8d60-05f1d6c51c1b"
      },
      "source": [
        "# Data_Path - May vary for user to user, so written separately\n",
        "\n",
        "# Mounting drive for accessing data.\n",
        "from google.colab import drive\n",
        "\n",
        "drive.mount('/content/drive', force_remount=True)\n",
        "data_path = f'/content/drive/MyDrive/NLP_Data/MultiLex_Norm/Multilexnorm Challenge/English/train.norm.txt'"
      ],
      "execution_count": 13,
      "outputs": [
        {
          "output_type": "stream",
          "text": [
            "Mounted at /content/drive\n"
          ],
          "name": "stdout"
        }
      ]
    },
    {
      "cell_type": "code",
      "metadata": {
        "id": "oqYRZRn7oLCM"
      },
      "source": [
        "batch_size = 64  # Batch size for training.\n",
        "epochs = 150  # Number of epochs to train for.\n",
        "latent_dim = 68  # Latent dimensionality of the encoding space.\n",
        "num_samples = 20000  # Number of samples to train on."
      ],
      "execution_count": 14,
      "outputs": []
    },
    {
      "cell_type": "code",
      "metadata": {
        "id": "tp5oCVVtKOm6"
      },
      "source": [
        "# Pre-Processor\n",
        "def should_include_string(\n",
        "    input_string : str,\n",
        "    ):\n",
        "    '''\n",
        "    Returns a boolean that indicates whether we need\n",
        "    to insert it in the text vocabulary or not.\n",
        "\n",
        "    Args:\n",
        "      input_string : (str) string to clean\n",
        "\n",
        "    Returns:\n",
        "      boolean\n",
        "    '''\n",
        "    # ' - this character might be important, retaining it\n",
        "    filter_str = string.punctuation.replace(\"\\'\", \"\")\n",
        "\n",
        "    new_string = input_string.translate(str.maketrans('', '', filter_str))\n",
        "\n",
        "    if new_string == input_string:\n",
        "        return True\n",
        "    return False"
      ],
      "execution_count": 15,
      "outputs": []
    },
    {
      "cell_type": "markdown",
      "metadata": {
        "id": "kXpZ8zmgtQQD"
      },
      "source": [
        "Character encoding"
      ]
    },
    {
      "cell_type": "code",
      "metadata": {
        "colab": {
          "base_uri": "https://localhost:8080/"
        },
        "id": "Y15wH0J3oNl1",
        "outputId": "947342d8-6268-45c2-c39b-cf64db258fb7"
      },
      "source": [
        "# Vectorize the data.\n",
        "input_texts = []\n",
        "target_texts = []\n",
        "input_characters = set()\n",
        "target_characters = set()\n",
        "with open(data_path, \"r\", encoding=\"utf-8\") as f:\n",
        "    lines = f.readlines()\n",
        "\n",
        "for line in lines[: min(num_samples, len(lines) - 1)]:\n",
        "  if line=='\\n':\n",
        "    continue\n",
        "  else:\n",
        "    input_text, target_text= line.split(\"\\t\")\n",
        "    # We use \"tab\" as the \"start sequence\" character\n",
        "    # for the targets, and \"\\n\" as \"end sequence\" character.\n",
        "    if(should_include_string(input_text)):\n",
        "        target_text = \"\\t\" + target_text + \"\\n\"\n",
        "        input_texts.append(input_text)\n",
        "        target_texts.append(target_text)\n",
        "        for char in input_text:\n",
        "            if char not in input_characters:\n",
        "                input_characters.add(char)\n",
        "        for char in target_text:\n",
        "            if char not in target_characters:\n",
        "                target_characters.add(char)\n",
        "\n",
        "input_characters = sorted(list(input_characters))\n",
        "target_characters = sorted(list(target_characters))\n",
        "num_encoder_tokens = len(input_characters)\n",
        "num_decoder_tokens = len(target_characters)\n",
        "max_encoder_seq_length = max([len(txt) for txt in input_texts])\n",
        "max_decoder_seq_length = max([len(txt) for txt in target_texts])\n",
        "\n",
        "print(\"Number of samples:\", len(input_texts))\n",
        "print(\"Number of unique input tokens:\", num_encoder_tokens)\n",
        "print(\"Number of unique output tokens:\", num_decoder_tokens)\n",
        "print(\"Max sequence length for inputs:\", max_encoder_seq_length)\n",
        "print(\"Max sequence length for outputs:\", max_decoder_seq_length)"
      ],
      "execution_count": 16,
      "outputs": [
        {
          "output_type": "stream",
          "text": [
            "Number of samples: 14525\n",
            "Number of unique input tokens: 37\n",
            "Number of unique output tokens: 40\n",
            "Max sequence length for inputs: 21\n",
            "Max sequence length for outputs: 39\n"
          ],
          "name": "stdout"
        }
      ]
    },
    {
      "cell_type": "markdown",
      "metadata": {
        "id": "m2rgulyotMnp"
      },
      "source": [
        "encoder_input_data is a 3D array of shape (num_pairs, max_english_sentence_length, num_english_characters) containing a one-hot vectorization of the English sentences.\n",
        "\n",
        "decoder_input_data is a 3D array of shape (num_pairs, max_french_sentence_length, num_french_characters) containg a one-hot vectorization of the French sentences.\n",
        "\n",
        "decoder_target_data is the same as decoder_input_data but offset by one timestep. decoder_target_data[:, t, :] will be the same as decoder_input_data[:, t + 1, :]."
      ]
    },
    {
      "cell_type": "code",
      "metadata": {
        "id": "zgLeI1FDtIim"
      },
      "source": [
        "input_token_index = dict([(char, i) for i, char in enumerate(input_characters)])\n",
        "target_token_index = dict([(char, i) for i, char in enumerate(target_characters)])\n",
        "\n",
        "encoder_input_data = np.zeros(\n",
        "    (len(input_texts), max_encoder_seq_length, num_encoder_tokens), dtype=\"float32\"\n",
        ")\n",
        "decoder_input_data = np.zeros(\n",
        "    (len(input_texts), max_decoder_seq_length, num_decoder_tokens), dtype=\"float32\"\n",
        ")\n",
        "decoder_target_data = np.zeros(\n",
        "    (len(input_texts), max_decoder_seq_length, num_decoder_tokens), dtype=\"float32\"\n",
        ")"
      ],
      "execution_count": 17,
      "outputs": []
    },
    {
      "cell_type": "markdown",
      "metadata": {
        "id": "18xsjDSctEAq"
      },
      "source": [
        "one hot rep"
      ]
    },
    {
      "cell_type": "code",
      "metadata": {
        "id": "BUOnWjmVtCuO"
      },
      "source": [
        "for i, (input_text, target_text) in enumerate(zip(input_texts, target_texts)):\n",
        "    for t, char in enumerate(input_text):\n",
        "        encoder_input_data[i, t, input_token_index[char]] = 1.0\n",
        "    #encoder_input_data[i, t + 1 :, input_token_index[' ']] = 1.0\n",
        "    for t, char in enumerate(target_text):\n",
        "        # decoder_target_data is ahead of decoder_input_data by one timestep\n",
        "        decoder_input_data[i, t, target_token_index[char]] = 1.0\n",
        "        if t > 0:\n",
        "            # decoder_target_data will be ahead by one timestep\n",
        "            # and will not include the start character.\n",
        "            decoder_target_data[i, t - 1, target_token_index[char]] = 1.0\n",
        "    decoder_input_data[i, t + 1 :, target_token_index[' ']] = 1.0\n",
        "    decoder_target_data[i, t:, target_token_index[' ']] = 1.0"
      ],
      "execution_count": 18,
      "outputs": []
    },
    {
      "cell_type": "code",
      "metadata": {
        "id": "b4QqON8DoQSM"
      },
      "source": [
        "# Define an input sequence and process it.\n",
        "encoder_inputs = keras.Input(shape=(None, num_encoder_tokens))\n",
        "encoder = keras.layers.LSTM(latent_dim, return_state=True)\n",
        "encoder_outputs, state_h, state_c = encoder(encoder_inputs)\n",
        "\n",
        "# We discard `encoder_outputs` and only keep the states.\n",
        "encoder_states = [state_h, state_c]\n",
        "\n",
        "# Set up the decoder, using `encoder_states` as initial state.\n",
        "decoder_inputs = keras.Input(shape=(None, num_decoder_tokens))\n",
        "\n",
        "# We set up our decoder to return full output sequences,\n",
        "# and to return internal states as well. We don't use the\n",
        "# return states in the training model, but we will use them in inference.\n",
        "decoder_lstm = keras.layers.LSTM(latent_dim, return_sequences=True, return_state=True)\n",
        "decoder_outputs, _, _ = decoder_lstm(decoder_inputs, initial_state=encoder_states)\n",
        "decoder_dense = keras.layers.Dense(num_decoder_tokens, activation=\"softmax\")\n",
        "decoder_outputs = decoder_dense(decoder_outputs)\n",
        "\n",
        "# Define the model that will turn\n",
        "# `encoder_input_data` & `decoder_input_data` into `decoder_target_data`\n",
        "model = keras.Model([encoder_inputs, decoder_inputs], decoder_outputs)"
      ],
      "execution_count": 19,
      "outputs": []
    },
    {
      "cell_type": "code",
      "metadata": {
        "colab": {
          "base_uri": "https://localhost:8080/"
        },
        "id": "89rHyXfDoT3z",
        "outputId": "7fff328a-2038-4c68-9c21-070fc3c15c3d"
      },
      "source": [
        "model.compile(\n",
        "    optimizer=\"rmsprop\", loss=\"categorical_crossentropy\", metrics=[\"accuracy\"]\n",
        ")\n",
        "model.fit(\n",
        "    [encoder_input_data, decoder_input_data],\n",
        "    decoder_target_data,\n",
        "    batch_size=batch_size,\n",
        "    epochs=epochs,\n",
        "    validation_split=0.25,\n",
        "    verbose = 2\n",
        ")\n",
        "# Save model\n",
        "model.save(\"s2s\")"
      ],
      "execution_count": 21,
      "outputs": [
        {
          "output_type": "stream",
          "text": [
            "Epoch 1/150\n",
            "171/171 - 60s - loss: 0.0354 - accuracy: 0.9909 - val_loss: 0.0453 - val_accuracy: 0.9888\n",
            "Epoch 2/150\n",
            "171/171 - 1s - loss: 0.0342 - accuracy: 0.9911 - val_loss: 0.0664 - val_accuracy: 0.9831\n",
            "Epoch 3/150\n",
            "171/171 - 1s - loss: 0.0328 - accuracy: 0.9916 - val_loss: 0.0558 - val_accuracy: 0.9857\n",
            "Epoch 4/150\n",
            "171/171 - 1s - loss: 0.0321 - accuracy: 0.9920 - val_loss: 0.0503 - val_accuracy: 0.9874\n",
            "Epoch 5/150\n",
            "171/171 - 1s - loss: 0.0310 - accuracy: 0.9921 - val_loss: 0.0563 - val_accuracy: 0.9854\n",
            "Epoch 6/150\n",
            "171/171 - 1s - loss: 0.0306 - accuracy: 0.9921 - val_loss: 0.0505 - val_accuracy: 0.9875\n",
            "Epoch 7/150\n",
            "171/171 - 1s - loss: 0.0303 - accuracy: 0.9923 - val_loss: 0.0529 - val_accuracy: 0.9871\n",
            "Epoch 8/150\n",
            "171/171 - 1s - loss: 0.0290 - accuracy: 0.9927 - val_loss: 0.0549 - val_accuracy: 0.9859\n",
            "Epoch 9/150\n",
            "171/171 - 1s - loss: 0.0283 - accuracy: 0.9928 - val_loss: 0.0549 - val_accuracy: 0.9863\n",
            "Epoch 10/150\n",
            "171/171 - 1s - loss: 0.0277 - accuracy: 0.9928 - val_loss: 0.0501 - val_accuracy: 0.9875\n",
            "Epoch 11/150\n",
            "171/171 - 1s - loss: 0.0270 - accuracy: 0.9931 - val_loss: 0.0448 - val_accuracy: 0.9892\n",
            "Epoch 12/150\n",
            "171/171 - 1s - loss: 0.0265 - accuracy: 0.9933 - val_loss: 0.0561 - val_accuracy: 0.9870\n",
            "Epoch 13/150\n",
            "171/171 - 1s - loss: 0.0259 - accuracy: 0.9935 - val_loss: 0.0576 - val_accuracy: 0.9849\n",
            "Epoch 14/150\n",
            "171/171 - 1s - loss: 0.0254 - accuracy: 0.9935 - val_loss: 0.0483 - val_accuracy: 0.9883\n",
            "Epoch 15/150\n",
            "171/171 - 1s - loss: 0.0245 - accuracy: 0.9939 - val_loss: 0.0566 - val_accuracy: 0.9860\n",
            "Epoch 16/150\n",
            "171/171 - 1s - loss: 0.0241 - accuracy: 0.9939 - val_loss: 0.0442 - val_accuracy: 0.9897\n",
            "Epoch 17/150\n",
            "171/171 - 1s - loss: 0.0236 - accuracy: 0.9941 - val_loss: 0.0445 - val_accuracy: 0.9894\n",
            "Epoch 18/150\n",
            "171/171 - 1s - loss: 0.0231 - accuracy: 0.9942 - val_loss: 0.0636 - val_accuracy: 0.9850\n",
            "Epoch 19/150\n",
            "171/171 - 1s - loss: 0.0227 - accuracy: 0.9943 - val_loss: 0.0477 - val_accuracy: 0.9890\n",
            "Epoch 20/150\n",
            "171/171 - 1s - loss: 0.0221 - accuracy: 0.9945 - val_loss: 0.0472 - val_accuracy: 0.9886\n",
            "Epoch 21/150\n",
            "171/171 - 1s - loss: 0.0215 - accuracy: 0.9946 - val_loss: 0.0415 - val_accuracy: 0.9902\n",
            "Epoch 22/150\n",
            "171/171 - 1s - loss: 0.0212 - accuracy: 0.9948 - val_loss: 0.0526 - val_accuracy: 0.9874\n",
            "Epoch 23/150\n",
            "171/171 - 1s - loss: 0.0209 - accuracy: 0.9948 - val_loss: 0.0491 - val_accuracy: 0.9889\n",
            "Epoch 24/150\n",
            "171/171 - 1s - loss: 0.0205 - accuracy: 0.9948 - val_loss: 0.0412 - val_accuracy: 0.9905\n",
            "Epoch 25/150\n",
            "171/171 - 1s - loss: 0.0198 - accuracy: 0.9950 - val_loss: 0.0474 - val_accuracy: 0.9889\n",
            "Epoch 26/150\n",
            "171/171 - 1s - loss: 0.0195 - accuracy: 0.9951 - val_loss: 0.0457 - val_accuracy: 0.9891\n",
            "Epoch 27/150\n",
            "171/171 - 1s - loss: 0.0191 - accuracy: 0.9952 - val_loss: 0.0498 - val_accuracy: 0.9884\n",
            "Epoch 28/150\n",
            "171/171 - 1s - loss: 0.0187 - accuracy: 0.9953 - val_loss: 0.0416 - val_accuracy: 0.9903\n",
            "Epoch 29/150\n",
            "171/171 - 1s - loss: 0.0184 - accuracy: 0.9954 - val_loss: 0.0437 - val_accuracy: 0.9900\n",
            "Epoch 30/150\n",
            "171/171 - 1s - loss: 0.0179 - accuracy: 0.9955 - val_loss: 0.0427 - val_accuracy: 0.9905\n",
            "Epoch 31/150\n",
            "171/171 - 1s - loss: 0.0174 - accuracy: 0.9956 - val_loss: 0.0420 - val_accuracy: 0.9907\n",
            "Epoch 32/150\n",
            "171/171 - 1s - loss: 0.0173 - accuracy: 0.9957 - val_loss: 0.0401 - val_accuracy: 0.9909\n",
            "Epoch 33/150\n",
            "171/171 - 1s - loss: 0.0167 - accuracy: 0.9958 - val_loss: 0.0473 - val_accuracy: 0.9890\n",
            "Epoch 34/150\n",
            "171/171 - 1s - loss: 0.0165 - accuracy: 0.9961 - val_loss: 0.0391 - val_accuracy: 0.9915\n",
            "Epoch 35/150\n",
            "171/171 - 1s - loss: 0.0160 - accuracy: 0.9961 - val_loss: 0.0454 - val_accuracy: 0.9901\n",
            "Epoch 36/150\n",
            "171/171 - 1s - loss: 0.0159 - accuracy: 0.9961 - val_loss: 0.0426 - val_accuracy: 0.9907\n",
            "Epoch 37/150\n",
            "171/171 - 1s - loss: 0.0154 - accuracy: 0.9962 - val_loss: 0.0418 - val_accuracy: 0.9908\n",
            "Epoch 38/150\n",
            "171/171 - 1s - loss: 0.0152 - accuracy: 0.9962 - val_loss: 0.0455 - val_accuracy: 0.9897\n",
            "Epoch 39/150\n",
            "171/171 - 1s - loss: 0.0150 - accuracy: 0.9963 - val_loss: 0.0442 - val_accuracy: 0.9903\n",
            "Epoch 40/150\n",
            "171/171 - 1s - loss: 0.0147 - accuracy: 0.9963 - val_loss: 0.0502 - val_accuracy: 0.9886\n",
            "Epoch 41/150\n",
            "171/171 - 1s - loss: 0.0143 - accuracy: 0.9965 - val_loss: 0.0464 - val_accuracy: 0.9898\n",
            "Epoch 42/150\n",
            "171/171 - 1s - loss: 0.0138 - accuracy: 0.9965 - val_loss: 0.0446 - val_accuracy: 0.9901\n",
            "Epoch 43/150\n",
            "171/171 - 1s - loss: 0.0137 - accuracy: 0.9966 - val_loss: 0.0471 - val_accuracy: 0.9895\n",
            "Epoch 44/150\n",
            "171/171 - 1s - loss: 0.0136 - accuracy: 0.9966 - val_loss: 0.0440 - val_accuracy: 0.9903\n",
            "Epoch 45/150\n",
            "171/171 - 1s - loss: 0.0131 - accuracy: 0.9968 - val_loss: 0.0642 - val_accuracy: 0.9853\n",
            "Epoch 46/150\n",
            "171/171 - 1s - loss: 0.0129 - accuracy: 0.9968 - val_loss: 0.0458 - val_accuracy: 0.9899\n",
            "Epoch 47/150\n",
            "171/171 - 1s - loss: 0.0124 - accuracy: 0.9970 - val_loss: 0.0449 - val_accuracy: 0.9903\n",
            "Epoch 48/150\n",
            "171/171 - 1s - loss: 0.0124 - accuracy: 0.9970 - val_loss: 0.0458 - val_accuracy: 0.9904\n",
            "Epoch 49/150\n",
            "171/171 - 1s - loss: 0.0122 - accuracy: 0.9970 - val_loss: 0.0440 - val_accuracy: 0.9904\n",
            "Epoch 50/150\n",
            "171/171 - 1s - loss: 0.0118 - accuracy: 0.9972 - val_loss: 0.0422 - val_accuracy: 0.9910\n",
            "Epoch 51/150\n",
            "171/171 - 1s - loss: 0.0119 - accuracy: 0.9971 - val_loss: 0.0530 - val_accuracy: 0.9885\n",
            "Epoch 52/150\n",
            "171/171 - 1s - loss: 0.0115 - accuracy: 0.9972 - val_loss: 0.0403 - val_accuracy: 0.9916\n",
            "Epoch 53/150\n",
            "171/171 - 1s - loss: 0.0112 - accuracy: 0.9973 - val_loss: 0.0421 - val_accuracy: 0.9910\n",
            "Epoch 54/150\n",
            "171/171 - 1s - loss: 0.0109 - accuracy: 0.9974 - val_loss: 0.0435 - val_accuracy: 0.9909\n",
            "Epoch 55/150\n",
            "171/171 - 1s - loss: 0.0108 - accuracy: 0.9974 - val_loss: 0.0428 - val_accuracy: 0.9909\n",
            "Epoch 56/150\n",
            "171/171 - 1s - loss: 0.0107 - accuracy: 0.9974 - val_loss: 0.0447 - val_accuracy: 0.9907\n",
            "Epoch 57/150\n",
            "171/171 - 1s - loss: 0.0103 - accuracy: 0.9976 - val_loss: 0.0525 - val_accuracy: 0.9887\n",
            "Epoch 58/150\n",
            "171/171 - 1s - loss: 0.0102 - accuracy: 0.9975 - val_loss: 0.0461 - val_accuracy: 0.9904\n",
            "Epoch 59/150\n",
            "171/171 - 1s - loss: 0.0101 - accuracy: 0.9976 - val_loss: 0.0495 - val_accuracy: 0.9892\n",
            "Epoch 60/150\n",
            "171/171 - 1s - loss: 0.0100 - accuracy: 0.9976 - val_loss: 0.0422 - val_accuracy: 0.9917\n",
            "Epoch 61/150\n",
            "171/171 - 1s - loss: 0.0097 - accuracy: 0.9976 - val_loss: 0.0417 - val_accuracy: 0.9918\n",
            "Epoch 62/150\n",
            "171/171 - 1s - loss: 0.0095 - accuracy: 0.9977 - val_loss: 0.0485 - val_accuracy: 0.9899\n",
            "Epoch 63/150\n",
            "171/171 - 1s - loss: 0.0094 - accuracy: 0.9978 - val_loss: 0.0444 - val_accuracy: 0.9909\n",
            "Epoch 64/150\n",
            "171/171 - 1s - loss: 0.0091 - accuracy: 0.9977 - val_loss: 0.0449 - val_accuracy: 0.9906\n",
            "Epoch 65/150\n",
            "171/171 - 1s - loss: 0.0088 - accuracy: 0.9978 - val_loss: 0.0476 - val_accuracy: 0.9902\n",
            "Epoch 66/150\n",
            "171/171 - 1s - loss: 0.0087 - accuracy: 0.9979 - val_loss: 0.0462 - val_accuracy: 0.9905\n",
            "Epoch 67/150\n",
            "171/171 - 1s - loss: 0.0084 - accuracy: 0.9980 - val_loss: 0.0447 - val_accuracy: 0.9911\n",
            "Epoch 68/150\n",
            "171/171 - 1s - loss: 0.0085 - accuracy: 0.9979 - val_loss: 0.0512 - val_accuracy: 0.9894\n",
            "Epoch 69/150\n",
            "171/171 - 1s - loss: 0.0084 - accuracy: 0.9980 - val_loss: 0.0430 - val_accuracy: 0.9915\n",
            "Epoch 70/150\n",
            "171/171 - 1s - loss: 0.0082 - accuracy: 0.9981 - val_loss: 0.0449 - val_accuracy: 0.9910\n",
            "Epoch 71/150\n",
            "171/171 - 1s - loss: 0.0079 - accuracy: 0.9981 - val_loss: 0.0470 - val_accuracy: 0.9904\n",
            "Epoch 72/150\n",
            "171/171 - 1s - loss: 0.0079 - accuracy: 0.9981 - val_loss: 0.0466 - val_accuracy: 0.9904\n",
            "Epoch 73/150\n",
            "171/171 - 1s - loss: 0.0077 - accuracy: 0.9982 - val_loss: 0.0640 - val_accuracy: 0.9867\n",
            "Epoch 74/150\n",
            "171/171 - 1s - loss: 0.0075 - accuracy: 0.9983 - val_loss: 0.0430 - val_accuracy: 0.9913\n",
            "Epoch 75/150\n",
            "171/171 - 1s - loss: 0.0073 - accuracy: 0.9982 - val_loss: 0.0432 - val_accuracy: 0.9916\n",
            "Epoch 76/150\n",
            "171/171 - 1s - loss: 0.0073 - accuracy: 0.9983 - val_loss: 0.0436 - val_accuracy: 0.9917\n",
            "Epoch 77/150\n",
            "171/171 - 1s - loss: 0.0072 - accuracy: 0.9983 - val_loss: 0.0444 - val_accuracy: 0.9914\n",
            "Epoch 78/150\n",
            "171/171 - 1s - loss: 0.0068 - accuracy: 0.9985 - val_loss: 0.0488 - val_accuracy: 0.9904\n",
            "Epoch 79/150\n",
            "171/171 - 1s - loss: 0.0069 - accuracy: 0.9984 - val_loss: 0.0449 - val_accuracy: 0.9912\n",
            "Epoch 80/150\n",
            "171/171 - 1s - loss: 0.0069 - accuracy: 0.9983 - val_loss: 0.0584 - val_accuracy: 0.9886\n",
            "Epoch 81/150\n",
            "171/171 - 1s - loss: 0.0066 - accuracy: 0.9985 - val_loss: 0.0440 - val_accuracy: 0.9915\n",
            "Epoch 82/150\n",
            "171/171 - 1s - loss: 0.0065 - accuracy: 0.9985 - val_loss: 0.0437 - val_accuracy: 0.9915\n",
            "Epoch 83/150\n",
            "171/171 - 1s - loss: 0.0063 - accuracy: 0.9985 - val_loss: 0.0464 - val_accuracy: 0.9910\n",
            "Epoch 84/150\n",
            "171/171 - 1s - loss: 0.0064 - accuracy: 0.9986 - val_loss: 0.0502 - val_accuracy: 0.9905\n",
            "Epoch 85/150\n",
            "171/171 - 1s - loss: 0.0061 - accuracy: 0.9986 - val_loss: 0.0486 - val_accuracy: 0.9906\n",
            "Epoch 86/150\n",
            "171/171 - 1s - loss: 0.0061 - accuracy: 0.9985 - val_loss: 0.0499 - val_accuracy: 0.9902\n",
            "Epoch 87/150\n",
            "171/171 - 1s - loss: 0.0061 - accuracy: 0.9986 - val_loss: 0.0497 - val_accuracy: 0.9908\n",
            "Epoch 88/150\n",
            "171/171 - 1s - loss: 0.0058 - accuracy: 0.9986 - val_loss: 0.0563 - val_accuracy: 0.9892\n",
            "Epoch 89/150\n",
            "171/171 - 1s - loss: 0.0057 - accuracy: 0.9986 - val_loss: 0.0478 - val_accuracy: 0.9912\n",
            "Epoch 90/150\n",
            "171/171 - 1s - loss: 0.0056 - accuracy: 0.9987 - val_loss: 0.0465 - val_accuracy: 0.9914\n",
            "Epoch 91/150\n",
            "171/171 - 1s - loss: 0.0057 - accuracy: 0.9987 - val_loss: 0.0501 - val_accuracy: 0.9903\n",
            "Epoch 92/150\n",
            "171/171 - 1s - loss: 0.0057 - accuracy: 0.9986 - val_loss: 0.0489 - val_accuracy: 0.9906\n",
            "Epoch 93/150\n",
            "171/171 - 1s - loss: 0.0053 - accuracy: 0.9988 - val_loss: 0.0532 - val_accuracy: 0.9899\n",
            "Epoch 94/150\n",
            "171/171 - 1s - loss: 0.0053 - accuracy: 0.9987 - val_loss: 0.0561 - val_accuracy: 0.9892\n",
            "Epoch 95/150\n",
            "171/171 - 1s - loss: 0.0053 - accuracy: 0.9987 - val_loss: 0.0456 - val_accuracy: 0.9916\n",
            "Epoch 96/150\n",
            "171/171 - 1s - loss: 0.0051 - accuracy: 0.9988 - val_loss: 0.0477 - val_accuracy: 0.9910\n",
            "Epoch 97/150\n",
            "171/171 - 1s - loss: 0.0051 - accuracy: 0.9987 - val_loss: 0.0469 - val_accuracy: 0.9917\n",
            "Epoch 98/150\n",
            "171/171 - 1s - loss: 0.0052 - accuracy: 0.9988 - val_loss: 0.0576 - val_accuracy: 0.9890\n",
            "Epoch 99/150\n",
            "171/171 - 1s - loss: 0.0051 - accuracy: 0.9988 - val_loss: 0.0497 - val_accuracy: 0.9907\n",
            "Epoch 100/150\n",
            "171/171 - 1s - loss: 0.0047 - accuracy: 0.9989 - val_loss: 0.0542 - val_accuracy: 0.9894\n",
            "Epoch 101/150\n",
            "171/171 - 1s - loss: 0.0048 - accuracy: 0.9989 - val_loss: 0.0497 - val_accuracy: 0.9910\n",
            "Epoch 102/150\n",
            "171/171 - 1s - loss: 0.0048 - accuracy: 0.9988 - val_loss: 0.0537 - val_accuracy: 0.9901\n",
            "Epoch 103/150\n",
            "171/171 - 1s - loss: 0.0047 - accuracy: 0.9989 - val_loss: 0.0492 - val_accuracy: 0.9912\n",
            "Epoch 104/150\n",
            "171/171 - 1s - loss: 0.0045 - accuracy: 0.9989 - val_loss: 0.0551 - val_accuracy: 0.9901\n",
            "Epoch 105/150\n",
            "171/171 - 1s - loss: 0.0044 - accuracy: 0.9990 - val_loss: 0.0551 - val_accuracy: 0.9900\n",
            "Epoch 106/150\n",
            "171/171 - 1s - loss: 0.0044 - accuracy: 0.9990 - val_loss: 0.0483 - val_accuracy: 0.9913\n",
            "Epoch 107/150\n",
            "171/171 - 1s - loss: 0.0043 - accuracy: 0.9990 - val_loss: 0.0536 - val_accuracy: 0.9902\n",
            "Epoch 108/150\n",
            "171/171 - 1s - loss: 0.0043 - accuracy: 0.9990 - val_loss: 0.0504 - val_accuracy: 0.9910\n",
            "Epoch 109/150\n",
            "171/171 - 1s - loss: 0.0043 - accuracy: 0.9990 - val_loss: 0.0531 - val_accuracy: 0.9905\n",
            "Epoch 110/150\n",
            "171/171 - 1s - loss: 0.0042 - accuracy: 0.9990 - val_loss: 0.0502 - val_accuracy: 0.9911\n",
            "Epoch 111/150\n",
            "171/171 - 1s - loss: 0.0042 - accuracy: 0.9990 - val_loss: 0.0529 - val_accuracy: 0.9906\n",
            "Epoch 112/150\n",
            "171/171 - 1s - loss: 0.0039 - accuracy: 0.9990 - val_loss: 0.0529 - val_accuracy: 0.9908\n",
            "Epoch 113/150\n",
            "171/171 - 1s - loss: 0.0040 - accuracy: 0.9991 - val_loss: 0.0507 - val_accuracy: 0.9911\n",
            "Epoch 114/150\n",
            "171/171 - 1s - loss: 0.0039 - accuracy: 0.9991 - val_loss: 0.0518 - val_accuracy: 0.9910\n",
            "Epoch 115/150\n",
            "171/171 - 1s - loss: 0.0039 - accuracy: 0.9991 - val_loss: 0.0514 - val_accuracy: 0.9911\n",
            "Epoch 116/150\n",
            "171/171 - 1s - loss: 0.0040 - accuracy: 0.9990 - val_loss: 0.0492 - val_accuracy: 0.9916\n",
            "Epoch 117/150\n",
            "171/171 - 1s - loss: 0.0039 - accuracy: 0.9991 - val_loss: 0.0526 - val_accuracy: 0.9911\n",
            "Epoch 118/150\n",
            "171/171 - 1s - loss: 0.0037 - accuracy: 0.9992 - val_loss: 0.0510 - val_accuracy: 0.9910\n",
            "Epoch 119/150\n",
            "171/171 - 1s - loss: 0.0038 - accuracy: 0.9991 - val_loss: 0.0487 - val_accuracy: 0.9916\n",
            "Epoch 120/150\n",
            "171/171 - 1s - loss: 0.0035 - accuracy: 0.9992 - val_loss: 0.0511 - val_accuracy: 0.9912\n",
            "Epoch 121/150\n",
            "171/171 - 1s - loss: 0.0035 - accuracy: 0.9992 - val_loss: 0.0550 - val_accuracy: 0.9898\n",
            "Epoch 122/150\n",
            "171/171 - 1s - loss: 0.0035 - accuracy: 0.9992 - val_loss: 0.0523 - val_accuracy: 0.9908\n",
            "Epoch 123/150\n",
            "171/171 - 1s - loss: 0.0037 - accuracy: 0.9991 - val_loss: 0.0496 - val_accuracy: 0.9916\n",
            "Epoch 124/150\n",
            "171/171 - 1s - loss: 0.0034 - accuracy: 0.9992 - val_loss: 0.0512 - val_accuracy: 0.9915\n",
            "Epoch 125/150\n",
            "171/171 - 1s - loss: 0.0033 - accuracy: 0.9993 - val_loss: 0.0538 - val_accuracy: 0.9908\n",
            "Epoch 126/150\n",
            "171/171 - 1s - loss: 0.0033 - accuracy: 0.9992 - val_loss: 0.0584 - val_accuracy: 0.9896\n",
            "Epoch 127/150\n",
            "171/171 - 1s - loss: 0.0034 - accuracy: 0.9992 - val_loss: 0.0610 - val_accuracy: 0.9894\n",
            "Epoch 128/150\n",
            "171/171 - 1s - loss: 0.0033 - accuracy: 0.9992 - val_loss: 0.0505 - val_accuracy: 0.9915\n",
            "Epoch 129/150\n",
            "171/171 - 1s - loss: 0.0033 - accuracy: 0.9993 - val_loss: 0.0506 - val_accuracy: 0.9917\n",
            "Epoch 130/150\n",
            "171/171 - 1s - loss: 0.0034 - accuracy: 0.9992 - val_loss: 0.0531 - val_accuracy: 0.9912\n",
            "Epoch 131/150\n",
            "171/171 - 1s - loss: 0.0032 - accuracy: 0.9992 - val_loss: 0.0496 - val_accuracy: 0.9917\n",
            "Epoch 132/150\n",
            "171/171 - 1s - loss: 0.0032 - accuracy: 0.9992 - val_loss: 0.0548 - val_accuracy: 0.9906\n",
            "Epoch 133/150\n",
            "171/171 - 1s - loss: 0.0032 - accuracy: 0.9993 - val_loss: 0.0527 - val_accuracy: 0.9913\n",
            "Epoch 134/150\n",
            "171/171 - 1s - loss: 0.0031 - accuracy: 0.9993 - val_loss: 0.0528 - val_accuracy: 0.9909\n",
            "Epoch 135/150\n",
            "171/171 - 1s - loss: 0.0032 - accuracy: 0.9992 - val_loss: 0.0509 - val_accuracy: 0.9915\n",
            "Epoch 136/150\n",
            "171/171 - 1s - loss: 0.0031 - accuracy: 0.9993 - val_loss: 0.0558 - val_accuracy: 0.9906\n",
            "Epoch 137/150\n",
            "171/171 - 1s - loss: 0.0030 - accuracy: 0.9993 - val_loss: 0.0540 - val_accuracy: 0.9911\n",
            "Epoch 138/150\n",
            "171/171 - 1s - loss: 0.0029 - accuracy: 0.9993 - val_loss: 0.0535 - val_accuracy: 0.9914\n",
            "Epoch 139/150\n",
            "171/171 - 1s - loss: 0.0029 - accuracy: 0.9993 - val_loss: 0.0528 - val_accuracy: 0.9916\n",
            "Epoch 140/150\n",
            "171/171 - 1s - loss: 0.0028 - accuracy: 0.9993 - val_loss: 0.0599 - val_accuracy: 0.9897\n",
            "Epoch 141/150\n",
            "171/171 - 1s - loss: 0.0030 - accuracy: 0.9993 - val_loss: 0.0539 - val_accuracy: 0.9913\n",
            "Epoch 142/150\n",
            "171/171 - 1s - loss: 0.0028 - accuracy: 0.9994 - val_loss: 0.0531 - val_accuracy: 0.9914\n",
            "Epoch 143/150\n",
            "171/171 - 1s - loss: 0.0029 - accuracy: 0.9993 - val_loss: 0.0541 - val_accuracy: 0.9913\n",
            "Epoch 144/150\n",
            "171/171 - 1s - loss: 0.0030 - accuracy: 0.9993 - val_loss: 0.0543 - val_accuracy: 0.9912\n",
            "Epoch 145/150\n",
            "171/171 - 1s - loss: 0.0028 - accuracy: 0.9993 - val_loss: 0.0540 - val_accuracy: 0.9912\n",
            "Epoch 146/150\n",
            "171/171 - 1s - loss: 0.0028 - accuracy: 0.9994 - val_loss: 0.0533 - val_accuracy: 0.9916\n",
            "Epoch 147/150\n",
            "171/171 - 1s - loss: 0.0027 - accuracy: 0.9993 - val_loss: 0.0559 - val_accuracy: 0.9907\n",
            "Epoch 148/150\n",
            "171/171 - 1s - loss: 0.0026 - accuracy: 0.9994 - val_loss: 0.0553 - val_accuracy: 0.9911\n",
            "Epoch 149/150\n",
            "171/171 - 1s - loss: 0.0027 - accuracy: 0.9993 - val_loss: 0.0596 - val_accuracy: 0.9904\n",
            "Epoch 150/150\n",
            "171/171 - 1s - loss: 0.0027 - accuracy: 0.9994 - val_loss: 0.0561 - val_accuracy: 0.9907\n"
          ],
          "name": "stdout"
        },
        {
          "output_type": "stream",
          "text": [
            "WARNING:absl:Found untraced functions such as lstm_cell_layer_call_fn, lstm_cell_layer_call_and_return_conditional_losses, lstm_cell_1_layer_call_fn, lstm_cell_1_layer_call_and_return_conditional_losses, lstm_cell_layer_call_fn while saving (showing 5 of 10). These functions will not be directly callable after loading.\n"
          ],
          "name": "stderr"
        },
        {
          "output_type": "stream",
          "text": [
            "INFO:tensorflow:Assets written to: s2s/assets\n"
          ],
          "name": "stdout"
        },
        {
          "output_type": "stream",
          "text": [
            "INFO:tensorflow:Assets written to: s2s/assets\n"
          ],
          "name": "stderr"
        }
      ]
    },
    {
      "cell_type": "code",
      "metadata": {
        "colab": {
          "base_uri": "https://localhost:8080/",
          "height": 422
        },
        "id": "tjxBF_LSdSCq",
        "outputId": "662bda93-5a10-449c-a1fc-21cd8bea5acf"
      },
      "source": [
        "from tensorflow.keras.utils import plot_model\n",
        "plot_model(\n",
        "    model,\n",
        "    to_file=\"model.png\",\n",
        "    show_shapes=True,\n",
        "    show_dtype=False,\n",
        "    show_layer_names=True,\n",
        "    rankdir=\"TB\",\n",
        "    expand_nested=False,\n",
        "    dpi=96,\n",
        ")"
      ],
      "execution_count": 22,
      "outputs": [
        {
          "output_type": "execute_result",
          "data": {
            "image/png": "[encoded data removed]",
            "text/plain": [
              "<IPython.core.display.Image object>"
            ]
          },
          "metadata": {
            "tags": []
          },
          "execution_count": 22
        }
      ]
    },
    {
      "cell_type": "markdown",
      "metadata": {
        "id": "EIj-kPrq8V4I"
      },
      "source": [
        "testing with validation"
      ]
    },
    {
      "cell_type": "code",
      "metadata": {
        "id": "GF8UGyHXqS37"
      },
      "source": [
        "# Define sampling models\n",
        "# Restore the model and construct the encoder and decoder.\n",
        "model = keras.models.load_model(\"s2s\")\n",
        "\n",
        "encoder_inputs = model.input[0]  # input_1\n",
        "encoder_outputs, state_h_enc, state_c_enc = model.layers[2].output  # lstm_1\n",
        "encoder_states = [state_h_enc, state_c_enc]\n",
        "encoder_model = keras.Model(encoder_inputs, encoder_states)\n",
        "\n",
        "decoder_inputs = model.input[1]  # input_2\n",
        "decoder_state_input_h = keras.Input(shape=(latent_dim,), name=\"input_4\")\n",
        "decoder_state_input_c = keras.Input(shape=(latent_dim,), name=\"input_5\")\n",
        "decoder_states_inputs = [decoder_state_input_h, decoder_state_input_c]\n",
        "decoder_lstm = model.layers[3]\n",
        "decoder_outputs, state_h_dec, state_c_dec = decoder_lstm(\n",
        "    decoder_inputs, initial_state=decoder_states_inputs\n",
        ")\n",
        "decoder_states = [state_h_dec, state_c_dec]\n",
        "decoder_dense = model.layers[4]\n",
        "decoder_outputs = decoder_dense(decoder_outputs)\n",
        "decoder_model = keras.Model(\n",
        "    [decoder_inputs] + decoder_states_inputs, [decoder_outputs] + decoder_states\n",
        ")\n",
        "\n",
        "# Reverse-lookup token index to decode sequences back to\n",
        "# something readable.\n",
        "reverse_input_char_index = dict((i, char) for char, i in input_token_index.items())\n",
        "reverse_target_char_index = dict((i, char) for char, i in target_token_index.items())\n",
        "\n",
        "\n",
        "def decode_sequence(input_seq):\n",
        "    # Encode the input as state vectors.\n",
        "    states_value = encoder_model.predict(input_seq)\n",
        "\n",
        "    # Generate empty target sequence of length 1.\n",
        "    target_seq = np.zeros((1, 1, num_decoder_tokens))\n",
        "    # Populate the first character of target sequence with the start character.\n",
        "    target_seq[0, 0, target_token_index[\"\\t\"]] = 1.0\n",
        "\n",
        "    # Sampling loop for a batch of sequences\n",
        "    # (to simplify, here we assume a batch of size 1).\n",
        "    stop_condition = False\n",
        "    decoded_sentence = \"\"\n",
        "    while not stop_condition:\n",
        "        output_tokens, h, c = decoder_model.predict([target_seq] + states_value)\n",
        "\n",
        "        # Sample a token\n",
        "        sampled_token_index = np.argmax(output_tokens[0, -1, :])\n",
        "        sampled_char = reverse_target_char_index[sampled_token_index]\n",
        "        decoded_sentence += sampled_char\n",
        "\n",
        "        # Exit condition: either hit max length\n",
        "        # or find stop character.\n",
        "        if sampled_char == \"\\n\" or len(decoded_sentence) > max_decoder_seq_length:\n",
        "            stop_condition = True\n",
        "\n",
        "        # Update the target sequence (of length 1).\n",
        "        target_seq = np.zeros((1, 1, num_decoder_tokens))\n",
        "        target_seq[0, 0, sampled_token_index] = 1.0\n",
        "\n",
        "        # Update states\n",
        "        states_value = [h, c]\n",
        "    return decoded_sentence"
      ],
      "execution_count": 23,
      "outputs": []
    },
    {
      "cell_type": "code",
      "metadata": {
        "colab": {
          "base_uri": "https://localhost:8080/"
        },
        "id": "CvlCdwZP8OGR",
        "outputId": "3b4985c0-7c55-44b0-dd1a-d4507e819473"
      },
      "source": [
        "for seq_index in range(50):\n",
        "    # Take one sequence (part of the training set)\n",
        "    # for trying out decoding.\n",
        "    input_seq = encoder_input_data[seq_index : seq_index + 1]\n",
        "    decoded_sentence = decode_sequence(input_seq)\n",
        "    print(\"-\")\n",
        "    print(\"Input sentence:\", input_texts[seq_index])\n",
        "    print(\"Decoded sentence:\", decoded_sentence)"
      ],
      "execution_count": 24,
      "outputs": [
        {
          "output_type": "stream",
          "text": [
            "-\n",
            "Input sentence: rt\n",
            "Decoded sentence: rt\n",
            "\n",
            "-\n",
            "Input sentence: ah\n",
            "Decoded sentence: ah\n",
            "\n",
            "-\n",
            "Input sentence: why\n",
            "Decoded sentence: why\n",
            "\n",
            "-\n",
            "Input sentence: sub\n",
            "Decoded sentence: sub\n",
            "\n",
            "-\n",
            "Input sentence: ozil\n",
            "Decoded sentence: ozil\n",
            "\n",
            "-\n",
            "Input sentence: opolo\n",
            "Decoded sentence: opolo\n",
            "\n",
            "-\n",
            "Input sentence: eyes\n",
            "Decoded sentence: eyes\n",
            "\n",
            "-\n",
            "Input sentence: u\n",
            "Decoded sentence: you\n",
            "\n",
            "-\n",
            "Input sentence: no\n",
            "Decoded sentence: no\n",
            "\n",
            "-\n",
            "Input sentence: fit\n",
            "Decoded sentence: fit\n",
            "\n",
            "-\n",
            "Input sentence: open\n",
            "Decoded sentence: open\n",
            "\n",
            "-\n",
            "Input sentence: eyes\n",
            "Decoded sentence: eyes\n",
            "\n",
            "-\n",
            "Input sentence: u\n",
            "Decoded sentence: you\n",
            "\n",
            "-\n",
            "Input sentence: have\n",
            "Decoded sentence: have\n",
            "\n",
            "-\n",
            "Input sentence: a\n",
            "Decoded sentence: a\n",
            "\n",
            "-\n",
            "Input sentence: very\n",
            "Decoded sentence: very\n",
            "\n",
            "-\n",
            "Input sentence: sexy\n",
            "Decoded sentence: sexy\n",
            "\n",
            "-\n",
            "Input sentence: header\n",
            "Decoded sentence: header\n",
            "\n",
            "-\n",
            "Input sentence: rawr\n",
            "Decoded sentence: rawr\n",
            "\n",
            "-\n",
            "Input sentence: i\n",
            "Decoded sentence: i\n",
            "\n",
            "-\n",
            "Input sentence: miss\n",
            "Decoded sentence: miss\n",
            "\n",
            "-\n",
            "Input sentence: u\n",
            "Decoded sentence: you\n",
            "\n",
            "-\n",
            "Input sentence: my\n",
            "Decoded sentence: my\n",
            "\n",
            "-\n",
            "Input sentence: bie\n",
            "Decoded sentence: bie\n",
            "\n",
            "-\n",
            "Input sentence: where\n",
            "Decoded sentence: where\n",
            "\n",
            "-\n",
            "Input sentence: u\n",
            "Decoded sentence: you\n",
            "\n",
            "-\n",
            "Input sentence: wanna\n",
            "Decoded sentence: want to\n",
            "\n",
            "-\n",
            "Input sentence: out\n",
            "Decoded sentence: out\n",
            "\n",
            "-\n",
            "Input sentence: wif\n",
            "Decoded sentence: with\n",
            "\n",
            "-\n",
            "Input sentence: me\n",
            "Decoded sentence: me\n",
            "\n",
            "-\n",
            "Input sentence: have\n",
            "Decoded sentence: have\n",
            "\n",
            "-\n",
            "Input sentence: a\n",
            "Decoded sentence: a\n",
            "\n",
            "-\n",
            "Input sentence: wonderful\n",
            "Decoded sentence: wonderful\n",
            "\n",
            "-\n",
            "Input sentence: day\n",
            "Decoded sentence: day\n",
            "\n",
            "-\n",
            "Input sentence: like\n",
            "Decoded sentence: like\n",
            "\n",
            "-\n",
            "Input sentence: a\n",
            "Decoded sentence: a\n",
            "\n",
            "-\n",
            "Input sentence: swan\n",
            "Decoded sentence: swan\n",
            "\n",
            "-\n",
            "Input sentence: day\n",
            "Decoded sentence: day\n",
            "\n",
            "-\n",
            "Input sentence: haha\n",
            "Decoded sentence: haha\n",
            "\n",
            "-\n",
            "Input sentence: cantik\n",
            "Decoded sentence: cantik\n",
            "\n",
            "-\n",
            "Input sentence: rt\n",
            "Decoded sentence: rt\n",
            "\n",
            "-\n",
            "Input sentence: julie\n",
            "Decoded sentence: julie\n",
            "\n",
            "-\n",
            "Input sentence: christie\n",
            "Decoded sentence: christie\n",
            "\n",
            "-\n",
            "Input sentence: 1968\n",
            "Decoded sentence: 1968\n",
            "\n",
            "-\n",
            "Input sentence: photograph\n",
            "Decoded sentence: phootraphing\n",
            "\n",
            "-\n",
            "Input sentence: by\n",
            "Decoded sentence: by\n",
            "\n",
            "-\n",
            "Input sentence: richard\n",
            "Decoded sentence: richard\n",
            "\n",
            "-\n",
            "Input sentence: avedon\n",
            "Decoded sentence: avedon\n",
            "\n",
            "-\n",
            "Input sentence: rt\n",
            "Decoded sentence: rt\n",
            "\n",
            "-\n",
            "Input sentence: did\n",
            "Decoded sentence: did\n",
            "\n"
          ],
          "name": "stdout"
        }
      ]
    },
    {
      "cell_type": "markdown",
      "metadata": {
        "id": "sRMGrhk-8SAa"
      },
      "source": [
        "Testing with dev"
      ]
    },
    {
      "cell_type": "code",
      "metadata": {
        "id": "PKYJA1KYdsN_"
      },
      "source": [
        "test_data_path = '/content/drive/MyDrive/NLP_Data/MultiLex_Norm/Multilexnorm Challenge/English/dev.norm.txt'"
      ],
      "execution_count": 31,
      "outputs": []
    },
    {
      "cell_type": "code",
      "metadata": {
        "id": "SBVa5N3Md7LN",
        "colab": {
          "base_uri": "https://localhost:8080/"
        },
        "outputId": "9901633b-1ec4-4d4b-d189-e26a53694ef8"
      },
      "source": [
        "f = open(test_data_path, 'r')\n",
        "print(f.read()[:202])\n",
        "f.close()"
      ],
      "execution_count": 38,
      "outputs": [
        {
          "output_type": "stream",
          "text": [
            "@cdutra5\t@cdutra5\n",
            "bruh\tbrother\n",
            "get\tget\n",
            "out\tout\n",
            "yo\tyour\n",
            "feelings\tfeelings\n",
            "lol\tlol\n",
            "\n",
            "rt\trt\n",
            "@demberel_s\t@demberel_s\n",
            ":\t:\n",
            "manan\tmanan\n",
            "dund\tdund\n",
            "xaragdax\txaragdax\n",
            "ter\tter\n",
            "uuliin\tuuliin\n",
            "oroid\toroid\n",
            "minii\tminii\n",
            "\n"
          ],
          "name": "stdout"
        }
      ]
    },
    {
      "cell_type": "code",
      "metadata": {
        "id": "Rtvz4Jvtdxyn"
      },
      "source": [
        "# Vectorize the data.\n",
        "input_texts = []\n",
        "#target_texts = []\n",
        "input_characters = set()\n",
        "#target_characters = set()\n",
        "with open(data_path, \"r\", encoding=\"utf-8\") as f:\n",
        "    lines = f.readlines()\n",
        "for line in lines[: min(num_samples, len(lines) - 1)]:\n",
        "  if line=='\\n':\n",
        "    continue\n",
        "  else:\n",
        "    input_text, target_text= line.split(\"\\t\")\n",
        "    # We use \"tab\" as the \"start sequence\" character\n",
        "    # for the targets, and \"\\n\" as \"end sequence\" character.\n",
        "    #target_text = \"\\t\" + target_text + \"\\n\"\n",
        "    input_texts.append(input_text)\n",
        "    #target_texts.append(target_text)\n",
        "    for char in input_text:\n",
        "        if char not in input_characters:\n",
        "            input_characters.add(char)\n",
        "    '''for char in target_text:\n",
        "        if char not in target_characters:\n",
        "            target_characters.add(char)'''"
      ],
      "execution_count": 39,
      "outputs": []
    },
    {
      "cell_type": "code",
      "metadata": {
        "id": "qkPZvdyBepcu"
      },
      "source": [
        "# input_texts"
      ],
      "execution_count": 40,
      "outputs": []
    },
    {
      "cell_type": "code",
      "metadata": {
        "id": "jbRb7j1qetXu"
      },
      "source": [
        "input_characters = sorted(list(input_characters))\n",
        "num_encoder_tokens = len(input_characters)\n",
        "max_encoder_seq_length = max([len(txt) for txt in input_texts])"
      ],
      "execution_count": 41,
      "outputs": []
    },
    {
      "cell_type": "code",
      "metadata": {
        "id": "n3QCmCqee1Y5"
      },
      "source": [
        "input_token_index = dict([(char, i) for i, char in enumerate(input_characters)])\n",
        "\n",
        "encoder_input_data = np.zeros(\n",
        "    (len(input_texts), max_encoder_seq_length, num_encoder_tokens), dtype=\"float32\"\n",
        ")"
      ],
      "execution_count": 42,
      "outputs": []
    },
    {
      "cell_type": "code",
      "metadata": {
        "id": "Gc5znN7Pe8GX"
      },
      "source": [
        "for i, (input_text, target_text) in enumerate(zip(input_texts, target_texts)):\n",
        "    for t, char in enumerate(input_text):\n",
        "        encoder_input_data[i, t, input_token_index[char]] = 1.0\n",
        "    #encoder_input_data[i, t + 1 :, input_token_index[' ']] = 1.0"
      ],
      "execution_count": 43,
      "outputs": []
    },
    {
      "cell_type": "code",
      "metadata": {
        "colab": {
          "base_uri": "https://localhost:8080/"
        },
        "id": "5jZzvggWiGJJ",
        "outputId": "346de7d7-881d-4bd6-bac3-e772298312f2"
      },
      "source": [
        "encoder_input_data.shape"
      ],
      "execution_count": 47,
      "outputs": [
        {
          "output_type": "execute_result",
          "data": {
            "text/plain": [
              "(18755, 40, 67)"
            ]
          },
          "metadata": {
            "tags": []
          },
          "execution_count": 47
        }
      ]
    },
    {
      "cell_type": "code",
      "metadata": {
        "id": "imDqBr6jhcgG",
        "colab": {
          "base_uri": "https://localhost:8080/",
          "height": 649
        },
        "outputId": "2178caf2-5cb9-44ed-a03c-5bc3e2fac311"
      },
      "source": [
        "input_seq = encoder_input_data\n",
        "print(\"-\")\n",
        "print(\"Input sentence:\", input_texts[seq_index])\n",
        "decoded_sentence = decode_sequence(input_seq)\n",
        "\n",
        "print(\"Decoded sentence:\", decoded_sentence)"
      ],
      "execution_count": 45,
      "outputs": [
        {
          "output_type": "stream",
          "text": [
            "-\n",
            "Input sentence: swan\n"
          ],
          "name": "stdout"
        },
        {
          "output_type": "error",
          "ename": "ValueError",
          "evalue": "ignored",
          "traceback": [
            "\u001b[0;31m---------------------------------------------------------------------------\u001b[0m",
            "\u001b[0;31mValueError\u001b[0m                                Traceback (most recent call last)",
            "\u001b[0;32m<ipython-input-45-842c5ca9ab82>\u001b[0m in \u001b[0;36m<module>\u001b[0;34m()\u001b[0m\n\u001b[1;32m      2\u001b[0m \u001b[0mprint\u001b[0m\u001b[0;34m(\u001b[0m\u001b[0;34m\"-\"\u001b[0m\u001b[0;34m)\u001b[0m\u001b[0;34m\u001b[0m\u001b[0;34m\u001b[0m\u001b[0m\n\u001b[1;32m      3\u001b[0m \u001b[0mprint\u001b[0m\u001b[0;34m(\u001b[0m\u001b[0;34m\"Input sentence:\"\u001b[0m\u001b[0;34m,\u001b[0m \u001b[0minput_texts\u001b[0m\u001b[0;34m[\u001b[0m\u001b[0mseq_index\u001b[0m\u001b[0;34m]\u001b[0m\u001b[0;34m)\u001b[0m\u001b[0;34m\u001b[0m\u001b[0;34m\u001b[0m\u001b[0m\n\u001b[0;32m----> 4\u001b[0;31m \u001b[0mdecoded_sentence\u001b[0m \u001b[0;34m=\u001b[0m \u001b[0mdecode_sequence\u001b[0m\u001b[0;34m(\u001b[0m\u001b[0minput_seq\u001b[0m\u001b[0;34m)\u001b[0m\u001b[0;34m\u001b[0m\u001b[0;34m\u001b[0m\u001b[0m\n\u001b[0m\u001b[1;32m      5\u001b[0m \u001b[0;34m\u001b[0m\u001b[0m\n\u001b[1;32m      6\u001b[0m \u001b[0mprint\u001b[0m\u001b[0;34m(\u001b[0m\u001b[0;34m\"Decoded sentence:\"\u001b[0m\u001b[0;34m,\u001b[0m \u001b[0mdecoded_sentence\u001b[0m\u001b[0;34m)\u001b[0m\u001b[0;34m\u001b[0m\u001b[0;34m\u001b[0m\u001b[0m\n",
            "\u001b[0;32m<ipython-input-23-ad719190bf57>\u001b[0m in \u001b[0;36mdecode_sequence\u001b[0;34m(input_seq)\u001b[0m\n\u001b[1;32m     31\u001b[0m \u001b[0;32mdef\u001b[0m \u001b[0mdecode_sequence\u001b[0m\u001b[0;34m(\u001b[0m\u001b[0minput_seq\u001b[0m\u001b[0;34m)\u001b[0m\u001b[0;34m:\u001b[0m\u001b[0;34m\u001b[0m\u001b[0;34m\u001b[0m\u001b[0m\n\u001b[1;32m     32\u001b[0m     \u001b[0;31m# Encode the input as state vectors.\u001b[0m\u001b[0;34m\u001b[0m\u001b[0;34m\u001b[0m\u001b[0;34m\u001b[0m\u001b[0m\n\u001b[0;32m---> 33\u001b[0;31m     \u001b[0mstates_value\u001b[0m \u001b[0;34m=\u001b[0m \u001b[0mencoder_model\u001b[0m\u001b[0;34m.\u001b[0m\u001b[0mpredict\u001b[0m\u001b[0;34m(\u001b[0m\u001b[0minput_seq\u001b[0m\u001b[0;34m)\u001b[0m\u001b[0;34m\u001b[0m\u001b[0;34m\u001b[0m\u001b[0m\n\u001b[0m\u001b[1;32m     34\u001b[0m \u001b[0;34m\u001b[0m\u001b[0m\n\u001b[1;32m     35\u001b[0m     \u001b[0;31m# Generate empty target sequence of length 1.\u001b[0m\u001b[0;34m\u001b[0m\u001b[0;34m\u001b[0m\u001b[0;34m\u001b[0m\u001b[0m\n",
            "\u001b[0;32m/usr/local/lib/python3.7/dist-packages/keras/engine/training.py\u001b[0m in \u001b[0;36mpredict\u001b[0;34m(self, x, batch_size, verbose, steps, callbacks, max_queue_size, workers, use_multiprocessing)\u001b[0m\n\u001b[1;32m   1700\u001b[0m           \u001b[0;32mfor\u001b[0m \u001b[0mstep\u001b[0m \u001b[0;32min\u001b[0m \u001b[0mdata_handler\u001b[0m\u001b[0;34m.\u001b[0m\u001b[0msteps\u001b[0m\u001b[0;34m(\u001b[0m\u001b[0;34m)\u001b[0m\u001b[0;34m:\u001b[0m\u001b[0;34m\u001b[0m\u001b[0;34m\u001b[0m\u001b[0m\n\u001b[1;32m   1701\u001b[0m             \u001b[0mcallbacks\u001b[0m\u001b[0;34m.\u001b[0m\u001b[0mon_predict_batch_begin\u001b[0m\u001b[0;34m(\u001b[0m\u001b[0mstep\u001b[0m\u001b[0;34m)\u001b[0m\u001b[0;34m\u001b[0m\u001b[0;34m\u001b[0m\u001b[0m\n\u001b[0;32m-> 1702\u001b[0;31m             \u001b[0mtmp_batch_outputs\u001b[0m \u001b[0;34m=\u001b[0m \u001b[0mself\u001b[0m\u001b[0;34m.\u001b[0m\u001b[0mpredict_function\u001b[0m\u001b[0;34m(\u001b[0m\u001b[0miterator\u001b[0m\u001b[0;34m)\u001b[0m\u001b[0;34m\u001b[0m\u001b[0;34m\u001b[0m\u001b[0m\n\u001b[0m\u001b[1;32m   1703\u001b[0m             \u001b[0;32mif\u001b[0m \u001b[0mdata_handler\u001b[0m\u001b[0;34m.\u001b[0m\u001b[0mshould_sync\u001b[0m\u001b[0;34m:\u001b[0m\u001b[0;34m\u001b[0m\u001b[0;34m\u001b[0m\u001b[0m\n\u001b[1;32m   1704\u001b[0m               \u001b[0mcontext\u001b[0m\u001b[0;34m.\u001b[0m\u001b[0masync_wait\u001b[0m\u001b[0;34m(\u001b[0m\u001b[0;34m)\u001b[0m\u001b[0;34m\u001b[0m\u001b[0;34m\u001b[0m\u001b[0m\n",
            "\u001b[0;32m/usr/local/lib/python3.7/dist-packages/tensorflow/python/eager/def_function.py\u001b[0m in \u001b[0;36m__call__\u001b[0;34m(self, *args, **kwds)\u001b[0m\n\u001b[1;32m    887\u001b[0m \u001b[0;34m\u001b[0m\u001b[0m\n\u001b[1;32m    888\u001b[0m       \u001b[0;32mwith\u001b[0m \u001b[0mOptionalXlaContext\u001b[0m\u001b[0;34m(\u001b[0m\u001b[0mself\u001b[0m\u001b[0;34m.\u001b[0m\u001b[0m_jit_compile\u001b[0m\u001b[0;34m)\u001b[0m\u001b[0;34m:\u001b[0m\u001b[0;34m\u001b[0m\u001b[0;34m\u001b[0m\u001b[0m\n\u001b[0;32m--> 889\u001b[0;31m         \u001b[0mresult\u001b[0m \u001b[0;34m=\u001b[0m \u001b[0mself\u001b[0m\u001b[0;34m.\u001b[0m\u001b[0m_call\u001b[0m\u001b[0;34m(\u001b[0m\u001b[0;34m*\u001b[0m\u001b[0margs\u001b[0m\u001b[0;34m,\u001b[0m \u001b[0;34m**\u001b[0m\u001b[0mkwds\u001b[0m\u001b[0;34m)\u001b[0m\u001b[0;34m\u001b[0m\u001b[0;34m\u001b[0m\u001b[0m\n\u001b[0m\u001b[1;32m    890\u001b[0m \u001b[0;34m\u001b[0m\u001b[0m\n\u001b[1;32m    891\u001b[0m       \u001b[0mnew_tracing_count\u001b[0m \u001b[0;34m=\u001b[0m \u001b[0mself\u001b[0m\u001b[0;34m.\u001b[0m\u001b[0mexperimental_get_tracing_count\u001b[0m\u001b[0;34m(\u001b[0m\u001b[0;34m)\u001b[0m\u001b[0;34m\u001b[0m\u001b[0;34m\u001b[0m\u001b[0m\n",
            "\u001b[0;32m/usr/local/lib/python3.7/dist-packages/tensorflow/python/eager/def_function.py\u001b[0m in \u001b[0;36m_call\u001b[0;34m(self, *args, **kwds)\u001b[0m\n\u001b[1;32m    922\u001b[0m       \u001b[0;31m# In this case we have not created variables on the first call. So we can\u001b[0m\u001b[0;34m\u001b[0m\u001b[0;34m\u001b[0m\u001b[0;34m\u001b[0m\u001b[0m\n\u001b[1;32m    923\u001b[0m       \u001b[0;31m# run the first trace but we should fail if variables are created.\u001b[0m\u001b[0;34m\u001b[0m\u001b[0;34m\u001b[0m\u001b[0;34m\u001b[0m\u001b[0m\n\u001b[0;32m--> 924\u001b[0;31m       \u001b[0mresults\u001b[0m \u001b[0;34m=\u001b[0m \u001b[0mself\u001b[0m\u001b[0;34m.\u001b[0m\u001b[0m_stateful_fn\u001b[0m\u001b[0;34m(\u001b[0m\u001b[0;34m*\u001b[0m\u001b[0margs\u001b[0m\u001b[0;34m,\u001b[0m \u001b[0;34m**\u001b[0m\u001b[0mkwds\u001b[0m\u001b[0;34m)\u001b[0m\u001b[0;34m\u001b[0m\u001b[0;34m\u001b[0m\u001b[0m\n\u001b[0m\u001b[1;32m    925\u001b[0m       \u001b[0;32mif\u001b[0m \u001b[0mself\u001b[0m\u001b[0;34m.\u001b[0m\u001b[0m_created_variables\u001b[0m\u001b[0;34m:\u001b[0m\u001b[0;34m\u001b[0m\u001b[0;34m\u001b[0m\u001b[0m\n\u001b[1;32m    926\u001b[0m         raise ValueError(\"Creating variables on a non-first call to a function\"\n",
            "\u001b[0;32m/usr/local/lib/python3.7/dist-packages/tensorflow/python/eager/function.py\u001b[0m in \u001b[0;36m__call__\u001b[0;34m(self, *args, **kwargs)\u001b[0m\n\u001b[1;32m   3020\u001b[0m     \u001b[0;32mwith\u001b[0m \u001b[0mself\u001b[0m\u001b[0;34m.\u001b[0m\u001b[0m_lock\u001b[0m\u001b[0;34m:\u001b[0m\u001b[0;34m\u001b[0m\u001b[0;34m\u001b[0m\u001b[0m\n\u001b[1;32m   3021\u001b[0m       (graph_function,\n\u001b[0;32m-> 3022\u001b[0;31m        filtered_flat_args) = self._maybe_define_function(args, kwargs)\n\u001b[0m\u001b[1;32m   3023\u001b[0m     return graph_function._call_flat(\n\u001b[1;32m   3024\u001b[0m         filtered_flat_args, captured_inputs=graph_function.captured_inputs)  # pylint: disable=protected-access\n",
            "\u001b[0;32m/usr/local/lib/python3.7/dist-packages/tensorflow/python/eager/function.py\u001b[0m in \u001b[0;36m_maybe_define_function\u001b[0;34m(self, args, kwargs)\u001b[0m\n\u001b[1;32m   3439\u001b[0m               call_context_key in self._function_cache.missed):\n\u001b[1;32m   3440\u001b[0m             return self._define_function_with_shape_relaxation(\n\u001b[0;32m-> 3441\u001b[0;31m                 args, kwargs, flat_args, filtered_flat_args, cache_key_context)\n\u001b[0m\u001b[1;32m   3442\u001b[0m \u001b[0;34m\u001b[0m\u001b[0m\n\u001b[1;32m   3443\u001b[0m           \u001b[0mself\u001b[0m\u001b[0;34m.\u001b[0m\u001b[0m_function_cache\u001b[0m\u001b[0;34m.\u001b[0m\u001b[0mmissed\u001b[0m\u001b[0;34m.\u001b[0m\u001b[0madd\u001b[0m\u001b[0;34m(\u001b[0m\u001b[0mcall_context_key\u001b[0m\u001b[0;34m)\u001b[0m\u001b[0;34m\u001b[0m\u001b[0;34m\u001b[0m\u001b[0m\n",
            "\u001b[0;32m/usr/local/lib/python3.7/dist-packages/tensorflow/python/eager/function.py\u001b[0m in \u001b[0;36m_define_function_with_shape_relaxation\u001b[0;34m(self, args, kwargs, flat_args, filtered_flat_args, cache_key_context)\u001b[0m\n\u001b[1;32m   3361\u001b[0m \u001b[0;34m\u001b[0m\u001b[0m\n\u001b[1;32m   3362\u001b[0m     graph_function = self._create_graph_function(\n\u001b[0;32m-> 3363\u001b[0;31m         args, kwargs, override_flat_arg_shapes=relaxed_arg_shapes)\n\u001b[0m\u001b[1;32m   3364\u001b[0m     \u001b[0mself\u001b[0m\u001b[0;34m.\u001b[0m\u001b[0m_function_cache\u001b[0m\u001b[0;34m.\u001b[0m\u001b[0marg_relaxed\u001b[0m\u001b[0;34m[\u001b[0m\u001b[0mrank_only_cache_key\u001b[0m\u001b[0;34m]\u001b[0m \u001b[0;34m=\u001b[0m \u001b[0mgraph_function\u001b[0m\u001b[0;34m\u001b[0m\u001b[0;34m\u001b[0m\u001b[0m\n\u001b[1;32m   3365\u001b[0m \u001b[0;34m\u001b[0m\u001b[0m\n",
            "\u001b[0;32m/usr/local/lib/python3.7/dist-packages/tensorflow/python/eager/function.py\u001b[0m in \u001b[0;36m_create_graph_function\u001b[0;34m(self, args, kwargs, override_flat_arg_shapes)\u001b[0m\n\u001b[1;32m   3287\u001b[0m             \u001b[0marg_names\u001b[0m\u001b[0;34m=\u001b[0m\u001b[0marg_names\u001b[0m\u001b[0;34m,\u001b[0m\u001b[0;34m\u001b[0m\u001b[0;34m\u001b[0m\u001b[0m\n\u001b[1;32m   3288\u001b[0m             \u001b[0moverride_flat_arg_shapes\u001b[0m\u001b[0;34m=\u001b[0m\u001b[0moverride_flat_arg_shapes\u001b[0m\u001b[0;34m,\u001b[0m\u001b[0;34m\u001b[0m\u001b[0;34m\u001b[0m\u001b[0m\n\u001b[0;32m-> 3289\u001b[0;31m             capture_by_value=self._capture_by_value),\n\u001b[0m\u001b[1;32m   3290\u001b[0m         \u001b[0mself\u001b[0m\u001b[0;34m.\u001b[0m\u001b[0m_function_attributes\u001b[0m\u001b[0;34m,\u001b[0m\u001b[0;34m\u001b[0m\u001b[0;34m\u001b[0m\u001b[0m\n\u001b[1;32m   3291\u001b[0m         \u001b[0mfunction_spec\u001b[0m\u001b[0;34m=\u001b[0m\u001b[0mself\u001b[0m\u001b[0;34m.\u001b[0m\u001b[0mfunction_spec\u001b[0m\u001b[0;34m,\u001b[0m\u001b[0;34m\u001b[0m\u001b[0;34m\u001b[0m\u001b[0m\n",
            "\u001b[0;32m/usr/local/lib/python3.7/dist-packages/tensorflow/python/framework/func_graph.py\u001b[0m in \u001b[0;36mfunc_graph_from_py_func\u001b[0;34m(name, python_func, args, kwargs, signature, func_graph, autograph, autograph_options, add_control_dependencies, arg_names, op_return_value, collections, capture_by_value, override_flat_arg_shapes)\u001b[0m\n\u001b[1;32m    997\u001b[0m         \u001b[0m_\u001b[0m\u001b[0;34m,\u001b[0m \u001b[0moriginal_func\u001b[0m \u001b[0;34m=\u001b[0m \u001b[0mtf_decorator\u001b[0m\u001b[0;34m.\u001b[0m\u001b[0munwrap\u001b[0m\u001b[0;34m(\u001b[0m\u001b[0mpython_func\u001b[0m\u001b[0;34m)\u001b[0m\u001b[0;34m\u001b[0m\u001b[0;34m\u001b[0m\u001b[0m\n\u001b[1;32m    998\u001b[0m \u001b[0;34m\u001b[0m\u001b[0m\n\u001b[0;32m--> 999\u001b[0;31m       \u001b[0mfunc_outputs\u001b[0m \u001b[0;34m=\u001b[0m \u001b[0mpython_func\u001b[0m\u001b[0;34m(\u001b[0m\u001b[0;34m*\u001b[0m\u001b[0mfunc_args\u001b[0m\u001b[0;34m,\u001b[0m \u001b[0;34m**\u001b[0m\u001b[0mfunc_kwargs\u001b[0m\u001b[0;34m)\u001b[0m\u001b[0;34m\u001b[0m\u001b[0;34m\u001b[0m\u001b[0m\n\u001b[0m\u001b[1;32m   1000\u001b[0m \u001b[0;34m\u001b[0m\u001b[0m\n\u001b[1;32m   1001\u001b[0m       \u001b[0;31m# invariant: `func_outputs` contains only Tensors, CompositeTensors,\u001b[0m\u001b[0;34m\u001b[0m\u001b[0;34m\u001b[0m\u001b[0;34m\u001b[0m\u001b[0m\n",
            "\u001b[0;32m/usr/local/lib/python3.7/dist-packages/tensorflow/python/eager/def_function.py\u001b[0m in \u001b[0;36mwrapped_fn\u001b[0;34m(*args, **kwds)\u001b[0m\n\u001b[1;32m    670\u001b[0m         \u001b[0;31m# the function a weak reference to itself to avoid a reference cycle.\u001b[0m\u001b[0;34m\u001b[0m\u001b[0;34m\u001b[0m\u001b[0;34m\u001b[0m\u001b[0m\n\u001b[1;32m    671\u001b[0m         \u001b[0;32mwith\u001b[0m \u001b[0mOptionalXlaContext\u001b[0m\u001b[0;34m(\u001b[0m\u001b[0mcompile_with_xla\u001b[0m\u001b[0;34m)\u001b[0m\u001b[0;34m:\u001b[0m\u001b[0;34m\u001b[0m\u001b[0;34m\u001b[0m\u001b[0m\n\u001b[0;32m--> 672\u001b[0;31m           \u001b[0mout\u001b[0m \u001b[0;34m=\u001b[0m \u001b[0mweak_wrapped_fn\u001b[0m\u001b[0;34m(\u001b[0m\u001b[0;34m)\u001b[0m\u001b[0;34m.\u001b[0m\u001b[0m__wrapped__\u001b[0m\u001b[0;34m(\u001b[0m\u001b[0;34m*\u001b[0m\u001b[0margs\u001b[0m\u001b[0;34m,\u001b[0m \u001b[0;34m**\u001b[0m\u001b[0mkwds\u001b[0m\u001b[0;34m)\u001b[0m\u001b[0;34m\u001b[0m\u001b[0;34m\u001b[0m\u001b[0m\n\u001b[0m\u001b[1;32m    673\u001b[0m         \u001b[0;32mreturn\u001b[0m \u001b[0mout\u001b[0m\u001b[0;34m\u001b[0m\u001b[0;34m\u001b[0m\u001b[0m\n\u001b[1;32m    674\u001b[0m \u001b[0;34m\u001b[0m\u001b[0m\n",
            "\u001b[0;32m/usr/local/lib/python3.7/dist-packages/tensorflow/python/framework/func_graph.py\u001b[0m in \u001b[0;36mwrapper\u001b[0;34m(*args, **kwargs)\u001b[0m\n\u001b[1;32m    984\u001b[0m           \u001b[0;32mexcept\u001b[0m \u001b[0mException\u001b[0m \u001b[0;32mas\u001b[0m \u001b[0me\u001b[0m\u001b[0;34m:\u001b[0m  \u001b[0;31m# pylint:disable=broad-except\u001b[0m\u001b[0;34m\u001b[0m\u001b[0;34m\u001b[0m\u001b[0m\n\u001b[1;32m    985\u001b[0m             \u001b[0;32mif\u001b[0m \u001b[0mhasattr\u001b[0m\u001b[0;34m(\u001b[0m\u001b[0me\u001b[0m\u001b[0;34m,\u001b[0m \u001b[0;34m\"ag_error_metadata\"\u001b[0m\u001b[0;34m)\u001b[0m\u001b[0;34m:\u001b[0m\u001b[0;34m\u001b[0m\u001b[0;34m\u001b[0m\u001b[0m\n\u001b[0;32m--> 986\u001b[0;31m               \u001b[0;32mraise\u001b[0m \u001b[0me\u001b[0m\u001b[0;34m.\u001b[0m\u001b[0mag_error_metadata\u001b[0m\u001b[0;34m.\u001b[0m\u001b[0mto_exception\u001b[0m\u001b[0;34m(\u001b[0m\u001b[0me\u001b[0m\u001b[0;34m)\u001b[0m\u001b[0;34m\u001b[0m\u001b[0;34m\u001b[0m\u001b[0m\n\u001b[0m\u001b[1;32m    987\u001b[0m             \u001b[0;32melse\u001b[0m\u001b[0;34m:\u001b[0m\u001b[0;34m\u001b[0m\u001b[0;34m\u001b[0m\u001b[0m\n\u001b[1;32m    988\u001b[0m               \u001b[0;32mraise\u001b[0m\u001b[0;34m\u001b[0m\u001b[0;34m\u001b[0m\u001b[0m\n",
            "\u001b[0;31mValueError\u001b[0m: in user code:\n\n    /usr/local/lib/python3.7/dist-packages/keras/engine/training.py:1544 predict_function  *\n        return step_function(self, iterator)\n    /usr/local/lib/python3.7/dist-packages/keras/engine/training.py:1527 run_step  *\n        outputs = model.predict_step(data)\n    /usr/local/lib/python3.7/dist-packages/keras/engine/training.py:1500 predict_step  *\n        return self(x, training=False)\n    /usr/local/lib/python3.7/dist-packages/keras/engine/base_layer.py:989 __call__  *\n        input_spec.assert_input_compatibility(self.input_spec, inputs, self.name)\n    /usr/local/lib/python3.7/dist-packages/keras/engine/input_spec.py:264 assert_input_compatibility  *\n        raise ValueError('Input ' + str(input_index) +\n\n    ValueError: Input 0 is incompatible with layer model_1: expected shape=(None, None, 37), found shape=(None, 40, 67)\n"
          ]
        }
      ]
    },
    {
      "cell_type": "code",
      "metadata": {
        "id": "HXzrMy-qhRLA"
      },
      "source": [
        "\n"
      ],
      "execution_count": null,
      "outputs": []
    }
  ]
}