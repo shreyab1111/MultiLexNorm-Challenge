{
  "nbformat": 4,
  "nbformat_minor": 0,
  "metadata": {
    "colab": {
      "name": "en-ln-seq2seq-biLSTM.ipynb",
      "provenance": [],
      "collapsed_sections": [],
      "mount_file_id": "13nsFTraEUJmKMydUxQ4mUaz837-Sp-tA",
      "authorship_tag": "ABX9TyNf1PWSAQdoFM8A+qhMVdNV",
      "include_colab_link": true
    },
    "kernelspec": {
      "name": "python3",
      "display_name": "Python 3"
    },
    "language_info": {
      "name": "python"
    },
    "accelerator": "GPU"
  },
  "cells": [
    {
      "cell_type": "markdown",
      "metadata": {
        "id": "view-in-github",
        "colab_type": "text"
      },
      "source": [
        "<a href=\"https://colab.research.google.com/github/shreyab1111/MultiLexNorm-Challenge/blob/main/English/en_ln_seq2seq_biLSTM.ipynb\" target=\"_parent\"><img src=\"https://colab.research.google.com/assets/colab-badge.svg\" alt=\"Open In Colab\"/></a>"
      ]
    },
    {
      "cell_type": "code",
      "metadata": {
        "id": "17JYgmWqoFO8"
      },
      "source": [
        "import numpy as np\n",
        "import tensorflow as tf\n",
        "from tensorflow import keras\n",
        "from tensorflow.keras.layers import Dense, LSTM, Bidirectional, Embedding, Concatenate\n",
        "from tensorflow.keras import Input, Model"
      ],
      "execution_count": 1,
      "outputs": []
    },
    {
      "cell_type": "markdown",
      "metadata": {
        "id": "Qnsf7hnBCpIC"
      },
      "source": [
        "English"
      ]
    },
    {
      "cell_type": "code",
      "metadata": {
        "id": "oqYRZRn7oLCM"
      },
      "source": [
        "batch_size = 64  # Batch size for training.\n",
        "epochs = 100  # Number of epochs to train for.\n",
        "latent_dim = 256  # Latent dimensionality of the encoding space.\n",
        "num_samples = 30000  # Number of samples to train on.\n",
        "data_path = '/content/drive/MyDrive/NLP/Lexical Normalisation/Multilexnorm Challenge/English/train.norm.txt'"
      ],
      "execution_count": 30,
      "outputs": []
    },
    {
      "cell_type": "markdown",
      "metadata": {
        "id": "kXpZ8zmgtQQD"
      },
      "source": [
        "Character encoding"
      ]
    },
    {
      "cell_type": "code",
      "metadata": {
        "colab": {
          "base_uri": "https://localhost:8080/"
        },
        "id": "Y15wH0J3oNl1",
        "outputId": "b1cadaa1-d782-49ed-beab-8a9fdf5fa9a9"
      },
      "source": [
        "# Vectorize the data.\n",
        "input_texts = []\n",
        "target_texts = []\n",
        "input_characters = set()\n",
        "target_characters = set()\n",
        "with open(data_path, \"r\", encoding=\"utf-8\") as f:\n",
        "    lines = f.readlines()\n",
        "for line in lines[: min(num_samples, len(lines) - 1)]:\n",
        "  if line=='\\n':\n",
        "    continue\n",
        "  else:\n",
        "    input_text, target_text= line.split(\"\\t\")\n",
        "    # We use \"tab\" as the \"start sequence\" character\n",
        "    # for the targets, and \"\\n\" as \"end sequence\" character.\n",
        "    target_text = \"\\t\" + target_text + \"\\n\"\n",
        "    input_texts.append(input_text)\n",
        "    target_texts.append(target_text)\n",
        "    for char in input_text:\n",
        "        if char not in input_characters:\n",
        "            input_characters.add(char)\n",
        "    for char in target_text:\n",
        "        if char not in target_characters:\n",
        "            target_characters.add(char)\n",
        "\n",
        "input_characters = sorted(list(input_characters))\n",
        "target_characters = sorted(list(target_characters))\n",
        "num_encoder_tokens = len(input_characters)\n",
        "num_decoder_tokens = len(target_characters)\n",
        "max_encoder_seq_length = max([len(txt) for txt in input_texts])\n",
        "max_decoder_seq_length = max([len(txt) for txt in target_texts])\n",
        "\n",
        "print(\"Number of samples:\", len(input_texts))\n",
        "print(\"Number of unique input tokens:\", num_encoder_tokens)\n",
        "print(\"Number of unique output tokens:\", num_decoder_tokens)\n",
        "print(\"Max sequence length for inputs:\", max_encoder_seq_length)\n",
        "print(\"Max sequence length for outputs:\", max_decoder_seq_length)"
      ],
      "execution_count": 31,
      "outputs": [
        {
          "output_type": "stream",
          "text": [
            "Number of samples: 28122\n",
            "Number of unique input tokens: 67\n",
            "Number of unique output tokens: 70\n",
            "Max sequence length for inputs: 40\n",
            "Max sequence length for outputs: 43\n"
          ],
          "name": "stdout"
        }
      ]
    },
    {
      "cell_type": "markdown",
      "metadata": {
        "id": "m2rgulyotMnp"
      },
      "source": [
        "encoder_input_data is a 3D array of shape (num_pairs, max_english_sentence_length, num_english_characters) containing a one-hot vectorization of the English sentences.\n",
        "\n",
        "decoder_input_data is a 3D array of shape (num_pairs, max_french_sentence_length, num_french_characters) containg a one-hot vectorization of the French sentences.\n",
        "\n",
        "decoder_target_data is the same as decoder_input_data but offset by one timestep. decoder_target_data[:, t, :] will be the same as decoder_input_data[:, t + 1, :]."
      ]
    },
    {
      "cell_type": "code",
      "metadata": {
        "id": "zgLeI1FDtIim"
      },
      "source": [
        "input_token_index = dict([(char, i) for i, char in enumerate(input_characters)])\n",
        "target_token_index = dict([(char, i) for i, char in enumerate(target_characters)])\n",
        "\n",
        "encoder_input_data = np.zeros(\n",
        "    (len(input_texts), max_encoder_seq_length, num_encoder_tokens), dtype=\"float32\"\n",
        ")\n",
        "decoder_input_data = np.zeros(\n",
        "    (len(input_texts), max_decoder_seq_length, num_decoder_tokens), dtype=\"float32\"\n",
        ")\n",
        "decoder_target_data = np.zeros(\n",
        "    (len(input_texts), max_decoder_seq_length, num_decoder_tokens), dtype=\"float32\"\n",
        ")"
      ],
      "execution_count": 32,
      "outputs": []
    },
    {
      "cell_type": "markdown",
      "metadata": {
        "id": "18xsjDSctEAq"
      },
      "source": [
        "one hot rep"
      ]
    },
    {
      "cell_type": "code",
      "metadata": {
        "id": "BUOnWjmVtCuO"
      },
      "source": [
        "for i, (input_text, target_text) in enumerate(zip(input_texts, target_texts)):\n",
        "    for t, char in enumerate(input_text):\n",
        "        encoder_input_data[i, t, input_token_index[char]] = 1.0\n",
        "    #encoder_input_data[i, t + 1 :, input_token_index[' ']] = 1.0\n",
        "    for t, char in enumerate(target_text):\n",
        "        # decoder_target_data is ahead of decoder_input_data by one timestep\n",
        "        decoder_input_data[i, t, target_token_index[char]] = 1.0\n",
        "        if t > 0:\n",
        "            # decoder_target_data will be ahead by one timestep\n",
        "            # and will not include the start character.\n",
        "            decoder_target_data[i, t - 1, target_token_index[char]] = 1.0\n",
        "    decoder_input_data[i, t + 1 :, target_token_index[' ']] = 1.0\n",
        "    decoder_target_data[i, t:, target_token_index[' ']] = 1.0"
      ],
      "execution_count": 33,
      "outputs": []
    },
    {
      "cell_type": "code",
      "metadata": {
        "id": "b4QqON8DoQSM"
      },
      "source": [
        "# Define an input sequence and process it.\n",
        "encoder_inputs = Input(shape=(None, num_encoder_tokens))\n",
        "encoder = Bidirectional(LSTM(latent_dim, return_state=True, return_sequences=True))\n",
        "encoder_outputs1, forw_state_h, forw_state_c, back_state_h, back_state_c = encoder(encoder_inputs)\n",
        "\n",
        "state_h = Concatenate()([forw_state_h, back_state_h])\n",
        "state_c = Concatenate()([forw_state_c, back_state_c])\n",
        "\n",
        "encoder_states = [state_h, state_c]\n",
        "\n",
        "# Set up the decoder, using `encoder_states` as initial state.\n",
        "decoder_inputs = keras.Input(shape=(None, num_decoder_tokens))\n",
        "\n",
        "# We set up our decoder to return full output sequences,\n",
        "# and to return internal states as well. We don't use the\n",
        "# return states in the training model, but we will use them in inference.\n",
        "decoder_lstm = LSTM((2*latent_dim), return_sequences=True, return_state=True)\n",
        "decoder_outputs, _, _ = decoder_lstm(decoder_inputs, initial_state=encoder_states)\n",
        "decoder_dense = keras.layers.Dense(num_decoder_tokens, activation=\"softmax\")\n",
        "decoder_outputs = decoder_dense(decoder_outputs)\n",
        "\n",
        "model = keras.Model([encoder_inputs, decoder_inputs], decoder_outputs)"
      ],
      "execution_count": 7,
      "outputs": []
    },
    {
      "cell_type": "code",
      "metadata": {
        "colab": {
          "base_uri": "https://localhost:8080/"
        },
        "id": "89rHyXfDoT3z",
        "outputId": "c541df2b-56a9-404b-b8b8-6b31573fef41"
      },
      "source": [
        "model.compile(\n",
        "    optimizer=\"rmsprop\", loss=\"categorical_crossentropy\", metrics=['accuracy']\n",
        ")\n",
        "model.fit(\n",
        "    [encoder_input_data, decoder_input_data],\n",
        "    decoder_target_data,\n",
        "    batch_size=batch_size,\n",
        "    epochs=epochs,\n",
        "    validation_split=0.2,\n",
        ")"
      ],
      "execution_count": 8,
      "outputs": [
        {
          "output_type": "stream",
          "text": [
            "Epoch 1/100\n",
            "352/352 [==============================] - 33s 66ms/step - loss: 0.4634 - accuracy: 0.8867 - val_loss: 0.2663 - val_accuracy: 0.9266\n",
            "Epoch 2/100\n",
            "352/352 [==============================] - 22s 62ms/step - loss: 0.1788 - accuracy: 0.9519 - val_loss: 0.1211 - val_accuracy: 0.9687\n",
            "Epoch 3/100\n",
            "352/352 [==============================] - 22s 63ms/step - loss: 0.0955 - accuracy: 0.9746 - val_loss: 0.0926 - val_accuracy: 0.9762\n",
            "Epoch 4/100\n",
            "352/352 [==============================] - 22s 63ms/step - loss: 0.0614 - accuracy: 0.9839 - val_loss: 0.0626 - val_accuracy: 0.9833\n",
            "Epoch 5/100\n",
            "352/352 [==============================] - 22s 63ms/step - loss: 0.0551 - accuracy: 0.9855 - val_loss: 0.0507 - val_accuracy: 0.9866\n",
            "Epoch 6/100\n",
            "352/352 [==============================] - 22s 63ms/step - loss: 0.0389 - accuracy: 0.9896 - val_loss: 0.0443 - val_accuracy: 0.9884\n",
            "Epoch 7/100\n",
            "352/352 [==============================] - 22s 63ms/step - loss: 0.0321 - accuracy: 0.9914 - val_loss: 0.0382 - val_accuracy: 0.9897\n",
            "Epoch 8/100\n",
            "352/352 [==============================] - 22s 63ms/step - loss: 0.0270 - accuracy: 0.9925 - val_loss: 0.0403 - val_accuracy: 0.9892\n",
            "Epoch 9/100\n",
            "352/352 [==============================] - 22s 63ms/step - loss: 0.0227 - accuracy: 0.9936 - val_loss: 0.0363 - val_accuracy: 0.9904\n",
            "Epoch 10/100\n",
            "352/352 [==============================] - 22s 63ms/step - loss: 0.0193 - accuracy: 0.9946 - val_loss: 0.0316 - val_accuracy: 0.9914\n",
            "Epoch 11/100\n",
            "352/352 [==============================] - 22s 63ms/step - loss: 0.0164 - accuracy: 0.9953 - val_loss: 0.0291 - val_accuracy: 0.9924\n",
            "Epoch 12/100\n",
            "352/352 [==============================] - 22s 63ms/step - loss: 0.0140 - accuracy: 0.9960 - val_loss: 0.0293 - val_accuracy: 0.9923\n",
            "Epoch 13/100\n",
            "352/352 [==============================] - 22s 63ms/step - loss: 0.0121 - accuracy: 0.9965 - val_loss: 0.0303 - val_accuracy: 0.9920\n",
            "Epoch 14/100\n",
            "352/352 [==============================] - 22s 63ms/step - loss: 0.0105 - accuracy: 0.9969 - val_loss: 0.0245 - val_accuracy: 0.9938\n",
            "Epoch 15/100\n",
            "352/352 [==============================] - 22s 63ms/step - loss: 0.0091 - accuracy: 0.9973 - val_loss: 0.0257 - val_accuracy: 0.9934\n",
            "Epoch 16/100\n",
            "352/352 [==============================] - 22s 63ms/step - loss: 0.0082 - accuracy: 0.9977 - val_loss: 0.0245 - val_accuracy: 0.9939\n",
            "Epoch 17/100\n",
            "352/352 [==============================] - 22s 63ms/step - loss: 0.0074 - accuracy: 0.9979 - val_loss: 0.0241 - val_accuracy: 0.9940\n",
            "Epoch 18/100\n",
            "352/352 [==============================] - 22s 63ms/step - loss: 0.0066 - accuracy: 0.9981 - val_loss: 0.0243 - val_accuracy: 0.9941\n",
            "Epoch 19/100\n",
            "352/352 [==============================] - 22s 63ms/step - loss: 0.0059 - accuracy: 0.9983 - val_loss: 0.0238 - val_accuracy: 0.9941\n",
            "Epoch 20/100\n",
            "352/352 [==============================] - 22s 63ms/step - loss: 0.0053 - accuracy: 0.9986 - val_loss: 0.0247 - val_accuracy: 0.9941\n",
            "Epoch 21/100\n",
            "352/352 [==============================] - 22s 63ms/step - loss: 0.0049 - accuracy: 0.9986 - val_loss: 0.0245 - val_accuracy: 0.9944\n",
            "Epoch 22/100\n",
            "352/352 [==============================] - 22s 63ms/step - loss: 0.0047 - accuracy: 0.9987 - val_loss: 0.0244 - val_accuracy: 0.9941\n",
            "Epoch 23/100\n",
            "352/352 [==============================] - 22s 63ms/step - loss: 0.0041 - accuracy: 0.9989 - val_loss: 0.0252 - val_accuracy: 0.9939\n",
            "Epoch 24/100\n",
            "352/352 [==============================] - 22s 63ms/step - loss: 0.0041 - accuracy: 0.9989 - val_loss: 0.0237 - val_accuracy: 0.9944\n",
            "Epoch 25/100\n",
            "352/352 [==============================] - 22s 63ms/step - loss: 0.0038 - accuracy: 0.9989 - val_loss: 0.0238 - val_accuracy: 0.9945\n",
            "Epoch 26/100\n",
            "352/352 [==============================] - 22s 63ms/step - loss: 0.0035 - accuracy: 0.9991 - val_loss: 0.0273 - val_accuracy: 0.9939\n",
            "Epoch 27/100\n",
            "352/352 [==============================] - 22s 63ms/step - loss: 0.0032 - accuracy: 0.9992 - val_loss: 0.0239 - val_accuracy: 0.9947\n",
            "Epoch 28/100\n",
            "352/352 [==============================] - 22s 63ms/step - loss: 0.0030 - accuracy: 0.9992 - val_loss: 0.0221 - val_accuracy: 0.9950\n",
            "Epoch 29/100\n",
            "352/352 [==============================] - 22s 63ms/step - loss: 0.0028 - accuracy: 0.9992 - val_loss: 0.0254 - val_accuracy: 0.9942\n",
            "Epoch 30/100\n",
            "352/352 [==============================] - 22s 63ms/step - loss: 0.0028 - accuracy: 0.9993 - val_loss: 0.0248 - val_accuracy: 0.9944\n",
            "Epoch 31/100\n",
            "352/352 [==============================] - 22s 63ms/step - loss: 0.0026 - accuracy: 0.9993 - val_loss: 0.0232 - val_accuracy: 0.9950\n",
            "Epoch 32/100\n",
            "352/352 [==============================] - 22s 63ms/step - loss: 0.0025 - accuracy: 0.9994 - val_loss: 0.0250 - val_accuracy: 0.9945\n",
            "Epoch 33/100\n",
            "352/352 [==============================] - 22s 63ms/step - loss: 0.0023 - accuracy: 0.9994 - val_loss: 0.0237 - val_accuracy: 0.9948\n",
            "Epoch 34/100\n",
            "352/352 [==============================] - 22s 63ms/step - loss: 0.0023 - accuracy: 0.9994 - val_loss: 0.0265 - val_accuracy: 0.9944\n",
            "Epoch 35/100\n",
            "352/352 [==============================] - 22s 63ms/step - loss: 0.0022 - accuracy: 0.9994 - val_loss: 0.0251 - val_accuracy: 0.9947\n",
            "Epoch 36/100\n",
            "352/352 [==============================] - 22s 63ms/step - loss: 0.0021 - accuracy: 0.9994 - val_loss: 0.0260 - val_accuracy: 0.9948\n",
            "Epoch 37/100\n",
            "352/352 [==============================] - 22s 63ms/step - loss: 0.0021 - accuracy: 0.9994 - val_loss: 0.0255 - val_accuracy: 0.9947\n",
            "Epoch 38/100\n",
            "352/352 [==============================] - 22s 63ms/step - loss: 0.0019 - accuracy: 0.9995 - val_loss: 0.0284 - val_accuracy: 0.9943\n",
            "Epoch 39/100\n",
            "352/352 [==============================] - 22s 63ms/step - loss: 0.0019 - accuracy: 0.9995 - val_loss: 0.0281 - val_accuracy: 0.9941\n",
            "Epoch 40/100\n",
            "352/352 [==============================] - 22s 63ms/step - loss: 0.0019 - accuracy: 0.9995 - val_loss: 0.0261 - val_accuracy: 0.9947\n",
            "Epoch 41/100\n",
            "352/352 [==============================] - 22s 63ms/step - loss: 0.0018 - accuracy: 0.9995 - val_loss: 0.0262 - val_accuracy: 0.9947\n",
            "Epoch 42/100\n",
            "352/352 [==============================] - 22s 63ms/step - loss: 0.0018 - accuracy: 0.9995 - val_loss: 0.0264 - val_accuracy: 0.9947\n",
            "Epoch 43/100\n",
            "352/352 [==============================] - 22s 63ms/step - loss: 0.0017 - accuracy: 0.9996 - val_loss: 0.0265 - val_accuracy: 0.9945\n",
            "Epoch 44/100\n",
            "352/352 [==============================] - 22s 63ms/step - loss: 0.0017 - accuracy: 0.9996 - val_loss: 0.0253 - val_accuracy: 0.9950\n",
            "Epoch 45/100\n",
            "352/352 [==============================] - 22s 63ms/step - loss: 0.0017 - accuracy: 0.9996 - val_loss: 0.0265 - val_accuracy: 0.9946\n",
            "Epoch 46/100\n",
            "352/352 [==============================] - 22s 63ms/step - loss: 0.0017 - accuracy: 0.9996 - val_loss: 0.0294 - val_accuracy: 0.9942\n",
            "Epoch 47/100\n",
            "352/352 [==============================] - 22s 63ms/step - loss: 0.0015 - accuracy: 0.9996 - val_loss: 0.0258 - val_accuracy: 0.9947\n",
            "Epoch 48/100\n",
            "352/352 [==============================] - 22s 63ms/step - loss: 0.0015 - accuracy: 0.9996 - val_loss: 0.0280 - val_accuracy: 0.9946\n",
            "Epoch 49/100\n",
            "352/352 [==============================] - 22s 63ms/step - loss: 0.0016 - accuracy: 0.9996 - val_loss: 0.0280 - val_accuracy: 0.9946\n",
            "Epoch 50/100\n",
            "352/352 [==============================] - 22s 63ms/step - loss: 0.0015 - accuracy: 0.9996 - val_loss: 0.0261 - val_accuracy: 0.9949\n",
            "Epoch 51/100\n",
            "352/352 [==============================] - 22s 63ms/step - loss: 0.0014 - accuracy: 0.9996 - val_loss: 0.0267 - val_accuracy: 0.9948\n",
            "Epoch 52/100\n",
            "352/352 [==============================] - 22s 63ms/step - loss: 0.0014 - accuracy: 0.9996 - val_loss: 0.0278 - val_accuracy: 0.9944\n",
            "Epoch 53/100\n",
            "352/352 [==============================] - 22s 63ms/step - loss: 0.0014 - accuracy: 0.9996 - val_loss: 0.0273 - val_accuracy: 0.9947\n",
            "Epoch 54/100\n",
            "352/352 [==============================] - 22s 63ms/step - loss: 0.0013 - accuracy: 0.9997 - val_loss: 0.0263 - val_accuracy: 0.9949\n",
            "Epoch 55/100\n",
            "352/352 [==============================] - 22s 63ms/step - loss: 0.0013 - accuracy: 0.9996 - val_loss: 0.0263 - val_accuracy: 0.9948\n",
            "Epoch 56/100\n",
            "352/352 [==============================] - 22s 63ms/step - loss: 0.0013 - accuracy: 0.9997 - val_loss: 0.0290 - val_accuracy: 0.9943\n",
            "Epoch 57/100\n",
            "352/352 [==============================] - 22s 63ms/step - loss: 0.0013 - accuracy: 0.9997 - val_loss: 0.0263 - val_accuracy: 0.9950\n",
            "Epoch 58/100\n",
            "352/352 [==============================] - 22s 63ms/step - loss: 0.0013 - accuracy: 0.9997 - val_loss: 0.0275 - val_accuracy: 0.9947\n",
            "Epoch 59/100\n",
            "352/352 [==============================] - 22s 63ms/step - loss: 0.0013 - accuracy: 0.9996 - val_loss: 0.0275 - val_accuracy: 0.9947\n",
            "Epoch 60/100\n",
            "352/352 [==============================] - 22s 63ms/step - loss: 0.0012 - accuracy: 0.9997 - val_loss: 0.0296 - val_accuracy: 0.9946\n",
            "Epoch 61/100\n",
            "352/352 [==============================] - 22s 63ms/step - loss: 0.0013 - accuracy: 0.9997 - val_loss: 0.0275 - val_accuracy: 0.9947\n",
            "Epoch 62/100\n",
            "352/352 [==============================] - 22s 63ms/step - loss: 0.0012 - accuracy: 0.9997 - val_loss: 0.0303 - val_accuracy: 0.9945\n",
            "Epoch 63/100\n",
            "352/352 [==============================] - 22s 63ms/step - loss: 0.0012 - accuracy: 0.9997 - val_loss: 0.0287 - val_accuracy: 0.9945\n",
            "Epoch 64/100\n",
            "352/352 [==============================] - 22s 64ms/step - loss: 0.0012 - accuracy: 0.9997 - val_loss: 0.0277 - val_accuracy: 0.9950\n",
            "Epoch 65/100\n",
            "352/352 [==============================] - 22s 64ms/step - loss: 0.0012 - accuracy: 0.9997 - val_loss: 0.0281 - val_accuracy: 0.9948\n",
            "Epoch 66/100\n",
            "352/352 [==============================] - 22s 63ms/step - loss: 0.0012 - accuracy: 0.9996 - val_loss: 0.0288 - val_accuracy: 0.9948\n",
            "Epoch 67/100\n",
            "352/352 [==============================] - 22s 63ms/step - loss: 0.0011 - accuracy: 0.9997 - val_loss: 0.0293 - val_accuracy: 0.9946\n",
            "Epoch 68/100\n",
            "352/352 [==============================] - 22s 63ms/step - loss: 0.0012 - accuracy: 0.9997 - val_loss: 0.0282 - val_accuracy: 0.9947\n",
            "Epoch 69/100\n",
            "352/352 [==============================] - 22s 63ms/step - loss: 0.0012 - accuracy: 0.9997 - val_loss: 0.0306 - val_accuracy: 0.9944\n",
            "Epoch 70/100\n",
            "352/352 [==============================] - 22s 63ms/step - loss: 0.0011 - accuracy: 0.9997 - val_loss: 0.0290 - val_accuracy: 0.9946\n",
            "Epoch 71/100\n",
            "352/352 [==============================] - 22s 63ms/step - loss: 0.0012 - accuracy: 0.9997 - val_loss: 0.0302 - val_accuracy: 0.9944\n",
            "Epoch 72/100\n",
            "352/352 [==============================] - 22s 63ms/step - loss: 0.0011 - accuracy: 0.9997 - val_loss: 0.0298 - val_accuracy: 0.9945\n",
            "Epoch 73/100\n",
            "352/352 [==============================] - 22s 64ms/step - loss: 0.0010 - accuracy: 0.9997 - val_loss: 0.0297 - val_accuracy: 0.9947\n",
            "Epoch 74/100\n",
            "352/352 [==============================] - 22s 63ms/step - loss: 0.0012 - accuracy: 0.9997 - val_loss: 0.0293 - val_accuracy: 0.9949\n",
            "Epoch 75/100\n",
            "352/352 [==============================] - 22s 63ms/step - loss: 0.0011 - accuracy: 0.9997 - val_loss: 0.0297 - val_accuracy: 0.9946\n",
            "Epoch 76/100\n",
            "352/352 [==============================] - 22s 63ms/step - loss: 0.0010 - accuracy: 0.9997 - val_loss: 0.0301 - val_accuracy: 0.9947\n",
            "Epoch 77/100\n",
            "352/352 [==============================] - 22s 64ms/step - loss: 0.0011 - accuracy: 0.9997 - val_loss: 0.0330 - val_accuracy: 0.9942\n",
            "Epoch 78/100\n",
            "352/352 [==============================] - 22s 63ms/step - loss: 0.0011 - accuracy: 0.9997 - val_loss: 0.0300 - val_accuracy: 0.9945\n",
            "Epoch 79/100\n",
            "352/352 [==============================] - 22s 63ms/step - loss: 0.0010 - accuracy: 0.9997 - val_loss: 0.0310 - val_accuracy: 0.9945\n",
            "Epoch 80/100\n",
            "352/352 [==============================] - 22s 63ms/step - loss: 0.0011 - accuracy: 0.9997 - val_loss: 0.0304 - val_accuracy: 0.9945\n",
            "Epoch 81/100\n",
            "352/352 [==============================] - 22s 63ms/step - loss: 0.0010 - accuracy: 0.9997 - val_loss: 0.0314 - val_accuracy: 0.9945\n",
            "Epoch 82/100\n",
            "352/352 [==============================] - 22s 63ms/step - loss: 0.0011 - accuracy: 0.9997 - val_loss: 0.0297 - val_accuracy: 0.9947\n",
            "Epoch 83/100\n",
            "352/352 [==============================] - 22s 63ms/step - loss: 0.0010 - accuracy: 0.9997 - val_loss: 0.0303 - val_accuracy: 0.9947\n",
            "Epoch 84/100\n",
            "352/352 [==============================] - 22s 64ms/step - loss: 0.0013 - accuracy: 0.9997 - val_loss: 0.0310 - val_accuracy: 0.9944\n",
            "Epoch 85/100\n",
            "352/352 [==============================] - 22s 64ms/step - loss: 9.9050e-04 - accuracy: 0.9997 - val_loss: 0.0304 - val_accuracy: 0.9947\n",
            "Epoch 86/100\n",
            "352/352 [==============================] - 22s 64ms/step - loss: 9.8579e-04 - accuracy: 0.9997 - val_loss: 0.0319 - val_accuracy: 0.9944\n",
            "Epoch 87/100\n",
            "352/352 [==============================] - 22s 64ms/step - loss: 0.0010 - accuracy: 0.9997 - val_loss: 0.0323 - val_accuracy: 0.9946\n",
            "Epoch 88/100\n",
            "352/352 [==============================] - 22s 64ms/step - loss: 9.9375e-04 - accuracy: 0.9997 - val_loss: 0.0312 - val_accuracy: 0.9946\n",
            "Epoch 89/100\n",
            "352/352 [==============================] - 23s 64ms/step - loss: 0.0010 - accuracy: 0.9997 - val_loss: 0.0304 - val_accuracy: 0.9944\n",
            "Epoch 90/100\n",
            "352/352 [==============================] - 22s 63ms/step - loss: 0.0010 - accuracy: 0.9997 - val_loss: 0.0301 - val_accuracy: 0.9947\n",
            "Epoch 91/100\n",
            "352/352 [==============================] - 22s 64ms/step - loss: 0.0012 - accuracy: 0.9997 - val_loss: 0.0306 - val_accuracy: 0.9946\n",
            "Epoch 92/100\n",
            "352/352 [==============================] - 22s 63ms/step - loss: 0.0010 - accuracy: 0.9997 - val_loss: 0.0315 - val_accuracy: 0.9944\n",
            "Epoch 93/100\n",
            "352/352 [==============================] - 22s 64ms/step - loss: 0.0012 - accuracy: 0.9997 - val_loss: 0.0315 - val_accuracy: 0.9943\n",
            "Epoch 94/100\n",
            "352/352 [==============================] - 23s 64ms/step - loss: 9.5245e-04 - accuracy: 0.9997 - val_loss: 0.0320 - val_accuracy: 0.9944\n",
            "Epoch 95/100\n",
            "352/352 [==============================] - 23s 64ms/step - loss: 9.5443e-04 - accuracy: 0.9997 - val_loss: 0.0311 - val_accuracy: 0.9945\n",
            "Epoch 96/100\n",
            "352/352 [==============================] - 22s 64ms/step - loss: 9.5147e-04 - accuracy: 0.9997 - val_loss: 0.0332 - val_accuracy: 0.9943\n",
            "Epoch 97/100\n",
            "352/352 [==============================] - 23s 64ms/step - loss: 0.0010 - accuracy: 0.9997 - val_loss: 0.0353 - val_accuracy: 0.9941\n",
            "Epoch 98/100\n",
            "352/352 [==============================] - 22s 64ms/step - loss: 9.5984e-04 - accuracy: 0.9997 - val_loss: 0.0321 - val_accuracy: 0.9944\n",
            "Epoch 99/100\n",
            "352/352 [==============================] - 23s 64ms/step - loss: 9.3830e-04 - accuracy: 0.9997 - val_loss: 0.0325 - val_accuracy: 0.9945\n",
            "Epoch 100/100\n",
            "352/352 [==============================] - 22s 64ms/step - loss: 9.8723e-04 - accuracy: 0.9997 - val_loss: 0.0325 - val_accuracy: 0.9944\n"
          ],
          "name": "stdout"
        },
        {
          "output_type": "execute_result",
          "data": {
            "text/plain": [
              "<keras.callbacks.History at 0x7ff0e0564cd0>"
            ]
          },
          "metadata": {},
          "execution_count": 8
        }
      ]
    },
    {
      "cell_type": "code",
      "metadata": {
        "id": "uqyG4AThQn_Q"
      },
      "source": [
        "# Save model\n",
        "model.save(\"/content/drive/MyDrive/NLP/Lexical Normalisation/models/ln_s2s_biLstm.h5\")"
      ],
      "execution_count": 9,
      "outputs": []
    },
    {
      "cell_type": "code",
      "metadata": {
        "colab": {
          "base_uri": "https://localhost:8080/",
          "height": 482
        },
        "id": "tjxBF_LSdSCq",
        "outputId": "f651191b-dbd7-457e-8b97-59e981d4a8c2"
      },
      "source": [
        "from tensorflow.keras.utils import plot_model\n",
        "plot_model(\n",
        "    model,\n",
        "    to_file=\"model.png\",\n",
        "    show_shapes=True,\n",
        "    show_dtype=False,\n",
        "    show_layer_names=True,\n",
        "    rankdir=\"TB\",\n",
        "    expand_nested=False,\n",
        "    dpi=96,\n",
        ")"
      ],
      "execution_count": 10,
      "outputs": [
        {
          "output_type": "execute_result",
          "data": {
            "image/png": "[encoded data removed]",
            "text/plain": [
              "<IPython.core.display.Image object>"
            ]
          },
          "metadata": {},
          "execution_count": 10
        }
      ]
    },
    {
      "cell_type": "code",
      "metadata": {
        "id": "O8-r9LOo9Ok9"
      },
      "source": [
        "import matplotlib.pyplot as plt"
      ],
      "execution_count": 11,
      "outputs": []
    },
    {
      "cell_type": "code",
      "metadata": {
        "colab": {
          "base_uri": "https://localhost:8080/",
          "height": 573
        },
        "id": "kq1G4ZmY9FEp",
        "outputId": "bd5fae68-0abc-445b-8c1d-2028e40279c4"
      },
      "source": [
        "plt.plot(model.history.history['accuracy'])\n",
        "plt.plot(model.history.history['val_accuracy'])\n",
        "plt.title('model accuracy')\n",
        "plt.ylabel('accuracy')\n",
        "plt.xlabel('epoch')\n",
        "plt.legend(['train', 'test'], loc='upper left')\n",
        "plt.show()\n",
        "# summarize history for loss\n",
        "plt.plot(model.history.history['loss'])\n",
        "plt.plot(model.history.history['val_loss'])\n",
        "plt.title('model loss')\n",
        "plt.ylabel('loss')\n",
        "plt.xlabel('epoch')\n",
        "plt.legend(['train', 'test'], loc='upper left')\n",
        "plt.show()"
      ],
      "execution_count": 12,
      "outputs": [
        {
          "output_type": "display_data",
          "data": {
            "image/png": "[encoded data removed]",
            "text/plain": [
              "<Figure size 432x288 with 1 Axes>"
            ]
          },
          "metadata": {
            "needs_background": "light"
          }
        },
        {
          "output_type": "display_data",
          "data": {
            "image/png": "[encoded data removed]",
            "text/plain": [
              "<Figure size 432x288 with 1 Axes>"
            ]
          },
          "metadata": {
            "needs_background": "light"
          }
        }
      ]
    },
    {
      "cell_type": "markdown",
      "metadata": {
        "id": "EIj-kPrq8V4I"
      },
      "source": [
        "testing with validation"
      ]
    },
    {
      "cell_type": "code",
      "metadata": {
        "id": "7lqy01MQ9_IY"
      },
      "source": [
        "# Define sampling models\n",
        "# Restore the model and construct the encoder and decoder.\n",
        "model = keras.models.load_model(\"/content/drive/MyDrive/NLP/Lexical Normalisation/models/ln_s2s_biLstm.h5\")\n",
        "\n",
        "encoder_inputs = model.input[0]  # input_1\n",
        "#encoder_outputs, state_h_enc, state_c_enc = model.layers[2].output  # lstm_1\n",
        "\n",
        "encoder_outputs1, forw_state_h, forw_state_c, back_state_h, back_state_c = model.layers[1].output # lstm_1\n",
        "\n",
        "state_h_enc = Concatenate()([forw_state_h, back_state_h])\n",
        "state_c_enc = Concatenate()([forw_state_c, back_state_c])\n",
        "\n",
        "#encoder_states = [state_h, state_c]\n",
        "\n",
        "encoder_states = [state_h_enc, state_c_enc]\n",
        "encoder_model = keras.Model(encoder_inputs, encoder_states)"
      ],
      "execution_count": 34,
      "outputs": []
    },
    {
      "cell_type": "code",
      "metadata": {
        "id": "GF8UGyHXqS37"
      },
      "source": [
        "decoder_inputs = model.input[1]  # input_2\n",
        "decoder_state_input_h = keras.Input(shape=((2*latent_dim),), name=\"input_4\")\n",
        "decoder_state_input_c = keras.Input(shape=((2*latent_dim),), name=\"input_5\")\n",
        "decoder_states_inputs = [decoder_state_input_h, decoder_state_input_c]\n",
        "decoder_lstm = model.layers[5]\n",
        "initial_state=decoder_states_inputs\n",
        "decoder_outputs, state_h_dec, state_c_dec = decoder_lstm(decoder_inputs, initial_state=initial_state)\n",
        "decoder_states = [state_h_dec, state_c_dec]\n",
        "decoder_dense = model.layers[6]\n",
        "decoder_outputs = decoder_dense(decoder_outputs)\n",
        "decoder_model = keras.Model(\n",
        "    [decoder_inputs] + decoder_states_inputs, [decoder_outputs] + decoder_states\n",
        ")\n",
        "\n",
        "# Reverse-lookup token index to decode sequences back to\n",
        "# something readable.\n",
        "reverse_input_char_index = dict((i, char) for char, i in input_token_index.items())\n",
        "reverse_target_char_index = dict((i, char) for char, i in target_token_index.items())\n",
        "\n",
        "\n",
        "def decode_sequence(input_seq):\n",
        "    # Encode the input as state vectors.\n",
        "    states_value = encoder_model.predict(input_seq)\n",
        "\n",
        "    # Generate empty target sequence of length 1.\n",
        "    target_seq = np.zeros((1, 1, num_decoder_tokens))\n",
        "    # Populate the first character of target sequence with the start character.\n",
        "    target_seq[0, 0, target_token_index[\"\\t\"]] = 1.0\n",
        "\n",
        "    # Sampling loop for a batch of sequences\n",
        "    # (to simplify, here we assume a batch of size 1).\n",
        "    stop_condition = False\n",
        "    decoded_sentence = \"\"\n",
        "    while not stop_condition:\n",
        "        output_tokens, h, c = decoder_model.predict([target_seq] + states_value)\n",
        "\n",
        "        # Sample a token\n",
        "        sampled_token_index = np.argmax(output_tokens[0, -1, :])\n",
        "        sampled_char = reverse_target_char_index[sampled_token_index]\n",
        "        decoded_sentence += sampled_char\n",
        "\n",
        "        # Exit condition: either hit max length\n",
        "        # or find stop character.\n",
        "        if sampled_char == \"\\n\" or len(decoded_sentence) > max_decoder_seq_length:\n",
        "            stop_condition = True\n",
        "\n",
        "        # Update the target sequence (of length 1).\n",
        "        target_seq = np.zeros((1, 1, num_decoder_tokens))\n",
        "        target_seq[0, 0, sampled_token_index] = 1.0\n",
        "\n",
        "        # Update states\n",
        "        states_value = [h, c]\n",
        "    return decoded_sentence"
      ],
      "execution_count": 35,
      "outputs": []
    },
    {
      "cell_type": "code",
      "metadata": {
        "colab": {
          "base_uri": "https://localhost:8080/"
        },
        "id": "CvlCdwZP8OGR",
        "outputId": "a2b71c66-22d1-40fb-e16c-96c1f6b5f268"
      },
      "source": [
        "for seq_index in range(50):\n",
        "    # Take one sequence (part of the training set) for trying out decoding.\n",
        "    input_seq = encoder_input_data[seq_index : seq_index + 1]\n",
        "    decoded_sentence = decode_sequence(input_seq)\n",
        "    print(\"-\")\n",
        "    print(\"Input sentence:\", input_texts[seq_index])\n",
        "    print(\"Decoded sentence:\", decoded_sentence)"
      ],
      "execution_count": 36,
      "outputs": [
        {
          "output_type": "stream",
          "text": [
            "-\n",
            "Input sentence: rt\n",
            "Decoded sentence: rt\n",
            "\n",
            "-\n",
            "Input sentence: @teddyferrari1\n",
            "Decoded sentence: @teddyferrari1\n",
            "\n",
            "-\n",
            "Input sentence: :\n",
            "Decoded sentence: :\n",
            "\n",
            "-\n",
            "Input sentence: \"\n",
            "Decoded sentence: \"\n",
            "\n",
            "-\n",
            "Input sentence: ah\n",
            "Decoded sentence: ah\n",
            "\n",
            "-\n",
            "Input sentence: ...\n",
            "Decoded sentence: ...\n",
            "\n",
            "-\n",
            "Input sentence: @datzmenoni\n",
            "Decoded sentence: @datzmenoni\n",
            "\n",
            "-\n",
            "Input sentence: :\n",
            "Decoded sentence: :\n",
            "\n",
            "-\n",
            "Input sentence: why\n",
            "Decoded sentence: why\n",
            "\n",
            "-\n",
            "Input sentence: sub\n",
            "Decoded sentence: sub\n",
            "\n",
            "-\n",
            "Input sentence: ozil\n",
            "Decoded sentence: ozil\n",
            "\n",
            "-\n",
            "Input sentence: \"\n",
            "Decoded sentence: \"\n",
            "\n",
            "-\n",
            "Input sentence: @lexzydoo_ab\n",
            "Decoded sentence: @lexzydoo_ab\n",
            "\n",
            "-\n",
            "Input sentence: :\n",
            "Decoded sentence: :\n",
            "\n",
            "-\n",
            "Input sentence: opolo\n",
            "Decoded sentence: opolo\n",
            "\n",
            "-\n",
            "Input sentence: eyes\n",
            "Decoded sentence: eyes\n",
            "\n",
            "-\n",
            "Input sentence: u\n",
            "Decoded sentence: you\n",
            "\n",
            "-\n",
            "Input sentence: no\n",
            "Decoded sentence: no\n",
            "\n",
            "-\n",
            "Input sentence: fit\n",
            "Decoded sentence: fit\n",
            "\n",
            "-\n",
            "Input sentence: open\n",
            "Decoded sentence: open\n",
            "\n",
            "-\n",
            "Input sentence: eyes\n",
            "Decoded sentence: eyes\n",
            "\n",
            "-\n",
            "Input sentence: \"\"\n",
            "Decoded sentence: \"\"\n",
            "\n",
            "-\n",
            "Input sentence: u\n",
            "Decoded sentence: you\n",
            "\n",
            "-\n",
            "Input sentence: have\n",
            "Decoded sentence: have\n",
            "\n",
            "-\n",
            "Input sentence: a\n",
            "Decoded sentence: a\n",
            "\n",
            "-\n",
            "Input sentence: very\n",
            "Decoded sentence: very\n",
            "\n",
            "-\n",
            "Input sentence: sexy\n",
            "Decoded sentence: sexy\n",
            "\n",
            "-\n",
            "Input sentence: header\n",
            "Decoded sentence: header\n",
            "\n",
            "-\n",
            "Input sentence: @jaibrooks1\n",
            "Decoded sentence: @jaibrooks1\n",
            "\n",
            "-\n",
            "Input sentence: rawr\n",
            "Decoded sentence: rawr\n",
            "\n",
            "-\n",
            "Input sentence: i\n",
            "Decoded sentence: i\n",
            "\n",
            "-\n",
            "Input sentence: miss\n",
            "Decoded sentence: miss\n",
            "\n",
            "-\n",
            "Input sentence: u\n",
            "Decoded sentence: you\n",
            "\n",
            "-\n",
            "Input sentence: my\n",
            "Decoded sentence: my\n",
            "\n",
            "-\n",
            "Input sentence: bie\n",
            "Decoded sentence: bie\n",
            "\n",
            "-\n",
            "Input sentence: !\n",
            "Decoded sentence: !\n",
            "\n",
            "-\n",
            "Input sentence: where\n",
            "Decoded sentence: where\n",
            "\n",
            "-\n",
            "Input sentence: u\n",
            "Decoded sentence: you\n",
            "\n",
            "-\n",
            "Input sentence: wanna\n",
            "Decoded sentence: want to\n",
            "\n",
            "-\n",
            "Input sentence: out\n",
            "Decoded sentence: out\n",
            "\n",
            "-\n",
            "Input sentence: wif\n",
            "Decoded sentence: with\n",
            "\n",
            "-\n",
            "Input sentence: me\n",
            "Decoded sentence: me\n",
            "\n",
            "-\n",
            "Input sentence: ?\n",
            "Decoded sentence: ?\n",
            "\n",
            "-\n",
            "Input sentence: have\n",
            "Decoded sentence: have\n",
            "\n",
            "-\n",
            "Input sentence: a\n",
            "Decoded sentence: a\n",
            "\n",
            "-\n",
            "Input sentence: wonderful\n",
            "Decoded sentence: wonderful\n",
            "\n",
            "-\n",
            "Input sentence: day\n",
            "Decoded sentence: day\n",
            "\n",
            "-\n",
            "Input sentence: like\n",
            "Decoded sentence: like\n",
            "\n",
            "-\n",
            "Input sentence: a\n",
            "Decoded sentence: a\n",
            "\n",
            "-\n",
            "Input sentence: swan\n",
            "Decoded sentence: swan\n",
            "\n"
          ],
          "name": "stdout"
        }
      ]
    },
    {
      "cell_type": "code",
      "metadata": {
        "id": "TXiaXCr3cxNz"
      },
      "source": [
        ""
      ],
      "execution_count": null,
      "outputs": []
    }
  ]
}