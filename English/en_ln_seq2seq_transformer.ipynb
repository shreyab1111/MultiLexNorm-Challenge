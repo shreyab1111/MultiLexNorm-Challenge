{
  "nbformat": 4,
  "nbformat_minor": 0,
  "metadata": {
    "accelerator": "GPU",
    "colab": {
      "name": "en_ln_seq2seq_transformer.ipynb",
      "provenance": [],
      "collapsed_sections": [],
      "include_colab_link": true
    },
    "kernelspec": {
      "display_name": "Python 3",
      "language": "python",
      "name": "python3"
    },
    "language_info": {
      "codemirror_mode": {
        "name": "ipython",
        "version": 3
      },
      "file_extension": ".py",
      "mimetype": "text/x-python",
      "name": "python",
      "nbconvert_exporter": "python",
      "pygments_lexer": "ipython3",
      "version": "3.7.6"
    }
  },
  "cells": [
    {
      "cell_type": "markdown",
      "metadata": {
        "id": "view-in-github",
        "colab_type": "text"
      },
      "source": [
        "<a href=\"https://colab.research.google.com/github/shreyab1111/MultiLexNorm-Challenge/blob/main/English/en_ln_seq2seq_transformer.ipynb\" target=\"_parent\"><img src=\"https://colab.research.google.com/assets/colab-badge.svg\" alt=\"Open In Colab\"/></a>"
      ]
    },
    {
      "cell_type": "code",
      "metadata": {
        "id": "9EmbOAfzoSQu"
      },
      "source": [
        "# !pip install --upgrade -qq tensorflow"
      ],
      "execution_count": null,
      "outputs": []
    },
    {
      "cell_type": "code",
      "metadata": {
        "colab": {
          "base_uri": "https://localhost:8080/"
        },
        "id": "Tc3b4Q_Q71Vy",
        "outputId": "611765dc-b67d-4771-d292-7380686a09fb"
      },
      "source": [
        "from google.colab import drive\n",
        "drive.mount('/content/drive')"
      ],
      "execution_count": 1,
      "outputs": [
        {
          "output_type": "stream",
          "text": [
            "Mounted at /content/drive\n"
          ],
          "name": "stdout"
        }
      ]
    },
    {
      "cell_type": "code",
      "metadata": {
        "colab": {
          "base_uri": "https://localhost:8080/"
        },
        "id": "E1sycRo-pFrF",
        "outputId": "77dc1e72-a564-4b6b-c38f-f2f21db0c904"
      },
      "source": [
        "import tensorflow as tf \n",
        "print(tf.__version__)"
      ],
      "execution_count": 2,
      "outputs": [
        {
          "output_type": "stream",
          "text": [
            "2.6.0\n"
          ],
          "name": "stdout"
        }
      ]
    },
    {
      "cell_type": "code",
      "metadata": {
        "id": "B_zd1UMIpC0V"
      },
      "source": [
        "import numpy as np\n",
        "from tensorflow import keras\n",
        "from tensorflow.keras.layers import Input,LSTM\n",
        "from tensorflow.keras import layers\n",
        "from tensorflow.keras.layers import TextVectorization\n",
        "import pathlib\n",
        "import random\n",
        "import string\n",
        "import re"
      ],
      "execution_count": 3,
      "outputs": []
    },
    {
      "cell_type": "code",
      "metadata": {
        "id": "vcxsB67eoklK"
      },
      "source": [
        "epochs = 150  # Number of epochs to train for.\n",
        "num_samples = 30000\n",
        "data_path = '/content/drive/MyDrive/NLP/Lexical Normalisation/Multilexnorm Challenge/English/train.norm.txt'"
      ],
      "execution_count": 5,
      "outputs": []
    },
    {
      "cell_type": "code",
      "metadata": {
        "id": "tegYHpnmo1wR"
      },
      "source": [
        "# Vectorize the data.\n",
        "input_texts = []\n",
        "target_texts = []\n",
        "text_pairs = []\n",
        "input_characters = set()\n",
        "target_characters = set()\n",
        "with open(data_path, \"r\", encoding=\"utf-8\") as f:\n",
        "    lines = f.readlines()\n",
        "for line in lines[: min(num_samples, len(lines) - 1)]:\n",
        "  if line=='\\n':\n",
        "    continue\n",
        "  else:\n",
        "    input_text, target_text= line.split(\"\\t\")\n",
        "    if target_text[-2:]!='\\n':\n",
        "      target_text = \"[start] \" + ' '.join([i for i in target_text[:-1]]) + \" [end]\"\n",
        "    else:\n",
        "      target_text = \"[start] \" + ' '.join([i for i in target_text]) + \" [end]\"\n",
        "    #input_texts.append(input_text)\n",
        "    #target_texts.append(target_text)\n",
        "    text_pairs.append((' '.join([i for i in input_text]), target_text))"
      ],
      "execution_count": 6,
      "outputs": []
    },
    {
      "cell_type": "code",
      "metadata": {
        "colab": {
          "base_uri": "https://localhost:8080/"
        },
        "id": "7s-620QKppt9",
        "outputId": "27967837-79dd-4c79-f038-6204634bf0b3"
      },
      "source": [
        "for _ in range(5):\n",
        "    print(random.choice(text_pairs))"
      ],
      "execution_count": 7,
      "outputs": [
        {
          "output_type": "stream",
          "text": [
            "('.', '[start] . [end]')\n",
            "('@ n b a f o l l o w t r a i n', '[start] @ n b a f o l l o w t r a i n [end]')\n",
            "('# b l o o m b e r g', '[start] # b l o o m b e r g [end]')\n",
            "('s e r g e', '[start] s e r g e [end]')\n",
            "('t h i s', '[start] t h i s [end]')\n"
          ],
          "name": "stdout"
        }
      ]
    },
    {
      "cell_type": "code",
      "metadata": {
        "colab": {
          "base_uri": "https://localhost:8080/"
        },
        "id": "BaHpVCqpgp6b",
        "outputId": "1a4517e9-256a-44e7-aca4-7dc893210c49"
      },
      "source": [
        "len(text_pairs)"
      ],
      "execution_count": 8,
      "outputs": [
        {
          "output_type": "execute_result",
          "data": {
            "text/plain": [
              "28122"
            ]
          },
          "metadata": {},
          "execution_count": 8
        }
      ]
    },
    {
      "cell_type": "code",
      "metadata": {
        "colab": {
          "base_uri": "https://localhost:8080/"
        },
        "id": "qGxEWXlHpz_F",
        "outputId": "eb13a9d3-e371-4acf-efe3-a4fe26a166d6"
      },
      "source": [
        "random.shuffle(text_pairs)\n",
        "num_val_samples = int(0.15 * len(text_pairs))\n",
        "num_train_samples = len(text_pairs) - 2 * num_val_samples\n",
        "train_pairs = text_pairs[:num_train_samples]\n",
        "val_pairs = text_pairs[num_train_samples : num_train_samples + num_val_samples]\n",
        "test_pairs = text_pairs[num_train_samples + num_val_samples :]\n",
        "\n",
        "print(f\"{len(text_pairs)} total pairs\")\n",
        "print(f\"{len(train_pairs)} training pairs\")\n",
        "print(f\"{len(val_pairs)} validation pairs\")\n",
        "print(f\"{len(test_pairs)} test pairs\")"
      ],
      "execution_count": 9,
      "outputs": [
        {
          "output_type": "stream",
          "text": [
            "28122 total pairs\n",
            "19686 training pairs\n",
            "4218 validation pairs\n",
            "4218 test pairs\n"
          ],
          "name": "stdout"
        }
      ]
    },
    {
      "cell_type": "code",
      "metadata": {
        "id": "c1BOHM0Xw8Nm"
      },
      "source": [
        "strip_chars = string.punctuation + \"¿\"\n",
        "strip_chars = strip_chars.replace(\"[\", \"\")\n",
        "strip_chars = strip_chars.replace(\"]\", \"\")\n",
        "\n",
        "vocab_size = 70\n",
        "sequence_length = 45\n",
        "batch_size = 64"
      ],
      "execution_count": 10,
      "outputs": []
    },
    {
      "cell_type": "code",
      "metadata": {
        "id": "GabMijddxBxw"
      },
      "source": [
        "def custom_standardization(input_string):\n",
        "    lowercase = tf.strings.lower(input_string)\n",
        "    return tf.strings.regex_replace(lowercase, \"[%s]\" % re.escape(strip_chars), \"\")"
      ],
      "execution_count": 11,
      "outputs": []
    },
    {
      "cell_type": "code",
      "metadata": {
        "id": "qBSM38m8xEqX"
      },
      "source": [
        "eng_vectorization = TextVectorization(\n",
        "    max_tokens=vocab_size, output_mode=\"int\", output_sequence_length=sequence_length,\n",
        ")\n",
        "spa_vectorization = TextVectorization(\n",
        "    max_tokens=vocab_size,\n",
        "    output_mode=\"int\",\n",
        "    output_sequence_length=sequence_length + 1,\n",
        "    standardize=custom_standardization,\n",
        ")\n",
        "train_input_texts = [pair[0] for pair in train_pairs]\n",
        "train_output_texts = [pair[1] for pair in train_pairs]\n",
        "eng_vectorization.adapt(train_input_texts)\n",
        "spa_vectorization.adapt(train_output_texts)"
      ],
      "execution_count": 12,
      "outputs": []
    },
    {
      "cell_type": "code",
      "metadata": {
        "colab": {
          "base_uri": "https://localhost:8080/"
        },
        "id": "crvDSRK-1tpF",
        "outputId": "2a282c40-544b-486d-d4fa-bf7ba3eb5ad5"
      },
      "source": [
        "print(train_input_texts[:15])\n",
        "print(train_output_texts[:15])"
      ],
      "execution_count": 13,
      "outputs": [
        {
          "output_type": "stream",
          "text": [
            "['s m a s h', 'd e f i n i t e l y', 'g', \"t h a t ' s\", 'o h', 's h i t', 'b o r i n g', '@ c 0 c k e a t e r', 'k n o w', 'm c s', 'm o s t', 'h t t p : / / t . c o / x i q v b 3 f m 5 d', 'n i c e', 'g u y s', 'r e t w e e t']\n",
            "['[start] s m a s h [end]', '[start] d e f i n i t e l y [end]', '[start] g [end]', \"[start] t h a t ' s [end]\", '[start] o h [end]', '[start] s h i t [end]', '[start] b o r i n g [end]', '[start] @ c 0 c k e a t e r [end]', '[start] k n o w [end]', '[start] m c s [end]', '[start] m o s t [end]', '[start] h t t p : / / t . c o / x i q v b 3 f m 5 d [end]', '[start] n i c e [end]', '[start] g u y s [end]', '[start] r e t w e e t [end]']\n"
          ],
          "name": "stdout"
        }
      ]
    },
    {
      "cell_type": "code",
      "metadata": {
        "id": "JDYbxwm_xI0M"
      },
      "source": [
        "def format_dataset(eng, spa):\n",
        "    eng = eng_vectorization(eng)\n",
        "    spa = spa_vectorization(spa)\n",
        "    return ({\"encoder_inputs\": eng, \"decoder_inputs\": spa[:, :-1],}, spa[:, 1:])\n",
        "\n",
        "def make_dataset(pairs):\n",
        "    eng_texts, spa_texts = zip(*pairs)\n",
        "    eng_texts = list(eng_texts)\n",
        "    spa_texts = list(spa_texts)\n",
        "    dataset = tf.data.Dataset.from_tensor_slices((eng_texts, spa_texts))\n",
        "    dataset = dataset.batch(batch_size)\n",
        "    dataset = dataset.map(format_dataset)\n",
        "    return dataset.shuffle(2048).prefetch(16).cache()"
      ],
      "execution_count": 14,
      "outputs": []
    },
    {
      "cell_type": "code",
      "metadata": {
        "id": "vljpNdx9zFDh"
      },
      "source": [
        "train_ds = make_dataset(train_pairs)\n",
        "val_ds = make_dataset(val_pairs)"
      ],
      "execution_count": 15,
      "outputs": []
    },
    {
      "cell_type": "code",
      "metadata": {
        "colab": {
          "base_uri": "https://localhost:8080/"
        },
        "id": "MxBpT47bBgHY",
        "outputId": "8891b5aa-45b0-495f-b7c6-f98ce80bf3c8"
      },
      "source": [
        "print(train_ds)\n",
        "print(val_ds)"
      ],
      "execution_count": 16,
      "outputs": [
        {
          "output_type": "stream",
          "text": [
            "<CacheDataset shapes: ({encoder_inputs: (None, 45), decoder_inputs: (None, 45)}, (None, 45)), types: ({encoder_inputs: tf.int64, decoder_inputs: tf.int64}, tf.int64)>\n",
            "<CacheDataset shapes: ({encoder_inputs: (None, 45), decoder_inputs: (None, 45)}, (None, 45)), types: ({encoder_inputs: tf.int64, decoder_inputs: tf.int64}, tf.int64)>\n"
          ],
          "name": "stdout"
        }
      ]
    },
    {
      "cell_type": "code",
      "metadata": {
        "colab": {
          "base_uri": "https://localhost:8080/"
        },
        "id": "V2W41XdkzHkc",
        "outputId": "f69fc851-434f-4f4c-81e8-b28862cfc5bf"
      },
      "source": [
        "for inputs, targets in train_ds.take(1):\n",
        "    print(f'inputs[\"encoder_inputs\"].shape: {inputs[\"encoder_inputs\"].shape}')\n",
        "    print(f'inputs[\"decoder_inputs\"].shape: {inputs[\"decoder_inputs\"].shape}')\n",
        "    print(f\"targets.shape: {targets.shape}\")"
      ],
      "execution_count": 17,
      "outputs": [
        {
          "output_type": "stream",
          "text": [
            "inputs[\"encoder_inputs\"].shape: (64, 45)\n",
            "inputs[\"decoder_inputs\"].shape: (64, 45)\n",
            "targets.shape: (64, 45)\n"
          ],
          "name": "stdout"
        }
      ]
    },
    {
      "cell_type": "code",
      "metadata": {
        "id": "We2sL4K-zK8Y"
      },
      "source": [
        "class TransformerEncoder(layers.Layer):\n",
        "    def __init__(self, embed_dim, dense_dim, num_heads, **kwargs):\n",
        "        super(TransformerEncoder, self).__init__(**kwargs)\n",
        "        self.embed_dim = embed_dim\n",
        "        self.dense_dim = dense_dim\n",
        "        self.num_heads = num_heads\n",
        "        self.attention = layers.MultiHeadAttention(\n",
        "            num_heads=num_heads, key_dim=embed_dim\n",
        "        )\n",
        "        self.dense_proj = keras.Sequential(\n",
        "            [layers.Dense(dense_dim, activation=\"relu\"), layers.Dense(embed_dim),]\n",
        "        )\n",
        "        self.layernorm_1 = layers.LayerNormalization()\n",
        "        self.layernorm_2 = layers.LayerNormalization()\n",
        "        self.supports_masking = True\n",
        "\n",
        "    def call(self, inputs, mask=None):\n",
        "        if mask is not None:\n",
        "            padding_mask = tf.cast(mask[:, tf.newaxis, tf.newaxis, :], dtype=\"int32\")\n",
        "        attention_output = self.attention(\n",
        "            query=inputs, value=inputs, key=inputs, attention_mask=padding_mask\n",
        "        )\n",
        "        proj_input = self.layernorm_1(inputs + attention_output)\n",
        "        proj_output = self.dense_proj(proj_input)\n",
        "        return self.layernorm_2(proj_input + proj_output)\n",
        "\n",
        "    def get_config(self):\n",
        "        config = super().get_config().copy()\n",
        "        config.update({\n",
        "            'embed_dim': self.embed_dim,\n",
        "            'dense_dim': self.dense_dim,\n",
        "            'num_heads': self.num_heads,\n",
        "            'attention': self.attention,\n",
        "            'dense_proj': self.dense_proj,\n",
        "            'layernorm_1': self.layernorm_1,\n",
        "            'layernorm_2': self.layernorm_2,\n",
        "            'supports_masking': self.supports_masking,\n",
        "        })\n",
        "        return config"
      ],
      "execution_count": 18,
      "outputs": []
    },
    {
      "cell_type": "code",
      "metadata": {
        "id": "N26LemxHzR2R"
      },
      "source": [
        "class PositionalEmbedding(layers.Layer):\n",
        "    def __init__(self, sequence_length, vocab_size, embed_dim, **kwargs):\n",
        "        super(PositionalEmbedding, self).__init__(**kwargs)\n",
        "        self.token_embeddings = layers.Embedding(\n",
        "            input_dim=vocab_size, output_dim=embed_dim\n",
        "        )\n",
        "        self.position_embeddings = layers.Embedding(\n",
        "            input_dim=sequence_length, output_dim=embed_dim\n",
        "        )\n",
        "        self.sequence_length = sequence_length\n",
        "        self.vocab_size = vocab_size\n",
        "        self.embed_dim = embed_dim\n",
        "\n",
        "    def call(self, inputs):\n",
        "        length = tf.shape(inputs)[-1]\n",
        "        positions = tf.range(start=0, limit=length, delta=1)\n",
        "        embedded_tokens = self.token_embeddings(inputs)\n",
        "        embedded_positions = self.position_embeddings(positions)\n",
        "        return embedded_tokens + embedded_positions\n",
        "\n",
        "    def compute_mask(self, inputs, mask=None):\n",
        "        return tf.math.not_equal(inputs, 0)\n",
        "\n",
        "    def get_config(self):\n",
        "        config = super().get_config().copy()\n",
        "        config.update({\n",
        "            'embed_dim': self.embed_dim,\n",
        "            'vocab_size': self.vocab_size,\n",
        "            'sequence_length': self.sequence_length,\n",
        "            'position_embeddings': self.position_embeddings,\n",
        "            'token_embeddings': self.token_embeddings,\n",
        "        })\n",
        "        return config"
      ],
      "execution_count": 19,
      "outputs": []
    },
    {
      "cell_type": "code",
      "metadata": {
        "id": "cQtYq0W-zWXR"
      },
      "source": [
        "class TransformerDecoder(layers.Layer):\n",
        "    def __init__(self, embed_dim, latent_dim, num_heads, **kwargs):\n",
        "        super(TransformerDecoder, self).__init__(**kwargs)\n",
        "        self.embed_dim = embed_dim\n",
        "        self.latent_dim = latent_dim\n",
        "        self.num_heads = num_heads\n",
        "        self.attention_1 = layers.MultiHeadAttention(\n",
        "            num_heads=num_heads, key_dim=embed_dim\n",
        "        )\n",
        "        self.attention_2 = layers.MultiHeadAttention(\n",
        "            num_heads=num_heads, key_dim=embed_dim\n",
        "        )\n",
        "        self.dense_proj = keras.Sequential(\n",
        "            [layers.Dense(latent_dim, activation=\"relu\"), layers.Dense(embed_dim),]\n",
        "        )\n",
        "        self.layernorm_1 = layers.LayerNormalization()\n",
        "        self.layernorm_2 = layers.LayerNormalization()\n",
        "        self.layernorm_3 = layers.LayerNormalization()\n",
        "        self.supports_masking = True\n",
        "\n",
        "    def call(self, inputs, encoder_outputs, mask=None):\n",
        "        causal_mask = self.get_causal_attention_mask(inputs)\n",
        "        if mask is not None:\n",
        "            padding_mask = tf.cast(mask[:, tf.newaxis, :], dtype=\"int32\")\n",
        "            padding_mask = tf.minimum(padding_mask, causal_mask)\n",
        "\n",
        "        attention_output_1 = self.attention_1(\n",
        "            query=inputs, value=inputs, key=inputs, attention_mask=causal_mask\n",
        "        )\n",
        "        out_1 = self.layernorm_1(inputs + attention_output_1)\n",
        "\n",
        "        attention_output_2 = self.attention_2(\n",
        "            query=out_1,\n",
        "            value=encoder_outputs,\n",
        "            key=encoder_outputs,\n",
        "            attention_mask=padding_mask,\n",
        "        )\n",
        "        out_2 = self.layernorm_2(out_1 + attention_output_2)\n",
        "\n",
        "        proj_output = self.dense_proj(out_2)\n",
        "        return self.layernorm_3(out_2 + proj_output)\n",
        "\n",
        "    def get_causal_attention_mask(self, inputs):\n",
        "        input_shape = tf.shape(inputs)\n",
        "        batch_size, sequence_length = input_shape[0], input_shape[1]\n",
        "        i = tf.range(sequence_length)[:, tf.newaxis]\n",
        "        j = tf.range(sequence_length)\n",
        "        mask = tf.cast(i >= j, dtype=\"int32\")\n",
        "        mask = tf.reshape(mask, (1, input_shape[1], input_shape[1]))\n",
        "        mult = tf.concat(\n",
        "            [tf.expand_dims(batch_size, -1), tf.constant([1, 1], dtype=tf.int32)],\n",
        "            axis=0,\n",
        "        )\n",
        "        return tf.tile(mask, mult)\n",
        "\n",
        "    def get_config(self):\n",
        "        config = super().get_config().copy()\n",
        "        config.update({\n",
        "            'embed_dim': self.embed_dim,\n",
        "            'latent_dim': self.latent_dim,\n",
        "            'num_heads': self.num_heads,\n",
        "            'attention_1': self.attention_1,\n",
        "            'attention_2': self.attention_2,\n",
        "            'dense_proj' : self.dense_proj,\n",
        "            'layernorm_1': self.layernorm_1,\n",
        "            'layernorm_2': self.layernorm_2,\n",
        "            'layernorm_3' : self.layernorm_3,\n",
        "            'supports_masking' : self.supports_masking,\n",
        "        })\n",
        "        return config"
      ],
      "execution_count": 20,
      "outputs": []
    },
    {
      "cell_type": "code",
      "metadata": {
        "id": "BR5hzlY_zbnC"
      },
      "source": [
        "embed_dim = 68\n",
        "latent_dim = 32\n",
        "num_heads = 4\n",
        "\n",
        "encoder_inputs = keras.Input(shape=(None,), dtype=\"int64\", name=\"encoder_inputs\")\n",
        "x = PositionalEmbedding(sequence_length, vocab_size, embed_dim)(encoder_inputs)\n",
        "encoder_outputs = TransformerEncoder(embed_dim, latent_dim, num_heads)(x)\n",
        "encoder = keras.Model(encoder_inputs, encoder_outputs)\n",
        "\n",
        "decoder_inputs = keras.Input(shape=(None,), dtype=\"int64\", name=\"decoder_inputs\")\n",
        "encoded_seq_inputs = keras.Input(shape=(None, embed_dim), name=\"decoder_state_inputs\")\n",
        "x = PositionalEmbedding(sequence_length, vocab_size, embed_dim)(decoder_inputs)\n",
        "x = TransformerDecoder(embed_dim, latent_dim, num_heads)(x, encoded_seq_inputs)\n",
        "x = layers.Dropout(0.5)(x)\n",
        "decoder_outputs = layers.Dense(vocab_size, activation=\"softmax\")(x)\n",
        "decoder = keras.Model([decoder_inputs, encoded_seq_inputs], decoder_outputs)\n",
        "\n",
        "decoder_outputs = decoder([decoder_inputs, encoder_outputs])\n",
        "transformer = keras.Model(\n",
        "    [encoder_inputs, decoder_inputs], decoder_outputs, name=\"transformer\"\n",
        ")"
      ],
      "execution_count": 21,
      "outputs": []
    },
    {
      "cell_type": "code",
      "metadata": {
        "colab": {
          "base_uri": "https://localhost:8080/"
        },
        "id": "gqV1yJFTzf7B",
        "outputId": "6589f08e-d81a-4513-a8a5-e1469bbae5bf"
      },
      "source": [
        "transformer.summary()\n",
        "transformer.compile(\n",
        "    'rmsprop', loss=\"sparse_categorical_crossentropy\", metrics=[\"accuracy\"]\n",
        ")"
      ],
      "execution_count": 22,
      "outputs": [
        {
          "output_type": "stream",
          "text": [
            "Model: \"transformer\"\n",
            "__________________________________________________________________________________________________\n",
            "Layer (type)                    Output Shape         Param #     Connected to                     \n",
            "==================================================================================================\n",
            "encoder_inputs (InputLayer)     [(None, None)]       0                                            \n",
            "__________________________________________________________________________________________________\n",
            "positional_embedding (Positiona (None, None, 68)     7820        encoder_inputs[0][0]             \n",
            "__________________________________________________________________________________________________\n",
            "decoder_inputs (InputLayer)     [(None, None)]       0                                            \n",
            "__________________________________________________________________________________________________\n",
            "transformer_encoder (Transforme (None, None, 68)     79592       positional_embedding[0][0]       \n",
            "__________________________________________________________________________________________________\n",
            "model_1 (Functional)            (None, None, 70)     167246      decoder_inputs[0][0]             \n",
            "                                                                 transformer_encoder[0][0]        \n",
            "==================================================================================================\n",
            "Total params: 254,658\n",
            "Trainable params: 254,658\n",
            "Non-trainable params: 0\n",
            "__________________________________________________________________________________________________\n"
          ],
          "name": "stdout"
        }
      ]
    },
    {
      "cell_type": "code",
      "metadata": {
        "colab": {
          "base_uri": "https://localhost:8080/",
          "height": 439
        },
        "id": "jhH6rDGv2I8L",
        "outputId": "fd7a23ca-144d-4f3b-ee89-b9c884f763c8"
      },
      "source": [
        "from tensorflow.keras.utils import plot_model\n",
        "plot_model(\n",
        "    transformer,\n",
        "    to_file=\"ln_transformer.png\",\n",
        "    show_shapes=True,\n",
        "    show_dtype=False,\n",
        "    show_layer_names=True,\n",
        "    rankdir=\"TB\",\n",
        "    expand_nested=False,\n",
        "    dpi=100,\n",
        ")"
      ],
      "execution_count": 23,
      "outputs": [
        {
          "output_type": "execute_result",
          "data": {
            "image/png": "[encoded data removed]",
            "text/plain": [
              "<IPython.core.display.Image object>"
            ]
          },
          "metadata": {},
          "execution_count": 23
        }
      ]
    },
    {
      "cell_type": "code",
      "metadata": {
        "colab": {
          "base_uri": "https://localhost:8080/"
        },
        "id": "KvSfptNZzjZ8",
        "outputId": "a938db74-6a55-4cb4-eabc-f01406889aba"
      },
      "source": [
        "transformer.fit(train_ds, epochs=epochs, batch_size=batch_size, validation_data=val_ds)"
      ],
      "execution_count": 24,
      "outputs": [
        {
          "output_type": "stream",
          "text": [
            "Epoch 1/150\n",
            "308/308 [==============================] - 15s 25ms/step - loss: 0.0666 - accuracy: 0.9174 - val_loss: 0.0251 - val_accuracy: 0.9658\n",
            "Epoch 2/150\n",
            "308/308 [==============================] - 7s 23ms/step - loss: 0.0258 - accuracy: 0.9680 - val_loss: 0.0196 - val_accuracy: 0.9726\n",
            "Epoch 3/150\n",
            "308/308 [==============================] - 7s 22ms/step - loss: 0.0217 - accuracy: 0.9718 - val_loss: 0.0181 - val_accuracy: 0.9746\n",
            "Epoch 4/150\n",
            "308/308 [==============================] - 7s 22ms/step - loss: 0.0193 - accuracy: 0.9743 - val_loss: 0.0156 - val_accuracy: 0.9777\n",
            "Epoch 5/150\n",
            "308/308 [==============================] - 7s 23ms/step - loss: 0.0172 - accuracy: 0.9768 - val_loss: 0.0145 - val_accuracy: 0.9799\n",
            "Epoch 6/150\n",
            "308/308 [==============================] - 7s 22ms/step - loss: 0.0160 - accuracy: 0.9784 - val_loss: 0.0141 - val_accuracy: 0.9801\n",
            "Epoch 7/150\n",
            "308/308 [==============================] - 7s 22ms/step - loss: 0.0148 - accuracy: 0.9799 - val_loss: 0.0141 - val_accuracy: 0.9812\n",
            "Epoch 8/150\n",
            "308/308 [==============================] - 7s 22ms/step - loss: 0.0138 - accuracy: 0.9815 - val_loss: 0.0135 - val_accuracy: 0.9823\n",
            "Epoch 9/150\n",
            "308/308 [==============================] - 7s 23ms/step - loss: 0.0131 - accuracy: 0.9817 - val_loss: 0.0131 - val_accuracy: 0.9828\n",
            "Epoch 10/150\n",
            "308/308 [==============================] - 7s 22ms/step - loss: 0.0123 - accuracy: 0.9829 - val_loss: 0.0128 - val_accuracy: 0.9829\n",
            "Epoch 11/150\n",
            "308/308 [==============================] - 7s 22ms/step - loss: 0.0117 - accuracy: 0.9837 - val_loss: 0.0129 - val_accuracy: 0.9838\n",
            "Epoch 12/150\n",
            "308/308 [==============================] - 7s 22ms/step - loss: 0.0114 - accuracy: 0.9842 - val_loss: 0.0125 - val_accuracy: 0.9838\n",
            "Epoch 13/150\n",
            "308/308 [==============================] - 7s 22ms/step - loss: 0.0109 - accuracy: 0.9849 - val_loss: 0.0123 - val_accuracy: 0.9832\n",
            "Epoch 14/150\n",
            "308/308 [==============================] - 7s 23ms/step - loss: 0.0105 - accuracy: 0.9853 - val_loss: 0.0122 - val_accuracy: 0.9845\n",
            "Epoch 15/150\n",
            "308/308 [==============================] - 7s 23ms/step - loss: 0.0100 - accuracy: 0.9857 - val_loss: 0.0120 - val_accuracy: 0.9849\n",
            "Epoch 16/150\n",
            "308/308 [==============================] - 7s 23ms/step - loss: 0.0098 - accuracy: 0.9861 - val_loss: 0.0121 - val_accuracy: 0.9840\n",
            "Epoch 17/150\n",
            "308/308 [==============================] - 7s 23ms/step - loss: 0.0092 - accuracy: 0.9868 - val_loss: 0.0123 - val_accuracy: 0.9844\n",
            "Epoch 18/150\n",
            "308/308 [==============================] - 7s 23ms/step - loss: 0.0090 - accuracy: 0.9869 - val_loss: 0.0120 - val_accuracy: 0.9854\n",
            "Epoch 19/150\n",
            "308/308 [==============================] - 7s 23ms/step - loss: 0.0089 - accuracy: 0.9870 - val_loss: 0.0122 - val_accuracy: 0.9848\n",
            "Epoch 20/150\n",
            "308/308 [==============================] - 7s 22ms/step - loss: 0.0085 - accuracy: 0.9875 - val_loss: 0.0120 - val_accuracy: 0.9850\n",
            "Epoch 21/150\n",
            "308/308 [==============================] - 7s 22ms/step - loss: 0.0084 - accuracy: 0.9878 - val_loss: 0.0116 - val_accuracy: 0.9862\n",
            "Epoch 22/150\n",
            "308/308 [==============================] - 7s 22ms/step - loss: 0.0083 - accuracy: 0.9880 - val_loss: 0.0116 - val_accuracy: 0.9858\n",
            "Epoch 23/150\n",
            "308/308 [==============================] - 7s 23ms/step - loss: 0.0079 - accuracy: 0.9885 - val_loss: 0.0122 - val_accuracy: 0.9861\n",
            "Epoch 24/150\n",
            "308/308 [==============================] - 7s 22ms/step - loss: 0.0078 - accuracy: 0.9886 - val_loss: 0.0125 - val_accuracy: 0.9850\n",
            "Epoch 25/150\n",
            "308/308 [==============================] - 7s 22ms/step - loss: 0.0075 - accuracy: 0.9885 - val_loss: 0.0119 - val_accuracy: 0.9859\n",
            "Epoch 26/150\n",
            "308/308 [==============================] - 7s 22ms/step - loss: 0.0075 - accuracy: 0.9889 - val_loss: 0.0120 - val_accuracy: 0.9856\n",
            "Epoch 27/150\n",
            "308/308 [==============================] - 7s 23ms/step - loss: 0.0071 - accuracy: 0.9893 - val_loss: 0.0116 - val_accuracy: 0.9865\n",
            "Epoch 28/150\n",
            "308/308 [==============================] - 7s 23ms/step - loss: 0.0069 - accuracy: 0.9896 - val_loss: 0.0115 - val_accuracy: 0.9865\n",
            "Epoch 29/150\n",
            "308/308 [==============================] - 7s 22ms/step - loss: 0.0070 - accuracy: 0.9898 - val_loss: 0.0116 - val_accuracy: 0.9865\n",
            "Epoch 30/150\n",
            "308/308 [==============================] - 7s 23ms/step - loss: 0.0068 - accuracy: 0.9897 - val_loss: 0.0124 - val_accuracy: 0.9861\n",
            "Epoch 31/150\n",
            "308/308 [==============================] - 7s 23ms/step - loss: 0.0067 - accuracy: 0.9899 - val_loss: 0.0120 - val_accuracy: 0.9864\n",
            "Epoch 32/150\n",
            "308/308 [==============================] - 7s 23ms/step - loss: 0.0066 - accuracy: 0.9899 - val_loss: 0.0118 - val_accuracy: 0.9862\n",
            "Epoch 33/150\n",
            "308/308 [==============================] - 7s 22ms/step - loss: 0.0063 - accuracy: 0.9903 - val_loss: 0.0121 - val_accuracy: 0.9864\n",
            "Epoch 34/150\n",
            "308/308 [==============================] - 7s 23ms/step - loss: 0.0063 - accuracy: 0.9905 - val_loss: 0.0126 - val_accuracy: 0.9855\n",
            "Epoch 35/150\n",
            "308/308 [==============================] - 7s 23ms/step - loss: 0.0062 - accuracy: 0.9904 - val_loss: 0.0119 - val_accuracy: 0.9864\n",
            "Epoch 36/150\n",
            "308/308 [==============================] - 7s 22ms/step - loss: 0.0061 - accuracy: 0.9909 - val_loss: 0.0122 - val_accuracy: 0.9860\n",
            "Epoch 37/150\n",
            "308/308 [==============================] - 7s 22ms/step - loss: 0.0061 - accuracy: 0.9907 - val_loss: 0.0129 - val_accuracy: 0.9854\n",
            "Epoch 38/150\n",
            "308/308 [==============================] - 7s 22ms/step - loss: 0.0060 - accuracy: 0.9908 - val_loss: 0.0125 - val_accuracy: 0.9855\n",
            "Epoch 39/150\n",
            "308/308 [==============================] - 7s 23ms/step - loss: 0.0060 - accuracy: 0.9910 - val_loss: 0.0121 - val_accuracy: 0.9861\n",
            "Epoch 40/150\n",
            "308/308 [==============================] - 7s 23ms/step - loss: 0.0058 - accuracy: 0.9909 - val_loss: 0.0120 - val_accuracy: 0.9864\n",
            "Epoch 41/150\n",
            "308/308 [==============================] - 7s 23ms/step - loss: 0.0056 - accuracy: 0.9912 - val_loss: 0.0122 - val_accuracy: 0.9864\n",
            "Epoch 42/150\n",
            "308/308 [==============================] - 7s 22ms/step - loss: 0.0055 - accuracy: 0.9914 - val_loss: 0.0125 - val_accuracy: 0.9854\n",
            "Epoch 43/150\n",
            "308/308 [==============================] - 7s 22ms/step - loss: 0.0056 - accuracy: 0.9912 - val_loss: 0.0128 - val_accuracy: 0.9848\n",
            "Epoch 44/150\n",
            "308/308 [==============================] - 7s 23ms/step - loss: 0.0056 - accuracy: 0.9915 - val_loss: 0.0119 - val_accuracy: 0.9861\n",
            "Epoch 45/150\n",
            "308/308 [==============================] - 7s 22ms/step - loss: 0.0054 - accuracy: 0.9916 - val_loss: 0.0123 - val_accuracy: 0.9855\n",
            "Epoch 46/150\n",
            "308/308 [==============================] - 7s 23ms/step - loss: 0.0053 - accuracy: 0.9921 - val_loss: 0.0125 - val_accuracy: 0.9869\n",
            "Epoch 47/150\n",
            "308/308 [==============================] - 7s 23ms/step - loss: 0.0054 - accuracy: 0.9917 - val_loss: 0.0138 - val_accuracy: 0.9851\n",
            "Epoch 48/150\n",
            "308/308 [==============================] - 7s 22ms/step - loss: 0.0051 - accuracy: 0.9922 - val_loss: 0.0127 - val_accuracy: 0.9850\n",
            "Epoch 49/150\n",
            "308/308 [==============================] - 7s 22ms/step - loss: 0.0052 - accuracy: 0.9920 - val_loss: 0.0123 - val_accuracy: 0.9859\n",
            "Epoch 50/150\n",
            "308/308 [==============================] - 7s 22ms/step - loss: 0.0050 - accuracy: 0.9921 - val_loss: 0.0126 - val_accuracy: 0.9858\n",
            "Epoch 51/150\n",
            "308/308 [==============================] - 7s 23ms/step - loss: 0.0050 - accuracy: 0.9920 - val_loss: 0.0128 - val_accuracy: 0.9855\n",
            "Epoch 52/150\n",
            "308/308 [==============================] - 7s 23ms/step - loss: 0.0051 - accuracy: 0.9919 - val_loss: 0.0125 - val_accuracy: 0.9863\n",
            "Epoch 53/150\n",
            "308/308 [==============================] - 7s 22ms/step - loss: 0.0049 - accuracy: 0.9924 - val_loss: 0.0132 - val_accuracy: 0.9845\n",
            "Epoch 54/150\n",
            "308/308 [==============================] - 7s 23ms/step - loss: 0.0049 - accuracy: 0.9924 - val_loss: 0.0128 - val_accuracy: 0.9862\n",
            "Epoch 55/150\n",
            "308/308 [==============================] - 7s 22ms/step - loss: 0.0049 - accuracy: 0.9924 - val_loss: 0.0130 - val_accuracy: 0.9851\n",
            "Epoch 56/150\n",
            "308/308 [==============================] - 7s 22ms/step - loss: 0.0047 - accuracy: 0.9928 - val_loss: 0.0127 - val_accuracy: 0.9869\n",
            "Epoch 57/150\n",
            "308/308 [==============================] - 7s 22ms/step - loss: 0.0048 - accuracy: 0.9927 - val_loss: 0.0129 - val_accuracy: 0.9862\n",
            "Epoch 58/150\n",
            "308/308 [==============================] - 7s 22ms/step - loss: 0.0045 - accuracy: 0.9929 - val_loss: 0.0133 - val_accuracy: 0.9864\n",
            "Epoch 59/150\n",
            "308/308 [==============================] - 7s 23ms/step - loss: 0.0046 - accuracy: 0.9926 - val_loss: 0.0127 - val_accuracy: 0.9861\n",
            "Epoch 60/150\n",
            "308/308 [==============================] - 7s 23ms/step - loss: 0.0047 - accuracy: 0.9928 - val_loss: 0.0140 - val_accuracy: 0.9841\n",
            "Epoch 61/150\n",
            "308/308 [==============================] - 7s 22ms/step - loss: 0.0045 - accuracy: 0.9929 - val_loss: 0.0139 - val_accuracy: 0.9862\n",
            "Epoch 62/150\n",
            "308/308 [==============================] - 7s 23ms/step - loss: 0.0046 - accuracy: 0.9927 - val_loss: 0.0132 - val_accuracy: 0.9857\n",
            "Epoch 63/150\n",
            "308/308 [==============================] - 7s 22ms/step - loss: 0.0045 - accuracy: 0.9927 - val_loss: 0.0128 - val_accuracy: 0.9866\n",
            "Epoch 64/150\n",
            "308/308 [==============================] - 7s 22ms/step - loss: 0.0044 - accuracy: 0.9930 - val_loss: 0.0137 - val_accuracy: 0.9849\n",
            "Epoch 65/150\n",
            "308/308 [==============================] - 7s 23ms/step - loss: 0.0042 - accuracy: 0.9935 - val_loss: 0.0140 - val_accuracy: 0.9859\n",
            "Epoch 66/150\n",
            "308/308 [==============================] - 7s 22ms/step - loss: 0.0044 - accuracy: 0.9930 - val_loss: 0.0133 - val_accuracy: 0.9865\n",
            "Epoch 67/150\n",
            "308/308 [==============================] - 7s 23ms/step - loss: 0.0045 - accuracy: 0.9929 - val_loss: 0.0128 - val_accuracy: 0.9867\n",
            "Epoch 68/150\n",
            "308/308 [==============================] - 7s 23ms/step - loss: 0.0043 - accuracy: 0.9936 - val_loss: 0.0131 - val_accuracy: 0.9868\n",
            "Epoch 69/150\n",
            "308/308 [==============================] - 7s 23ms/step - loss: 0.0042 - accuracy: 0.9933 - val_loss: 0.0130 - val_accuracy: 0.9869\n",
            "Epoch 70/150\n",
            "308/308 [==============================] - 7s 23ms/step - loss: 0.0043 - accuracy: 0.9936 - val_loss: 0.0135 - val_accuracy: 0.9866\n",
            "Epoch 71/150\n",
            "308/308 [==============================] - 7s 23ms/step - loss: 0.0041 - accuracy: 0.9936 - val_loss: 0.0137 - val_accuracy: 0.9859\n",
            "Epoch 72/150\n",
            "308/308 [==============================] - 7s 23ms/step - loss: 0.0041 - accuracy: 0.9934 - val_loss: 0.0135 - val_accuracy: 0.9864\n",
            "Epoch 73/150\n",
            "308/308 [==============================] - 7s 23ms/step - loss: 0.0041 - accuracy: 0.9936 - val_loss: 0.0129 - val_accuracy: 0.9862\n",
            "Epoch 74/150\n",
            "308/308 [==============================] - 7s 23ms/step - loss: 0.0040 - accuracy: 0.9937 - val_loss: 0.0143 - val_accuracy: 0.9852\n",
            "Epoch 75/150\n",
            "308/308 [==============================] - 7s 23ms/step - loss: 0.0040 - accuracy: 0.9937 - val_loss: 0.0135 - val_accuracy: 0.9864\n",
            "Epoch 76/150\n",
            "308/308 [==============================] - 7s 23ms/step - loss: 0.0039 - accuracy: 0.9938 - val_loss: 0.0140 - val_accuracy: 0.9860\n",
            "Epoch 77/150\n",
            "308/308 [==============================] - 7s 22ms/step - loss: 0.0040 - accuracy: 0.9939 - val_loss: 0.0129 - val_accuracy: 0.9875\n",
            "Epoch 78/150\n",
            "308/308 [==============================] - 7s 22ms/step - loss: 0.0039 - accuracy: 0.9937 - val_loss: 0.0134 - val_accuracy: 0.9875\n",
            "Epoch 79/150\n",
            "308/308 [==============================] - 7s 23ms/step - loss: 0.0039 - accuracy: 0.9940 - val_loss: 0.0140 - val_accuracy: 0.9864\n",
            "Epoch 80/150\n",
            "308/308 [==============================] - 7s 23ms/step - loss: 0.0039 - accuracy: 0.9939 - val_loss: 0.0145 - val_accuracy: 0.9864\n",
            "Epoch 81/150\n",
            "308/308 [==============================] - 7s 22ms/step - loss: 0.0039 - accuracy: 0.9940 - val_loss: 0.0133 - val_accuracy: 0.9865\n",
            "Epoch 82/150\n",
            "308/308 [==============================] - 7s 23ms/step - loss: 0.0038 - accuracy: 0.9940 - val_loss: 0.0135 - val_accuracy: 0.9874\n",
            "Epoch 83/150\n",
            "308/308 [==============================] - 7s 22ms/step - loss: 0.0038 - accuracy: 0.9939 - val_loss: 0.0144 - val_accuracy: 0.9854\n",
            "Epoch 84/150\n",
            "308/308 [==============================] - 7s 22ms/step - loss: 0.0037 - accuracy: 0.9942 - val_loss: 0.0133 - val_accuracy: 0.9868\n",
            "Epoch 85/150\n",
            "308/308 [==============================] - 7s 22ms/step - loss: 0.0038 - accuracy: 0.9941 - val_loss: 0.0132 - val_accuracy: 0.9869\n",
            "Epoch 86/150\n",
            "308/308 [==============================] - 7s 23ms/step - loss: 0.0037 - accuracy: 0.9941 - val_loss: 0.0140 - val_accuracy: 0.9869\n",
            "Epoch 87/150\n",
            "308/308 [==============================] - 7s 22ms/step - loss: 0.0037 - accuracy: 0.9940 - val_loss: 0.0142 - val_accuracy: 0.9870\n",
            "Epoch 88/150\n",
            "308/308 [==============================] - 7s 22ms/step - loss: 0.0037 - accuracy: 0.9941 - val_loss: 0.0133 - val_accuracy: 0.9876\n",
            "Epoch 89/150\n",
            "308/308 [==============================] - 7s 22ms/step - loss: 0.0037 - accuracy: 0.9941 - val_loss: 0.0138 - val_accuracy: 0.9875\n",
            "Epoch 90/150\n",
            "308/308 [==============================] - 7s 23ms/step - loss: 0.0037 - accuracy: 0.9941 - val_loss: 0.0135 - val_accuracy: 0.9867\n",
            "Epoch 91/150\n",
            "308/308 [==============================] - 7s 22ms/step - loss: 0.0037 - accuracy: 0.9944 - val_loss: 0.0135 - val_accuracy: 0.9878\n",
            "Epoch 92/150\n",
            "308/308 [==============================] - 7s 22ms/step - loss: 0.0037 - accuracy: 0.9944 - val_loss: 0.0143 - val_accuracy: 0.9862\n",
            "Epoch 93/150\n",
            "308/308 [==============================] - 7s 23ms/step - loss: 0.0035 - accuracy: 0.9945 - val_loss: 0.0136 - val_accuracy: 0.9862\n",
            "Epoch 94/150\n",
            "308/308 [==============================] - 7s 23ms/step - loss: 0.0035 - accuracy: 0.9944 - val_loss: 0.0138 - val_accuracy: 0.9866\n",
            "Epoch 95/150\n",
            "308/308 [==============================] - 7s 22ms/step - loss: 0.0035 - accuracy: 0.9944 - val_loss: 0.0145 - val_accuracy: 0.9854\n",
            "Epoch 96/150\n",
            "308/308 [==============================] - 7s 22ms/step - loss: 0.0036 - accuracy: 0.9944 - val_loss: 0.0134 - val_accuracy: 0.9873\n",
            "Epoch 97/150\n",
            "308/308 [==============================] - 7s 22ms/step - loss: 0.0034 - accuracy: 0.9946 - val_loss: 0.0146 - val_accuracy: 0.9860\n",
            "Epoch 98/150\n",
            "308/308 [==============================] - 7s 23ms/step - loss: 0.0035 - accuracy: 0.9945 - val_loss: 0.0128 - val_accuracy: 0.9871\n",
            "Epoch 99/150\n",
            "308/308 [==============================] - 7s 23ms/step - loss: 0.0035 - accuracy: 0.9945 - val_loss: 0.0145 - val_accuracy: 0.9870\n",
            "Epoch 100/150\n",
            "308/308 [==============================] - 7s 23ms/step - loss: 0.0035 - accuracy: 0.9946 - val_loss: 0.0144 - val_accuracy: 0.9862\n",
            "Epoch 101/150\n",
            "308/308 [==============================] - 7s 23ms/step - loss: 0.0035 - accuracy: 0.9945 - val_loss: 0.0146 - val_accuracy: 0.9869\n",
            "Epoch 102/150\n",
            "308/308 [==============================] - 7s 23ms/step - loss: 0.0035 - accuracy: 0.9946 - val_loss: 0.0142 - val_accuracy: 0.9867\n",
            "Epoch 103/150\n",
            "308/308 [==============================] - 7s 23ms/step - loss: 0.0034 - accuracy: 0.9947 - val_loss: 0.0132 - val_accuracy: 0.9865\n",
            "Epoch 104/150\n",
            "308/308 [==============================] - 7s 22ms/step - loss: 0.0034 - accuracy: 0.9945 - val_loss: 0.0139 - val_accuracy: 0.9868\n",
            "Epoch 105/150\n",
            "308/308 [==============================] - 7s 23ms/step - loss: 0.0034 - accuracy: 0.9948 - val_loss: 0.0133 - val_accuracy: 0.9870\n",
            "Epoch 106/150\n",
            "308/308 [==============================] - 7s 22ms/step - loss: 0.0033 - accuracy: 0.9950 - val_loss: 0.0144 - val_accuracy: 0.9870\n",
            "Epoch 107/150\n",
            "308/308 [==============================] - 7s 22ms/step - loss: 0.0033 - accuracy: 0.9948 - val_loss: 0.0149 - val_accuracy: 0.9869\n",
            "Epoch 108/150\n",
            "308/308 [==============================] - 7s 23ms/step - loss: 0.0032 - accuracy: 0.9948 - val_loss: 0.0139 - val_accuracy: 0.9878\n",
            "Epoch 109/150\n",
            "308/308 [==============================] - 7s 23ms/step - loss: 0.0033 - accuracy: 0.9949 - val_loss: 0.0143 - val_accuracy: 0.9873\n",
            "Epoch 110/150\n",
            "308/308 [==============================] - 7s 23ms/step - loss: 0.0033 - accuracy: 0.9950 - val_loss: 0.0140 - val_accuracy: 0.9873\n",
            "Epoch 111/150\n",
            "308/308 [==============================] - 7s 23ms/step - loss: 0.0032 - accuracy: 0.9950 - val_loss: 0.0145 - val_accuracy: 0.9870\n",
            "Epoch 112/150\n",
            "308/308 [==============================] - 7s 23ms/step - loss: 0.0032 - accuracy: 0.9949 - val_loss: 0.0154 - val_accuracy: 0.9867\n",
            "Epoch 113/150\n",
            "308/308 [==============================] - 7s 23ms/step - loss: 0.0032 - accuracy: 0.9949 - val_loss: 0.0148 - val_accuracy: 0.9860\n",
            "Epoch 114/150\n",
            "308/308 [==============================] - 7s 23ms/step - loss: 0.0032 - accuracy: 0.9949 - val_loss: 0.0149 - val_accuracy: 0.9868\n",
            "Epoch 115/150\n",
            "308/308 [==============================] - 7s 23ms/step - loss: 0.0032 - accuracy: 0.9950 - val_loss: 0.0143 - val_accuracy: 0.9872\n",
            "Epoch 116/150\n",
            "308/308 [==============================] - 7s 23ms/step - loss: 0.0032 - accuracy: 0.9949 - val_loss: 0.0140 - val_accuracy: 0.9869\n",
            "Epoch 117/150\n",
            "308/308 [==============================] - 7s 23ms/step - loss: 0.0030 - accuracy: 0.9954 - val_loss: 0.0141 - val_accuracy: 0.9873\n",
            "Epoch 118/150\n",
            "308/308 [==============================] - 7s 23ms/step - loss: 0.0032 - accuracy: 0.9951 - val_loss: 0.0151 - val_accuracy: 0.9870\n",
            "Epoch 119/150\n",
            "308/308 [==============================] - 7s 23ms/step - loss: 0.0031 - accuracy: 0.9952 - val_loss: 0.0166 - val_accuracy: 0.9851\n",
            "Epoch 120/150\n",
            "308/308 [==============================] - 7s 23ms/step - loss: 0.0033 - accuracy: 0.9949 - val_loss: 0.0150 - val_accuracy: 0.9872\n",
            "Epoch 121/150\n",
            "308/308 [==============================] - 7s 23ms/step - loss: 0.0033 - accuracy: 0.9950 - val_loss: 0.0152 - val_accuracy: 0.9862\n",
            "Epoch 122/150\n",
            "308/308 [==============================] - 7s 22ms/step - loss: 0.0031 - accuracy: 0.9951 - val_loss: 0.0146 - val_accuracy: 0.9873\n",
            "Epoch 123/150\n",
            "308/308 [==============================] - 7s 23ms/step - loss: 0.0032 - accuracy: 0.9951 - val_loss: 0.0151 - val_accuracy: 0.9868\n",
            "Epoch 124/150\n",
            "308/308 [==============================] - 7s 23ms/step - loss: 0.0031 - accuracy: 0.9951 - val_loss: 0.0156 - val_accuracy: 0.9873\n",
            "Epoch 125/150\n",
            "308/308 [==============================] - 7s 23ms/step - loss: 0.0031 - accuracy: 0.9951 - val_loss: 0.0155 - val_accuracy: 0.9865\n",
            "Epoch 126/150\n",
            "308/308 [==============================] - 7s 23ms/step - loss: 0.0030 - accuracy: 0.9952 - val_loss: 0.0144 - val_accuracy: 0.9867\n",
            "Epoch 127/150\n",
            "308/308 [==============================] - 7s 22ms/step - loss: 0.0029 - accuracy: 0.9953 - val_loss: 0.0148 - val_accuracy: 0.9876\n",
            "Epoch 128/150\n",
            "308/308 [==============================] - 7s 23ms/step - loss: 0.0030 - accuracy: 0.9955 - val_loss: 0.0159 - val_accuracy: 0.9867\n",
            "Epoch 129/150\n",
            "308/308 [==============================] - 7s 23ms/step - loss: 0.0030 - accuracy: 0.9951 - val_loss: 0.0146 - val_accuracy: 0.9866\n",
            "Epoch 130/150\n",
            "308/308 [==============================] - 7s 23ms/step - loss: 0.0030 - accuracy: 0.9951 - val_loss: 0.0145 - val_accuracy: 0.9873\n",
            "Epoch 131/150\n",
            "308/308 [==============================] - 7s 23ms/step - loss: 0.0031 - accuracy: 0.9951 - val_loss: 0.0145 - val_accuracy: 0.9869\n",
            "Epoch 132/150\n",
            "308/308 [==============================] - 7s 23ms/step - loss: 0.0030 - accuracy: 0.9952 - val_loss: 0.0173 - val_accuracy: 0.9853\n",
            "Epoch 133/150\n",
            "308/308 [==============================] - 7s 23ms/step - loss: 0.0029 - accuracy: 0.9953 - val_loss: 0.0152 - val_accuracy: 0.9867\n",
            "Epoch 134/150\n",
            "308/308 [==============================] - 7s 23ms/step - loss: 0.0029 - accuracy: 0.9954 - val_loss: 0.0150 - val_accuracy: 0.9870\n",
            "Epoch 135/150\n",
            "308/308 [==============================] - 7s 23ms/step - loss: 0.0029 - accuracy: 0.9956 - val_loss: 0.0156 - val_accuracy: 0.9872\n",
            "Epoch 136/150\n",
            "308/308 [==============================] - 7s 23ms/step - loss: 0.0029 - accuracy: 0.9955 - val_loss: 0.0149 - val_accuracy: 0.9878\n",
            "Epoch 137/150\n",
            "308/308 [==============================] - 7s 23ms/step - loss: 0.0029 - accuracy: 0.9954 - val_loss: 0.0158 - val_accuracy: 0.9874\n",
            "Epoch 138/150\n",
            "308/308 [==============================] - 7s 23ms/step - loss: 0.0028 - accuracy: 0.9955 - val_loss: 0.0162 - val_accuracy: 0.9869\n",
            "Epoch 139/150\n",
            "308/308 [==============================] - 7s 23ms/step - loss: 0.0029 - accuracy: 0.9955 - val_loss: 0.0151 - val_accuracy: 0.9881\n",
            "Epoch 140/150\n",
            "308/308 [==============================] - 7s 23ms/step - loss: 0.0030 - accuracy: 0.9953 - val_loss: 0.0148 - val_accuracy: 0.9873\n",
            "Epoch 141/150\n",
            "308/308 [==============================] - 7s 23ms/step - loss: 0.0030 - accuracy: 0.9953 - val_loss: 0.0174 - val_accuracy: 0.9865\n",
            "Epoch 142/150\n",
            "308/308 [==============================] - 7s 23ms/step - loss: 0.0029 - accuracy: 0.9953 - val_loss: 0.0156 - val_accuracy: 0.9869\n",
            "Epoch 143/150\n",
            "308/308 [==============================] - 7s 23ms/step - loss: 0.0028 - accuracy: 0.9956 - val_loss: 0.0164 - val_accuracy: 0.9862\n",
            "Epoch 144/150\n",
            "308/308 [==============================] - 7s 23ms/step - loss: 0.0029 - accuracy: 0.9955 - val_loss: 0.0159 - val_accuracy: 0.9875\n",
            "Epoch 145/150\n",
            "308/308 [==============================] - 7s 23ms/step - loss: 0.0029 - accuracy: 0.9956 - val_loss: 0.0164 - val_accuracy: 0.9870\n",
            "Epoch 146/150\n",
            "308/308 [==============================] - 7s 23ms/step - loss: 0.0028 - accuracy: 0.9955 - val_loss: 0.0155 - val_accuracy: 0.9871\n",
            "Epoch 147/150\n",
            "308/308 [==============================] - 7s 23ms/step - loss: 0.0028 - accuracy: 0.9955 - val_loss: 0.0150 - val_accuracy: 0.9876\n",
            "Epoch 148/150\n",
            "308/308 [==============================] - 7s 23ms/step - loss: 0.0029 - accuracy: 0.9955 - val_loss: 0.0160 - val_accuracy: 0.9864\n",
            "Epoch 149/150\n",
            "308/308 [==============================] - 7s 23ms/step - loss: 0.0029 - accuracy: 0.9955 - val_loss: 0.0155 - val_accuracy: 0.9870\n",
            "Epoch 150/150\n",
            "308/308 [==============================] - 7s 23ms/step - loss: 0.0027 - accuracy: 0.9958 - val_loss: 0.0154 - val_accuracy: 0.9869\n"
          ],
          "name": "stdout"
        },
        {
          "output_type": "execute_result",
          "data": {
            "text/plain": [
              "<keras.callbacks.History at 0x7f5570051690>"
            ]
          },
          "metadata": {},
          "execution_count": 24
        }
      ]
    },
    {
      "cell_type": "code",
      "metadata": {
        "id": "23lYH9nTW8Vy"
      },
      "source": [
        "transformer.save('/content/drive/MyDrive/NLP/Lexical Normalisation/models/en_ln_transformer.h5')"
      ],
      "execution_count": 25,
      "outputs": []
    },
    {
      "cell_type": "code",
      "metadata": {
        "colab": {
          "base_uri": "https://localhost:8080/"
        },
        "id": "xTusgJ0y7WMJ",
        "outputId": "d385b1c3-2008-4e96-d16c-6a6bb8fbf82c"
      },
      "source": [
        "spa_vocab = spa_vectorization.get_vocabulary()\n",
        "spa_index_lookup = dict(zip(range(len(spa_vocab)), spa_vocab))\n",
        "max_decoded_sentence_length = 45\n",
        "\n",
        "\n",
        "def decode_sequence(input_sentence):\n",
        "    tokenized_input_sentence = eng_vectorization([input_sentence])\n",
        "    decoded_sentence = \"[start]\"\n",
        "    for i in range(max_decoded_sentence_length):\n",
        "        tokenized_target_sentence = spa_vectorization([decoded_sentence])[:, :-1]\n",
        "        predictions = transformer([tokenized_input_sentence, tokenized_target_sentence])\n",
        "\n",
        "        sampled_token_index = np.argmax(predictions[0, i, :])\n",
        "        sampled_token = spa_index_lookup[sampled_token_index]\n",
        "        decoded_sentence += \" \" + sampled_token\n",
        "\n",
        "        if sampled_token == \"[end]\":\n",
        "            break\n",
        "    return decoded_sentence\n",
        "\n",
        "\n",
        "test_eng_texts = [pair[0] for pair in test_pairs]\n",
        "for _ in range(30):\n",
        "    input_sentence = random.choice(test_eng_texts)\n",
        "    translated = decode_sequence(input_sentence)\n",
        "    print(input_sentence, ' ',translated)"
      ],
      "execution_count": 26,
      "outputs": [
        {
          "output_type": "stream",
          "text": [
            "@ j a i b r o o k s 1   [start] j a i b r o o k s 1 [end]\n",
            "c a n c e l l i n g   [start] c a n c e l l i n g [end]\n",
            ".   [start] [end]\n",
            "m e   [start] m e [end]\n",
            "h o t t i e   [start] h o t t i e [end]\n",
            ",   [start] [end]\n",
            "u   [start] y o u [end]\n",
            "r a i n   [start] r a i n [end]\n",
            "k r e m e   [start] k r e m e [end]\n",
            "k u r a n g   [start] k u r a n g [end]\n",
            "y   [start] y [end]\n",
            "t r u s t   [start] t r u s t [end]\n",
            "h a v e   [start] h a v e [end]\n",
            "f o r   [start] f o r [end]\n",
            "f x   [start] f x [end]\n",
            "h t t p : / / t . c o / w b x 9 h 8 j n d m   [start] h t t p t c o w b x 9 h 8 j n d m [end]\n",
            "m e g a m a l l   [start] m e g a m a l l [end]\n",
            "a p   [start] a p [end]\n",
            "p u t   [start] p u t [end]\n",
            "m o v i e   [start] m o v i e [end]\n",
            "i g n o r a n c e   [start] i g n o r a n c e [end]\n",
            ",   [start] [end]\n",
            "w i t h   [start] w i t h [end]\n",
            "y a h o o   [start] y a h o o [end]\n",
            "j a p a n   [start] j a p a n [end]\n",
            "m e   [start] m e [end]\n",
            "h t t p : / / t . c o / k k n 8 3 w t u w s   [start] h t t p t c o k k n 8 3 w t u w s [end]\n",
            "o n   [start] o n [end]\n",
            "o n   [start] o n [end]\n",
            "s u p p o r t   [start] s u p p o r t [end]\n"
          ],
          "name": "stdout"
        }
      ]
    },
    {
      "cell_type": "code",
      "metadata": {
        "id": "8C9fJYIb7WMK",
        "outputId": "21164aad-876e-4d33-addf-5c1cbc37e4c8"
      },
      "source": [
        "spa_index_lookup"
      ],
      "execution_count": null,
      "outputs": [
        {
          "data": {
            "text/plain": [
              "{0: '',\n",
              " 1: '[UNK]',\n",
              " 2: '[start]',\n",
              " 3: '[end]',\n",
              " 4: 'e',\n",
              " 5: 't',\n",
              " 6: 'a',\n",
              " 7: 'o',\n",
              " 8: 'i',\n",
              " 9: 'n',\n",
              " 10: 's',\n",
              " 11: 'r',\n",
              " 12: 'h',\n",
              " 13: 'l',\n",
              " 14: 'm',\n",
              " 15: 'd',\n",
              " 16: 'u',\n",
              " 17: 'c',\n",
              " 18: 'y',\n",
              " 19: 'g',\n",
              " 20: 'p',\n",
              " 21: 'w',\n",
              " 22: 'b',\n",
              " 23: 'f',\n",
              " 24: 'k',\n",
              " 25: 'v',\n",
              " 26: 'j',\n",
              " 27: 'x',\n",
              " 28: 'z',\n",
              " 29: '1',\n",
              " 30: '0',\n",
              " 31: '2',\n",
              " 32: '5',\n",
              " 33: 'q',\n",
              " 34: '4',\n",
              " 35: '3',\n",
              " 36: '7',\n",
              " 37: '8',\n",
              " 38: '9',\n",
              " 39: '6',\n",
              " 40: ']',\n",
              " 41: '['}"
            ]
          },
          "execution_count": 27,
          "metadata": {},
          "output_type": "execute_result"
        }
      ]
    },
    {
      "cell_type": "code",
      "metadata": {
        "id": "o9rWi6b07WMK",
        "outputId": "e17d889d-95de-4ef3-f674-7d3ccca1819c"
      },
      "source": [
        "eng_vocab = eng_vectorization.get_vocabulary()\n",
        "eng_index_lookup = dict(zip(range(len(eng_vocab)), eng_vocab))\n",
        "eng_index_lookup"
      ],
      "execution_count": null,
      "outputs": [
        {
          "data": {
            "text/plain": [
              "{0: '',\n",
              " 1: '[UNK]',\n",
              " 2: 'e',\n",
              " 3: 't',\n",
              " 4: 'a',\n",
              " 5: 'o',\n",
              " 6: 'i',\n",
              " 7: 'n',\n",
              " 8: 's',\n",
              " 9: 'r',\n",
              " 10: 'h',\n",
              " 11: 'l',\n",
              " 12: 'm',\n",
              " 13: 'd',\n",
              " 14: 'u',\n",
              " 15: 'c',\n",
              " 16: 'y',\n",
              " 17: 'p',\n",
              " 18: 'g',\n",
              " 19: 'w',\n",
              " 20: 'b',\n",
              " 21: 'f',\n",
              " 22: 'k',\n",
              " 23: 'v',\n",
              " 24: 'j',\n",
              " 25: 'x',\n",
              " 26: 'z',\n",
              " 27: '1',\n",
              " 28: '0',\n",
              " 29: '2',\n",
              " 30: '5',\n",
              " 31: 'q',\n",
              " 32: '4',\n",
              " 33: '3',\n",
              " 34: '7',\n",
              " 35: '8',\n",
              " 36: '9',\n",
              " 37: '6'}"
            ]
          },
          "execution_count": 28,
          "metadata": {},
          "output_type": "execute_result"
        }
      ]
    },
    {
      "cell_type": "code",
      "metadata": {
        "id": "dr_2ZNoe7WMK"
      },
      "source": [
        ""
      ],
      "execution_count": null,
      "outputs": []
    }
  ]
}