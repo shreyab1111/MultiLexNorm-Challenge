{
  "nbformat": 4,
  "nbformat_minor": 0,
  "metadata": {
    "accelerator": "GPU",
    "colab": {
      "name": "da_ln_seq2seq_transformer.ipynb",
      "provenance": [],
      "collapsed_sections": [],
      "include_colab_link": true
    },
    "kernelspec": {
      "display_name": "Python 3",
      "language": "python",
      "name": "python3"
    },
    "language_info": {
      "codemirror_mode": {
        "name": "ipython",
        "version": 3
      },
      "file_extension": ".py",
      "mimetype": "text/x-python",
      "name": "python",
      "nbconvert_exporter": "python",
      "pygments_lexer": "ipython3",
      "version": "3.7.6"
    }
  },
  "cells": [
    {
      "cell_type": "markdown",
      "metadata": {
        "id": "view-in-github",
        "colab_type": "text"
      },
      "source": [
        "<a href=\"https://colab.research.google.com/github/shreyab1111/MultiLexNorm-Challenge/blob/main/Danish/da_ln_seq2seq_transformer.ipynb\" target=\"_parent\"><img src=\"https://colab.research.google.com/assets/colab-badge.svg\" alt=\"Open In Colab\"/></a>"
      ]
    },
    {
      "cell_type": "code",
      "metadata": {
        "id": "9EmbOAfzoSQu"
      },
      "source": [
        "# !pip install --upgrade -qq tensorflow"
      ],
      "execution_count": 26,
      "outputs": []
    },
    {
      "cell_type": "code",
      "metadata": {
        "colab": {
          "base_uri": "https://localhost:8080/"
        },
        "id": "Tc3b4Q_Q71Vy",
        "outputId": "86a82612-ce6c-4ab0-968a-59cc89ecdbb6"
      },
      "source": [
        "from google.colab import drive\n",
        "drive.mount('/content/drive')"
      ],
      "execution_count": 27,
      "outputs": [
        {
          "output_type": "stream",
          "text": [
            "Drive already mounted at /content/drive; to attempt to forcibly remount, call drive.mount(\"/content/drive\", force_remount=True).\n"
          ],
          "name": "stdout"
        }
      ]
    },
    {
      "cell_type": "code",
      "metadata": {
        "colab": {
          "base_uri": "https://localhost:8080/"
        },
        "id": "E1sycRo-pFrF",
        "outputId": "64bdc831-f267-43f7-83cb-b1b9393f4e0a"
      },
      "source": [
        "import tensorflow as tf \n",
        "print(tf.__version__)"
      ],
      "execution_count": 28,
      "outputs": [
        {
          "output_type": "stream",
          "text": [
            "2.6.0\n"
          ],
          "name": "stdout"
        }
      ]
    },
    {
      "cell_type": "code",
      "metadata": {
        "id": "B_zd1UMIpC0V"
      },
      "source": [
        "import numpy as np\n",
        "from tensorflow import keras\n",
        "from tensorflow.keras.layers import Input,LSTM\n",
        "from tensorflow.keras import layers\n",
        "from tensorflow.keras.layers import TextVectorization\n",
        "import pathlib\n",
        "import random\n",
        "import string\n",
        "import re"
      ],
      "execution_count": 29,
      "outputs": []
    },
    {
      "cell_type": "code",
      "metadata": {
        "id": "vcxsB67eoklK"
      },
      "source": [
        "epochs = 100  # Number of epochs to train for.\n",
        "num_samples = 30000\n",
        "data_path = '/content/drive/MyDrive/NLP/Lexical Normalisation/Multilexnorm Challenge/Danish/da.train.norm.txt'"
      ],
      "execution_count": 30,
      "outputs": []
    },
    {
      "cell_type": "code",
      "metadata": {
        "id": "tegYHpnmo1wR"
      },
      "source": [
        "# Vectorize the data.\n",
        "input_texts = []\n",
        "target_texts = []\n",
        "text_pairs = []\n",
        "input_characters = set()\n",
        "target_characters = set()\n",
        "with open(data_path, \"r\") as f:\n",
        "    lines = f.readlines()\n",
        "for line in lines[: min(num_samples, len(lines) - 1)]:\n",
        "  if line=='\\n':\n",
        "    continue\n",
        "  else:\n",
        "    input_text, target_text= line.split(\"\\t\")\n",
        "    if target_text[-2:]!='\\n':\n",
        "      target_text = \"[start] \" + ' '.join([i for i in target_text[:-1]]) + \" [end]\"\n",
        "    else:\n",
        "      target_text = \"[start] \" + ' '.join([i for i in target_text]) + \" [end]\"\n",
        "    #input_texts.append(input_text)\n",
        "    #target_texts.append(target_text)\n",
        "    text_pairs.append((' '.join([i for i in input_text]), target_text))"
      ],
      "execution_count": 31,
      "outputs": []
    },
    {
      "cell_type": "code",
      "metadata": {
        "colab": {
          "base_uri": "https://localhost:8080/"
        },
        "id": "7s-620QKppt9",
        "outputId": "1346fd1a-ccdb-4b61-e39d-ab4213c8dd75"
      },
      "source": [
        "for _ in range(5):\n",
        "    print(random.choice(text_pairs))"
      ],
      "execution_count": 32,
      "outputs": [
        {
          "output_type": "stream",
          "text": [
            "(',', '[start] , [end]')\n",
            "('f r a', '[start] f r a [end]')\n",
            "('s o m', '[start] s o m [end]')\n",
            "('l æ n g e r e', '[start] l æ n g e r e [end]')\n",
            "('t i l b a g e', '[start] t i l b a g e [end]')\n"
          ],
          "name": "stdout"
        }
      ]
    },
    {
      "cell_type": "code",
      "metadata": {
        "colab": {
          "base_uri": "https://localhost:8080/"
        },
        "id": "BaHpVCqpgp6b",
        "outputId": "b313f347-6815-4c33-e7e2-3d4f60c5a5da"
      },
      "source": [
        "len(text_pairs)"
      ],
      "execution_count": 33,
      "outputs": [
        {
          "output_type": "execute_result",
          "data": {
            "text/plain": [
              "9392"
            ]
          },
          "metadata": {},
          "execution_count": 33
        }
      ]
    },
    {
      "cell_type": "code",
      "metadata": {
        "colab": {
          "base_uri": "https://localhost:8080/"
        },
        "id": "qGxEWXlHpz_F",
        "outputId": "2319de72-b3a2-4843-b56c-8273775f60d9"
      },
      "source": [
        "random.shuffle(text_pairs)\n",
        "num_val_samples = int(0.15 * len(text_pairs))\n",
        "num_train_samples = len(text_pairs) - 2 * num_val_samples\n",
        "train_pairs = text_pairs[:num_train_samples]\n",
        "val_pairs = text_pairs[num_train_samples : num_train_samples + num_val_samples]\n",
        "test_pairs = text_pairs[num_train_samples + num_val_samples :]\n",
        "\n",
        "print(f\"{len(text_pairs)} total pairs\")\n",
        "print(f\"{len(train_pairs)} training pairs\")\n",
        "print(f\"{len(val_pairs)} validation pairs\")\n",
        "print(f\"{len(test_pairs)} test pairs\")"
      ],
      "execution_count": 34,
      "outputs": [
        {
          "output_type": "stream",
          "text": [
            "9392 total pairs\n",
            "6576 training pairs\n",
            "1408 validation pairs\n",
            "1408 test pairs\n"
          ],
          "name": "stdout"
        }
      ]
    },
    {
      "cell_type": "code",
      "metadata": {
        "id": "c1BOHM0Xw8Nm"
      },
      "source": [
        "strip_chars = string.punctuation + \"¿\"\n",
        "strip_chars = strip_chars.replace(\"[\", \"\")\n",
        "strip_chars = strip_chars.replace(\"]\", \"\")\n",
        "\n",
        "vocab_size = 70\n",
        "sequence_length = 45\n",
        "batch_size = 64"
      ],
      "execution_count": 35,
      "outputs": []
    },
    {
      "cell_type": "code",
      "metadata": {
        "id": "GabMijddxBxw"
      },
      "source": [
        "def custom_standardization(input_string):\n",
        "    lowercase = tf.strings.lower(input_string)\n",
        "    return tf.strings.regex_replace(lowercase, \"[%s]\" % re.escape(strip_chars), \"\")"
      ],
      "execution_count": 36,
      "outputs": []
    },
    {
      "cell_type": "code",
      "metadata": {
        "id": "qBSM38m8xEqX"
      },
      "source": [
        "eng_vectorization = TextVectorization(\n",
        "    max_tokens=vocab_size, output_mode=\"int\", output_sequence_length=sequence_length,\n",
        ")\n",
        "spa_vectorization = TextVectorization(\n",
        "    max_tokens=vocab_size,\n",
        "    output_mode=\"int\",\n",
        "    output_sequence_length=sequence_length + 1,\n",
        "    standardize=custom_standardization,\n",
        ")\n",
        "train_input_texts = [pair[0] for pair in train_pairs]\n",
        "train_output_texts = [pair[1] for pair in train_pairs]\n",
        "eng_vectorization.adapt(train_input_texts)\n",
        "spa_vectorization.adapt(train_output_texts)"
      ],
      "execution_count": 37,
      "outputs": []
    },
    {
      "cell_type": "code",
      "metadata": {
        "colab": {
          "base_uri": "https://localhost:8080/"
        },
        "id": "crvDSRK-1tpF",
        "outputId": "b291b2e2-ec6f-4bf8-dde5-bea944987c39"
      },
      "source": [
        "print(train_input_texts[:15])\n",
        "print(train_output_texts[:15])"
      ],
      "execution_count": 38,
      "outputs": [
        {
          "output_type": "stream",
          "text": [
            "[')', 'l e j e t', ',', 'æ g t e', 'o g', 'p l u d s e l i g', 'd e n n e', 'd e m', 'f r a', 'l i v', 'b l i v e', '…', 's å', 'p o p u l i s t i s k', 'j e g']\n",
            "['[start] ) [end]', '[start] l e j e t [end]', '[start] , [end]', '[start] æ g t e [end]', '[start] o g [end]', '[start] p l u d s e l i g [end]', '[start] d e n n e [end]', '[start] d e m [end]', '[start] f r a [end]', '[start] l i v [end]', '[start] b l i v e [end]', '[start] … [end]', '[start] s å [end]', '[start] p o p u l i s t i s k [end]', '[start] j e g [end]']\n"
          ],
          "name": "stdout"
        }
      ]
    },
    {
      "cell_type": "code",
      "metadata": {
        "id": "JDYbxwm_xI0M"
      },
      "source": [
        "def format_dataset(eng, spa):\n",
        "    eng = eng_vectorization(eng)\n",
        "    spa = spa_vectorization(spa)\n",
        "    return ({\"encoder_inputs\": eng, \"decoder_inputs\": spa[:, :-1],}, spa[:, 1:])\n",
        "\n",
        "def make_dataset(pairs):\n",
        "    eng_texts, spa_texts = zip(*pairs)\n",
        "    eng_texts = list(eng_texts)\n",
        "    spa_texts = list(spa_texts)\n",
        "    dataset = tf.data.Dataset.from_tensor_slices((eng_texts, spa_texts))\n",
        "    dataset = dataset.batch(batch_size)\n",
        "    dataset = dataset.map(format_dataset)\n",
        "    return dataset.shuffle(2048).prefetch(16).cache()"
      ],
      "execution_count": 39,
      "outputs": []
    },
    {
      "cell_type": "code",
      "metadata": {
        "id": "vljpNdx9zFDh"
      },
      "source": [
        "train_ds = make_dataset(train_pairs)\n",
        "val_ds = make_dataset(val_pairs)"
      ],
      "execution_count": 40,
      "outputs": []
    },
    {
      "cell_type": "code",
      "metadata": {
        "colab": {
          "base_uri": "https://localhost:8080/"
        },
        "id": "MxBpT47bBgHY",
        "outputId": "4ddf18af-be72-43af-8669-66931dcbf248"
      },
      "source": [
        "print(train_ds)\n",
        "print(val_ds)"
      ],
      "execution_count": 41,
      "outputs": [
        {
          "output_type": "stream",
          "text": [
            "<CacheDataset shapes: ({encoder_inputs: (None, 45), decoder_inputs: (None, 45)}, (None, 45)), types: ({encoder_inputs: tf.int64, decoder_inputs: tf.int64}, tf.int64)>\n",
            "<CacheDataset shapes: ({encoder_inputs: (None, 45), decoder_inputs: (None, 45)}, (None, 45)), types: ({encoder_inputs: tf.int64, decoder_inputs: tf.int64}, tf.int64)>\n"
          ],
          "name": "stdout"
        }
      ]
    },
    {
      "cell_type": "code",
      "metadata": {
        "colab": {
          "base_uri": "https://localhost:8080/"
        },
        "id": "V2W41XdkzHkc",
        "outputId": "4e929e92-4d07-4815-aae5-0d26b6b540eb"
      },
      "source": [
        "for inputs, targets in train_ds.take(1):\n",
        "    print(f'inputs[\"encoder_inputs\"].shape: {inputs[\"encoder_inputs\"].shape}')\n",
        "    print(f'inputs[\"decoder_inputs\"].shape: {inputs[\"decoder_inputs\"].shape}')\n",
        "    print(f\"targets.shape: {targets.shape}\")"
      ],
      "execution_count": 42,
      "outputs": [
        {
          "output_type": "stream",
          "text": [
            "inputs[\"encoder_inputs\"].shape: (64, 45)\n",
            "inputs[\"decoder_inputs\"].shape: (64, 45)\n",
            "targets.shape: (64, 45)\n"
          ],
          "name": "stdout"
        }
      ]
    },
    {
      "cell_type": "code",
      "metadata": {
        "id": "We2sL4K-zK8Y"
      },
      "source": [
        "class TransformerEncoder(layers.Layer):\n",
        "    def __init__(self, embed_dim, dense_dim, num_heads, **kwargs):\n",
        "        super(TransformerEncoder, self).__init__(**kwargs)\n",
        "        self.embed_dim = embed_dim\n",
        "        self.dense_dim = dense_dim\n",
        "        self.num_heads = num_heads\n",
        "        self.attention = layers.MultiHeadAttention(\n",
        "            num_heads=num_heads, key_dim=embed_dim\n",
        "        )\n",
        "        self.dense_proj = keras.Sequential(\n",
        "            [layers.Dense(dense_dim, activation=\"relu\"), layers.Dense(embed_dim),]\n",
        "        )\n",
        "        self.layernorm_1 = layers.LayerNormalization()\n",
        "        self.layernorm_2 = layers.LayerNormalization()\n",
        "        self.supports_masking = True\n",
        "\n",
        "    def call(self, inputs, mask=None):\n",
        "        if mask is not None:\n",
        "            padding_mask = tf.cast(mask[:, tf.newaxis, tf.newaxis, :], dtype=\"int32\")\n",
        "        attention_output = self.attention(\n",
        "            query=inputs, value=inputs, key=inputs, attention_mask=padding_mask\n",
        "        )\n",
        "        proj_input = self.layernorm_1(inputs + attention_output)\n",
        "        proj_output = self.dense_proj(proj_input)\n",
        "        return self.layernorm_2(proj_input + proj_output)\n",
        "\n",
        "    def get_config(self):\n",
        "        config = super().get_config().copy()\n",
        "        config.update({\n",
        "            'embed_dim': self.embed_dim,\n",
        "            'dense_dim': self.dense_dim,\n",
        "            'num_heads': self.num_heads,\n",
        "            'attention': self.attention,\n",
        "            'dense_proj': self.dense_proj,\n",
        "            'layernorm_1': self.layernorm_1,\n",
        "            'layernorm_2': self.layernorm_2,\n",
        "            'supports_masking': self.supports_masking,\n",
        "        })\n",
        "        return config"
      ],
      "execution_count": 43,
      "outputs": []
    },
    {
      "cell_type": "code",
      "metadata": {
        "id": "N26LemxHzR2R"
      },
      "source": [
        "class PositionalEmbedding(layers.Layer):\n",
        "    def __init__(self, sequence_length, vocab_size, embed_dim, **kwargs):\n",
        "        super(PositionalEmbedding, self).__init__(**kwargs)\n",
        "        self.token_embeddings = layers.Embedding(\n",
        "            input_dim=vocab_size, output_dim=embed_dim\n",
        "        )\n",
        "        self.position_embeddings = layers.Embedding(\n",
        "            input_dim=sequence_length, output_dim=embed_dim\n",
        "        )\n",
        "        self.sequence_length = sequence_length\n",
        "        self.vocab_size = vocab_size\n",
        "        self.embed_dim = embed_dim\n",
        "\n",
        "    def call(self, inputs):\n",
        "        length = tf.shape(inputs)[-1]\n",
        "        positions = tf.range(start=0, limit=length, delta=1)\n",
        "        embedded_tokens = self.token_embeddings(inputs)\n",
        "        embedded_positions = self.position_embeddings(positions)\n",
        "        return embedded_tokens + embedded_positions\n",
        "\n",
        "    def compute_mask(self, inputs, mask=None):\n",
        "        return tf.math.not_equal(inputs, 0)\n",
        "\n",
        "    def get_config(self):\n",
        "        config = super().get_config().copy()\n",
        "        config.update({\n",
        "            'embed_dim': self.embed_dim,\n",
        "            'vocab_size': self.vocab_size,\n",
        "            'sequence_length': self.sequence_length,\n",
        "            'position_embeddings': self.position_embeddings,\n",
        "            'token_embeddings': self.token_embeddings,\n",
        "        })\n",
        "        return config"
      ],
      "execution_count": 44,
      "outputs": []
    },
    {
      "cell_type": "code",
      "metadata": {
        "id": "cQtYq0W-zWXR"
      },
      "source": [
        "class TransformerDecoder(layers.Layer):\n",
        "    def __init__(self, embed_dim, latent_dim, num_heads, **kwargs):\n",
        "        super(TransformerDecoder, self).__init__(**kwargs)\n",
        "        self.embed_dim = embed_dim\n",
        "        self.latent_dim = latent_dim\n",
        "        self.num_heads = num_heads\n",
        "        self.attention_1 = layers.MultiHeadAttention(\n",
        "            num_heads=num_heads, key_dim=embed_dim\n",
        "        )\n",
        "        self.attention_2 = layers.MultiHeadAttention(\n",
        "            num_heads=num_heads, key_dim=embed_dim\n",
        "        )\n",
        "        self.dense_proj = keras.Sequential(\n",
        "            [layers.Dense(latent_dim, activation=\"relu\"), layers.Dense(embed_dim),]\n",
        "        )\n",
        "        self.layernorm_1 = layers.LayerNormalization()\n",
        "        self.layernorm_2 = layers.LayerNormalization()\n",
        "        self.layernorm_3 = layers.LayerNormalization()\n",
        "        self.supports_masking = True\n",
        "\n",
        "    def call(self, inputs, encoder_outputs, mask=None):\n",
        "        causal_mask = self.get_causal_attention_mask(inputs)\n",
        "        if mask is not None:\n",
        "            padding_mask = tf.cast(mask[:, tf.newaxis, :], dtype=\"int32\")\n",
        "            padding_mask = tf.minimum(padding_mask, causal_mask)\n",
        "\n",
        "        attention_output_1 = self.attention_1(\n",
        "            query=inputs, value=inputs, key=inputs, attention_mask=causal_mask\n",
        "        )\n",
        "        out_1 = self.layernorm_1(inputs + attention_output_1)\n",
        "\n",
        "        attention_output_2 = self.attention_2(\n",
        "            query=out_1,\n",
        "            value=encoder_outputs,\n",
        "            key=encoder_outputs,\n",
        "            attention_mask=padding_mask,\n",
        "        )\n",
        "        out_2 = self.layernorm_2(out_1 + attention_output_2)\n",
        "\n",
        "        proj_output = self.dense_proj(out_2)\n",
        "        return self.layernorm_3(out_2 + proj_output)\n",
        "\n",
        "    def get_causal_attention_mask(self, inputs):\n",
        "        input_shape = tf.shape(inputs)\n",
        "        batch_size, sequence_length = input_shape[0], input_shape[1]\n",
        "        i = tf.range(sequence_length)[:, tf.newaxis]\n",
        "        j = tf.range(sequence_length)\n",
        "        mask = tf.cast(i >= j, dtype=\"int32\")\n",
        "        mask = tf.reshape(mask, (1, input_shape[1], input_shape[1]))\n",
        "        mult = tf.concat(\n",
        "            [tf.expand_dims(batch_size, -1), tf.constant([1, 1], dtype=tf.int32)],\n",
        "            axis=0,\n",
        "        )\n",
        "        return tf.tile(mask, mult)\n",
        "\n",
        "    def get_config(self):\n",
        "        config = super().get_config().copy()\n",
        "        config.update({\n",
        "            'embed_dim': self.embed_dim,\n",
        "            'latent_dim': self.latent_dim,\n",
        "            'num_heads': self.num_heads,\n",
        "            'attention_1': self.attention_1,\n",
        "            'attention_2': self.attention_2,\n",
        "            'dense_proj' : self.dense_proj,\n",
        "            'layernorm_1': self.layernorm_1,\n",
        "            'layernorm_2': self.layernorm_2,\n",
        "            'layernorm_3' : self.layernorm_3,\n",
        "            'supports_masking' : self.supports_masking,\n",
        "        })\n",
        "        return config"
      ],
      "execution_count": 45,
      "outputs": []
    },
    {
      "cell_type": "code",
      "metadata": {
        "id": "BR5hzlY_zbnC"
      },
      "source": [
        "embed_dim = 68\n",
        "latent_dim = 32\n",
        "num_heads = 4\n",
        "\n",
        "encoder_inputs = keras.Input(shape=(None,), dtype=\"int64\", name=\"encoder_inputs\")\n",
        "x = PositionalEmbedding(sequence_length, vocab_size, embed_dim)(encoder_inputs)\n",
        "encoder_outputs = TransformerEncoder(embed_dim, latent_dim, num_heads)(x)\n",
        "encoder = keras.Model(encoder_inputs, encoder_outputs)\n",
        "\n",
        "decoder_inputs = keras.Input(shape=(None,), dtype=\"int64\", name=\"decoder_inputs\")\n",
        "encoded_seq_inputs = keras.Input(shape=(None, embed_dim), name=\"decoder_state_inputs\")\n",
        "x = PositionalEmbedding(sequence_length, vocab_size, embed_dim)(decoder_inputs)\n",
        "x = TransformerDecoder(embed_dim, latent_dim, num_heads)(x, encoded_seq_inputs)\n",
        "x = layers.Dropout(0.5)(x)\n",
        "decoder_outputs = layers.Dense(vocab_size, activation=\"softmax\")(x)\n",
        "decoder = keras.Model([decoder_inputs, encoded_seq_inputs], decoder_outputs)\n",
        "\n",
        "decoder_outputs = decoder([decoder_inputs, encoder_outputs])\n",
        "transformer = keras.Model(\n",
        "    [encoder_inputs, decoder_inputs], decoder_outputs, name=\"transformer\"\n",
        ")"
      ],
      "execution_count": 46,
      "outputs": []
    },
    {
      "cell_type": "code",
      "metadata": {
        "colab": {
          "base_uri": "https://localhost:8080/"
        },
        "id": "gqV1yJFTzf7B",
        "outputId": "21cbb74d-b830-4dda-aa76-af4f899ec95d"
      },
      "source": [
        "transformer.summary()\n",
        "transformer.compile(\n",
        "    'rmsprop', loss=\"sparse_categorical_crossentropy\", metrics=[\"accuracy\"]\n",
        ")"
      ],
      "execution_count": 47,
      "outputs": [
        {
          "output_type": "stream",
          "text": [
            "Model: \"transformer\"\n",
            "__________________________________________________________________________________________________\n",
            "Layer (type)                    Output Shape         Param #     Connected to                     \n",
            "==================================================================================================\n",
            "encoder_inputs (InputLayer)     [(None, None)]       0                                            \n",
            "__________________________________________________________________________________________________\n",
            "positional_embedding_2 (Positio (None, None, 68)     7820        encoder_inputs[0][0]             \n",
            "__________________________________________________________________________________________________\n",
            "decoder_inputs (InputLayer)     [(None, None)]       0                                            \n",
            "__________________________________________________________________________________________________\n",
            "transformer_encoder_1 (Transfor (None, None, 68)     79592       positional_embedding_2[0][0]     \n",
            "__________________________________________________________________________________________________\n",
            "model_3 (Functional)            (None, None, 70)     167246      decoder_inputs[0][0]             \n",
            "                                                                 transformer_encoder_1[0][0]      \n",
            "==================================================================================================\n",
            "Total params: 254,658\n",
            "Trainable params: 254,658\n",
            "Non-trainable params: 0\n",
            "__________________________________________________________________________________________________\n"
          ],
          "name": "stdout"
        }
      ]
    },
    {
      "cell_type": "code",
      "metadata": {
        "colab": {
          "base_uri": "https://localhost:8080/",
          "height": 439
        },
        "id": "jhH6rDGv2I8L",
        "outputId": "431409c7-a949-4794-b440-7eee30dc9bfa"
      },
      "source": [
        "from tensorflow.keras.utils import plot_model\n",
        "plot_model(\n",
        "    transformer,\n",
        "    to_file=\"ln_transformer.png\",\n",
        "    show_shapes=True,\n",
        "    show_dtype=False,\n",
        "    show_layer_names=True,\n",
        "    rankdir=\"TB\",\n",
        "    expand_nested=False,\n",
        "    dpi=100,\n",
        ")"
      ],
      "execution_count": 48,
      "outputs": [
        {
          "output_type": "execute_result",
          "data": {
            "image/png": "[encoded data removed]",
            "text/plain": [
              "<IPython.core.display.Image object>"
            ]
          },
          "metadata": {},
          "execution_count": 48
        }
      ]
    },
    {
      "cell_type": "code",
      "metadata": {
        "colab": {
          "base_uri": "https://localhost:8080/"
        },
        "id": "KvSfptNZzjZ8",
        "outputId": "d2e5fbde-6b29-4cbc-fce0-1ddd67785fe3"
      },
      "source": [
        "transformer.fit(train_ds, epochs=epochs, batch_size=batch_size, validation_data=val_ds)"
      ],
      "execution_count": 49,
      "outputs": [
        {
          "output_type": "stream",
          "text": [
            "Epoch 1/100\n",
            "103/103 [==============================] - 5s 22ms/step - loss: 0.1073 - accuracy: 0.8561 - val_loss: 0.0153 - val_accuracy: 0.9864\n",
            "Epoch 2/100\n",
            "103/103 [==============================] - 2s 17ms/step - loss: 0.0192 - accuracy: 0.9817 - val_loss: 0.0119 - val_accuracy: 0.9897\n",
            "Epoch 3/100\n",
            "103/103 [==============================] - 2s 16ms/step - loss: 0.0150 - accuracy: 0.9853 - val_loss: 0.0106 - val_accuracy: 0.9907\n",
            "Epoch 4/100\n",
            "103/103 [==============================] - 2s 16ms/step - loss: 0.0125 - accuracy: 0.9877 - val_loss: 0.0102 - val_accuracy: 0.9914\n",
            "Epoch 5/100\n",
            "103/103 [==============================] - 2s 17ms/step - loss: 0.0115 - accuracy: 0.9877 - val_loss: 0.0103 - val_accuracy: 0.9915\n",
            "Epoch 6/100\n",
            "103/103 [==============================] - 2s 16ms/step - loss: 0.0101 - accuracy: 0.9888 - val_loss: 0.0098 - val_accuracy: 0.9917\n",
            "Epoch 7/100\n",
            "103/103 [==============================] - 2s 16ms/step - loss: 0.0092 - accuracy: 0.9897 - val_loss: 0.0100 - val_accuracy: 0.9917\n",
            "Epoch 8/100\n",
            "103/103 [==============================] - 2s 16ms/step - loss: 0.0089 - accuracy: 0.9897 - val_loss: 0.0099 - val_accuracy: 0.9916\n",
            "Epoch 9/100\n",
            "103/103 [==============================] - 2s 16ms/step - loss: 0.0080 - accuracy: 0.9904 - val_loss: 0.0095 - val_accuracy: 0.9919\n",
            "Epoch 10/100\n",
            "103/103 [==============================] - 2s 16ms/step - loss: 0.0079 - accuracy: 0.9907 - val_loss: 0.0095 - val_accuracy: 0.9919\n",
            "Epoch 11/100\n",
            "103/103 [==============================] - 2s 16ms/step - loss: 0.0071 - accuracy: 0.9916 - val_loss: 0.0097 - val_accuracy: 0.9923\n",
            "Epoch 12/100\n",
            "103/103 [==============================] - 2s 16ms/step - loss: 0.0070 - accuracy: 0.9916 - val_loss: 0.0098 - val_accuracy: 0.9925\n",
            "Epoch 13/100\n",
            "103/103 [==============================] - 2s 16ms/step - loss: 0.0064 - accuracy: 0.9922 - val_loss: 0.0093 - val_accuracy: 0.9926\n",
            "Epoch 14/100\n",
            "103/103 [==============================] - 2s 16ms/step - loss: 0.0062 - accuracy: 0.9926 - val_loss: 0.0094 - val_accuracy: 0.9930\n",
            "Epoch 15/100\n",
            "103/103 [==============================] - 2s 16ms/step - loss: 0.0060 - accuracy: 0.9928 - val_loss: 0.0095 - val_accuracy: 0.9926\n",
            "Epoch 16/100\n",
            "103/103 [==============================] - 2s 16ms/step - loss: 0.0055 - accuracy: 0.9932 - val_loss: 0.0098 - val_accuracy: 0.9928\n",
            "Epoch 17/100\n",
            "103/103 [==============================] - 2s 16ms/step - loss: 0.0054 - accuracy: 0.9932 - val_loss: 0.0094 - val_accuracy: 0.9930\n",
            "Epoch 18/100\n",
            "103/103 [==============================] - 2s 16ms/step - loss: 0.0050 - accuracy: 0.9935 - val_loss: 0.0098 - val_accuracy: 0.9928\n",
            "Epoch 19/100\n",
            "103/103 [==============================] - 2s 16ms/step - loss: 0.0050 - accuracy: 0.9934 - val_loss: 0.0102 - val_accuracy: 0.9932\n",
            "Epoch 20/100\n",
            "103/103 [==============================] - 2s 16ms/step - loss: 0.0046 - accuracy: 0.9939 - val_loss: 0.0097 - val_accuracy: 0.9931\n",
            "Epoch 21/100\n",
            "103/103 [==============================] - 2s 17ms/step - loss: 0.0048 - accuracy: 0.9938 - val_loss: 0.0096 - val_accuracy: 0.9926\n",
            "Epoch 22/100\n",
            "103/103 [==============================] - 2s 16ms/step - loss: 0.0046 - accuracy: 0.9944 - val_loss: 0.0092 - val_accuracy: 0.9931\n",
            "Epoch 23/100\n",
            "103/103 [==============================] - 2s 16ms/step - loss: 0.0043 - accuracy: 0.9943 - val_loss: 0.0100 - val_accuracy: 0.9932\n",
            "Epoch 24/100\n",
            "103/103 [==============================] - 2s 17ms/step - loss: 0.0041 - accuracy: 0.9946 - val_loss: 0.0099 - val_accuracy: 0.9928\n",
            "Epoch 25/100\n",
            "103/103 [==============================] - 2s 16ms/step - loss: 0.0042 - accuracy: 0.9945 - val_loss: 0.0099 - val_accuracy: 0.9928\n",
            "Epoch 26/100\n",
            "103/103 [==============================] - 2s 16ms/step - loss: 0.0038 - accuracy: 0.9947 - val_loss: 0.0099 - val_accuracy: 0.9932\n",
            "Epoch 27/100\n",
            "103/103 [==============================] - 2s 16ms/step - loss: 0.0037 - accuracy: 0.9950 - val_loss: 0.0104 - val_accuracy: 0.9930\n",
            "Epoch 28/100\n",
            "103/103 [==============================] - 2s 17ms/step - loss: 0.0035 - accuracy: 0.9951 - val_loss: 0.0100 - val_accuracy: 0.9929\n",
            "Epoch 29/100\n",
            "103/103 [==============================] - 2s 17ms/step - loss: 0.0036 - accuracy: 0.9950 - val_loss: 0.0104 - val_accuracy: 0.9919\n",
            "Epoch 30/100\n",
            "103/103 [==============================] - 2s 16ms/step - loss: 0.0035 - accuracy: 0.9952 - val_loss: 0.0108 - val_accuracy: 0.9929\n",
            "Epoch 31/100\n",
            "103/103 [==============================] - 2s 16ms/step - loss: 0.0034 - accuracy: 0.9952 - val_loss: 0.0105 - val_accuracy: 0.9930\n",
            "Epoch 32/100\n",
            "103/103 [==============================] - 2s 16ms/step - loss: 0.0033 - accuracy: 0.9955 - val_loss: 0.0105 - val_accuracy: 0.9930\n",
            "Epoch 33/100\n",
            "103/103 [==============================] - 2s 16ms/step - loss: 0.0032 - accuracy: 0.9957 - val_loss: 0.0106 - val_accuracy: 0.9925\n",
            "Epoch 34/100\n",
            "103/103 [==============================] - 2s 16ms/step - loss: 0.0030 - accuracy: 0.9957 - val_loss: 0.0107 - val_accuracy: 0.9930\n",
            "Epoch 35/100\n",
            "103/103 [==============================] - 2s 16ms/step - loss: 0.0032 - accuracy: 0.9957 - val_loss: 0.0112 - val_accuracy: 0.9920\n",
            "Epoch 36/100\n",
            "103/103 [==============================] - 2s 17ms/step - loss: 0.0028 - accuracy: 0.9958 - val_loss: 0.0111 - val_accuracy: 0.9930\n",
            "Epoch 37/100\n",
            "103/103 [==============================] - 2s 17ms/step - loss: 0.0028 - accuracy: 0.9962 - val_loss: 0.0109 - val_accuracy: 0.9925\n",
            "Epoch 38/100\n",
            "103/103 [==============================] - 2s 17ms/step - loss: 0.0027 - accuracy: 0.9957 - val_loss: 0.0106 - val_accuracy: 0.9929\n",
            "Epoch 39/100\n",
            "103/103 [==============================] - 2s 17ms/step - loss: 0.0027 - accuracy: 0.9960 - val_loss: 0.0108 - val_accuracy: 0.9928\n",
            "Epoch 40/100\n",
            "103/103 [==============================] - 2s 17ms/step - loss: 0.0028 - accuracy: 0.9961 - val_loss: 0.0111 - val_accuracy: 0.9925\n",
            "Epoch 41/100\n",
            "103/103 [==============================] - 2s 16ms/step - loss: 0.0027 - accuracy: 0.9958 - val_loss: 0.0109 - val_accuracy: 0.9926\n",
            "Epoch 42/100\n",
            "103/103 [==============================] - 2s 16ms/step - loss: 0.0025 - accuracy: 0.9964 - val_loss: 0.0113 - val_accuracy: 0.9925\n",
            "Epoch 43/100\n",
            "103/103 [==============================] - 2s 16ms/step - loss: 0.0024 - accuracy: 0.9962 - val_loss: 0.0118 - val_accuracy: 0.9924\n",
            "Epoch 44/100\n",
            "103/103 [==============================] - 2s 16ms/step - loss: 0.0024 - accuracy: 0.9962 - val_loss: 0.0111 - val_accuracy: 0.9925\n",
            "Epoch 45/100\n",
            "103/103 [==============================] - 2s 16ms/step - loss: 0.0024 - accuracy: 0.9966 - val_loss: 0.0118 - val_accuracy: 0.9922\n",
            "Epoch 46/100\n",
            "103/103 [==============================] - 2s 16ms/step - loss: 0.0026 - accuracy: 0.9960 - val_loss: 0.0117 - val_accuracy: 0.9933\n",
            "Epoch 47/100\n",
            "103/103 [==============================] - 2s 16ms/step - loss: 0.0023 - accuracy: 0.9966 - val_loss: 0.0118 - val_accuracy: 0.9929\n",
            "Epoch 48/100\n",
            "103/103 [==============================] - 2s 16ms/step - loss: 0.0022 - accuracy: 0.9965 - val_loss: 0.0113 - val_accuracy: 0.9925\n",
            "Epoch 49/100\n",
            "103/103 [==============================] - 2s 16ms/step - loss: 0.0023 - accuracy: 0.9966 - val_loss: 0.0123 - val_accuracy: 0.9928\n",
            "Epoch 50/100\n",
            "103/103 [==============================] - 2s 16ms/step - loss: 0.0021 - accuracy: 0.9969 - val_loss: 0.0117 - val_accuracy: 0.9929\n",
            "Epoch 51/100\n",
            "103/103 [==============================] - 2s 16ms/step - loss: 0.0022 - accuracy: 0.9968 - val_loss: 0.0116 - val_accuracy: 0.9922\n",
            "Epoch 52/100\n",
            "103/103 [==============================] - 2s 16ms/step - loss: 0.0020 - accuracy: 0.9967 - val_loss: 0.0120 - val_accuracy: 0.9924\n",
            "Epoch 53/100\n",
            "103/103 [==============================] - 2s 16ms/step - loss: 0.0020 - accuracy: 0.9971 - val_loss: 0.0118 - val_accuracy: 0.9929\n",
            "Epoch 54/100\n",
            "103/103 [==============================] - 2s 17ms/step - loss: 0.0019 - accuracy: 0.9971 - val_loss: 0.0123 - val_accuracy: 0.9928\n",
            "Epoch 55/100\n",
            "103/103 [==============================] - 2s 16ms/step - loss: 0.0019 - accuracy: 0.9970 - val_loss: 0.0123 - val_accuracy: 0.9925\n",
            "Epoch 56/100\n",
            "103/103 [==============================] - 2s 16ms/step - loss: 0.0020 - accuracy: 0.9969 - val_loss: 0.0120 - val_accuracy: 0.9930\n",
            "Epoch 57/100\n",
            "103/103 [==============================] - 2s 16ms/step - loss: 0.0018 - accuracy: 0.9973 - val_loss: 0.0114 - val_accuracy: 0.9925\n",
            "Epoch 58/100\n",
            "103/103 [==============================] - 2s 16ms/step - loss: 0.0019 - accuracy: 0.9973 - val_loss: 0.0121 - val_accuracy: 0.9926\n",
            "Epoch 59/100\n",
            "103/103 [==============================] - 2s 16ms/step - loss: 0.0019 - accuracy: 0.9971 - val_loss: 0.0123 - val_accuracy: 0.9924\n",
            "Epoch 60/100\n",
            "103/103 [==============================] - 2s 16ms/step - loss: 0.0018 - accuracy: 0.9970 - val_loss: 0.0118 - val_accuracy: 0.9922\n",
            "Epoch 61/100\n",
            "103/103 [==============================] - 2s 16ms/step - loss: 0.0018 - accuracy: 0.9971 - val_loss: 0.0124 - val_accuracy: 0.9915\n",
            "Epoch 62/100\n",
            "103/103 [==============================] - 2s 16ms/step - loss: 0.0019 - accuracy: 0.9968 - val_loss: 0.0122 - val_accuracy: 0.9924\n",
            "Epoch 63/100\n",
            "103/103 [==============================] - 2s 17ms/step - loss: 0.0019 - accuracy: 0.9971 - val_loss: 0.0123 - val_accuracy: 0.9924\n",
            "Epoch 64/100\n",
            "103/103 [==============================] - 2s 16ms/step - loss: 0.0017 - accuracy: 0.9974 - val_loss: 0.0121 - val_accuracy: 0.9929\n",
            "Epoch 65/100\n",
            "103/103 [==============================] - 2s 16ms/step - loss: 0.0017 - accuracy: 0.9975 - val_loss: 0.0120 - val_accuracy: 0.9928\n",
            "Epoch 66/100\n",
            "103/103 [==============================] - 2s 16ms/step - loss: 0.0017 - accuracy: 0.9974 - val_loss: 0.0124 - val_accuracy: 0.9925\n",
            "Epoch 67/100\n",
            "103/103 [==============================] - 2s 16ms/step - loss: 0.0017 - accuracy: 0.9972 - val_loss: 0.0125 - val_accuracy: 0.9926\n",
            "Epoch 68/100\n",
            "103/103 [==============================] - 2s 16ms/step - loss: 0.0016 - accuracy: 0.9975 - val_loss: 0.0119 - val_accuracy: 0.9928\n",
            "Epoch 69/100\n",
            "103/103 [==============================] - 2s 16ms/step - loss: 0.0015 - accuracy: 0.9973 - val_loss: 0.0127 - val_accuracy: 0.9928\n",
            "Epoch 70/100\n",
            "103/103 [==============================] - 2s 17ms/step - loss: 0.0017 - accuracy: 0.9974 - val_loss: 0.0125 - val_accuracy: 0.9922\n",
            "Epoch 71/100\n",
            "103/103 [==============================] - 2s 16ms/step - loss: 0.0018 - accuracy: 0.9972 - val_loss: 0.0124 - val_accuracy: 0.9930\n",
            "Epoch 72/100\n",
            "103/103 [==============================] - 2s 16ms/step - loss: 0.0016 - accuracy: 0.9975 - val_loss: 0.0123 - val_accuracy: 0.9925\n",
            "Epoch 73/100\n",
            "103/103 [==============================] - 2s 16ms/step - loss: 0.0016 - accuracy: 0.9975 - val_loss: 0.0124 - val_accuracy: 0.9931\n",
            "Epoch 74/100\n",
            "103/103 [==============================] - 2s 16ms/step - loss: 0.0016 - accuracy: 0.9971 - val_loss: 0.0122 - val_accuracy: 0.9925\n",
            "Epoch 75/100\n",
            "103/103 [==============================] - 2s 16ms/step - loss: 0.0016 - accuracy: 0.9974 - val_loss: 0.0125 - val_accuracy: 0.9922\n",
            "Epoch 76/100\n",
            "103/103 [==============================] - 2s 16ms/step - loss: 0.0014 - accuracy: 0.9977 - val_loss: 0.0127 - val_accuracy: 0.9925\n",
            "Epoch 77/100\n",
            "103/103 [==============================] - 2s 16ms/step - loss: 0.0015 - accuracy: 0.9976 - val_loss: 0.0127 - val_accuracy: 0.9929\n",
            "Epoch 78/100\n",
            "103/103 [==============================] - 2s 16ms/step - loss: 0.0015 - accuracy: 0.9975 - val_loss: 0.0125 - val_accuracy: 0.9924\n",
            "Epoch 79/100\n",
            "103/103 [==============================] - 2s 16ms/step - loss: 0.0014 - accuracy: 0.9979 - val_loss: 0.0126 - val_accuracy: 0.9926\n",
            "Epoch 80/100\n",
            "103/103 [==============================] - 2s 16ms/step - loss: 0.0014 - accuracy: 0.9977 - val_loss: 0.0130 - val_accuracy: 0.9925\n",
            "Epoch 81/100\n",
            "103/103 [==============================] - 2s 17ms/step - loss: 0.0012 - accuracy: 0.9980 - val_loss: 0.0128 - val_accuracy: 0.9928\n",
            "Epoch 82/100\n",
            "103/103 [==============================] - 2s 16ms/step - loss: 0.0013 - accuracy: 0.9979 - val_loss: 0.0127 - val_accuracy: 0.9922\n",
            "Epoch 83/100\n",
            "103/103 [==============================] - 2s 16ms/step - loss: 0.0014 - accuracy: 0.9980 - val_loss: 0.0128 - val_accuracy: 0.9923\n",
            "Epoch 84/100\n",
            "103/103 [==============================] - 2s 16ms/step - loss: 0.0015 - accuracy: 0.9975 - val_loss: 0.0126 - val_accuracy: 0.9922\n",
            "Epoch 85/100\n",
            "103/103 [==============================] - 2s 17ms/step - loss: 0.0012 - accuracy: 0.9979 - val_loss: 0.0125 - val_accuracy: 0.9929\n",
            "Epoch 86/100\n",
            "103/103 [==============================] - 2s 17ms/step - loss: 0.0014 - accuracy: 0.9974 - val_loss: 0.0132 - val_accuracy: 0.9928\n",
            "Epoch 87/100\n",
            "103/103 [==============================] - 2s 17ms/step - loss: 0.0015 - accuracy: 0.9978 - val_loss: 0.0134 - val_accuracy: 0.9930\n",
            "Epoch 88/100\n",
            "103/103 [==============================] - 2s 16ms/step - loss: 0.0014 - accuracy: 0.9979 - val_loss: 0.0134 - val_accuracy: 0.9926\n",
            "Epoch 89/100\n",
            "103/103 [==============================] - 2s 16ms/step - loss: 0.0013 - accuracy: 0.9980 - val_loss: 0.0125 - val_accuracy: 0.9926\n",
            "Epoch 90/100\n",
            "103/103 [==============================] - 2s 16ms/step - loss: 0.0012 - accuracy: 0.9980 - val_loss: 0.0135 - val_accuracy: 0.9925\n",
            "Epoch 91/100\n",
            "103/103 [==============================] - 2s 16ms/step - loss: 0.0012 - accuracy: 0.9981 - val_loss: 0.0136 - val_accuracy: 0.9925\n",
            "Epoch 92/100\n",
            "103/103 [==============================] - 2s 16ms/step - loss: 0.0011 - accuracy: 0.9984 - val_loss: 0.0130 - val_accuracy: 0.9931\n",
            "Epoch 93/100\n",
            "103/103 [==============================] - 2s 16ms/step - loss: 0.0011 - accuracy: 0.9979 - val_loss: 0.0130 - val_accuracy: 0.9931\n",
            "Epoch 94/100\n",
            "103/103 [==============================] - 2s 16ms/step - loss: 0.0013 - accuracy: 0.9981 - val_loss: 0.0131 - val_accuracy: 0.9923\n",
            "Epoch 95/100\n",
            "103/103 [==============================] - 2s 16ms/step - loss: 0.0013 - accuracy: 0.9978 - val_loss: 0.0129 - val_accuracy: 0.9924\n",
            "Epoch 96/100\n",
            "103/103 [==============================] - 2s 16ms/step - loss: 0.0013 - accuracy: 0.9980 - val_loss: 0.0132 - val_accuracy: 0.9925\n",
            "Epoch 97/100\n",
            "103/103 [==============================] - 2s 16ms/step - loss: 0.0011 - accuracy: 0.9985 - val_loss: 0.0134 - val_accuracy: 0.9930\n",
            "Epoch 98/100\n",
            "103/103 [==============================] - 2s 16ms/step - loss: 0.0012 - accuracy: 0.9978 - val_loss: 0.0135 - val_accuracy: 0.9930\n",
            "Epoch 99/100\n",
            "103/103 [==============================] - 2s 16ms/step - loss: 0.0011 - accuracy: 0.9983 - val_loss: 0.0140 - val_accuracy: 0.9929\n",
            "Epoch 100/100\n",
            "103/103 [==============================] - 2s 16ms/step - loss: 0.0011 - accuracy: 0.9982 - val_loss: 0.0131 - val_accuracy: 0.9923\n"
          ],
          "name": "stdout"
        },
        {
          "output_type": "execute_result",
          "data": {
            "text/plain": [
              "<keras.callbacks.History at 0x7f5f81f34250>"
            ]
          },
          "metadata": {},
          "execution_count": 49
        }
      ]
    },
    {
      "cell_type": "code",
      "metadata": {
        "id": "23lYH9nTW8Vy"
      },
      "source": [
        "transformer.save('/content/drive/MyDrive/NLP/Lexical Normalisation/models/da_ln_transformer.h5')"
      ],
      "execution_count": 54,
      "outputs": []
    },
    {
      "cell_type": "code",
      "metadata": {
        "colab": {
          "base_uri": "https://localhost:8080/"
        },
        "id": "xTusgJ0y7WMJ",
        "outputId": "281f53dd-ed47-4d4d-926c-1acb7b5d6141"
      },
      "source": [
        "spa_vocab = spa_vectorization.get_vocabulary()\n",
        "spa_index_lookup = dict(zip(range(len(spa_vocab)), spa_vocab))\n",
        "max_decoded_sentence_length = 45\n",
        "\n",
        "\n",
        "def decode_sequence(input_sentence):\n",
        "    tokenized_input_sentence = eng_vectorization([input_sentence])\n",
        "    decoded_sentence = \"[start]\"\n",
        "    for i in range(max_decoded_sentence_length):\n",
        "        tokenized_target_sentence = spa_vectorization([decoded_sentence])[:, :-1]\n",
        "        predictions = transformer([tokenized_input_sentence, tokenized_target_sentence])\n",
        "\n",
        "        sampled_token_index = np.argmax(predictions[0, i, :])\n",
        "        sampled_token = spa_index_lookup[sampled_token_index]\n",
        "        decoded_sentence += \" \" + sampled_token\n",
        "\n",
        "        if sampled_token == \"[end]\":\n",
        "            break\n",
        "    return decoded_sentence\n",
        "\n",
        "\n",
        "test_eng_texts = [pair[0] for pair in test_pairs]\n",
        "for _ in range(30):\n",
        "    input_sentence = random.choice(test_eng_texts)\n",
        "    translated = decode_sequence(input_sentence)\n",
        "    print(input_sentence, ' ',translated)"
      ],
      "execution_count": 51,
      "outputs": [
        {
          "output_type": "stream",
          "text": [
            "!   [start] [end]\n",
            ". . .   [start] [end]\n",
            "-   [start] [end]\n",
            ":   [start] [end]\n",
            "i   [start] i [end]\n",
            "O g   [start] o g [end]\n",
            "v æ l g e   [start] v æ l g e [end]\n",
            ",   [start] [end]\n",
            "l æ s t   [start] l æ s t [end]\n",
            "m a n   [start] m a n [end]\n",
            "f o r   [start] f o r [end]\n",
            "a l l e   [start] a l l e [end]\n",
            "’   [start] ’ [end]\n",
            "t y s k e r e   [start] t y s k e r e [end]\n",
            "m a n   [start] m a n [end]\n",
            "s e k u n d a k l u b   [start] s e k u n d a k l u b [end]\n",
            "…   [start] … [end]\n",
            "u d t r æ k s   [start] u d t r æ k s [end]\n",
            "f l e r e   [start] f l e r e [end]\n",
            "b a r n   [start] b a r n [end]\n",
            "e f t e r f ø l g e n d e   [start] e f t e r f ø l g e n d e [end]\n",
            "m e g e t   [start] m e g e t [end]\n",
            "e r   [start] e r [end]\n",
            "d e t   [start] d e t [end]\n",
            "p l a d s   [start] p l a d s [end]\n",
            "i n d e n f o r   [start] i n d e n f o r [end]\n",
            "d e t   [start] d e t [end]\n",
            "K o n t   [start] k o n t [end]\n",
            ".   [start] [end]\n",
            "e n   [start] e n [end]\n"
          ],
          "name": "stdout"
        }
      ]
    },
    {
      "cell_type": "code",
      "metadata": {
        "id": "8C9fJYIb7WMK",
        "colab": {
          "base_uri": "https://localhost:8080/"
        },
        "outputId": "8af76350-aada-4ed4-f931-f8956e2eb88a"
      },
      "source": [
        "spa_index_lookup"
      ],
      "execution_count": 52,
      "outputs": [
        {
          "output_type": "execute_result",
          "data": {
            "text/plain": [
              "{0: '',\n",
              " 1: '[UNK]',\n",
              " 2: '[start]',\n",
              " 3: '[end]',\n",
              " 4: 'e',\n",
              " 5: 'r',\n",
              " 6: 't',\n",
              " 7: 's',\n",
              " 8: 'i',\n",
              " 9: 'd',\n",
              " 10: 'n',\n",
              " 11: 'a',\n",
              " 12: 'o',\n",
              " 13: 'l',\n",
              " 14: 'g',\n",
              " 15: 'k',\n",
              " 16: 'm',\n",
              " 17: 'v',\n",
              " 18: 'f',\n",
              " 19: 'h',\n",
              " 20: 'p',\n",
              " 21: 'u',\n",
              " 22: 'b',\n",
              " 23: 'j',\n",
              " 24: 'æ',\n",
              " 25: 'c',\n",
              " 26: 'å',\n",
              " 27: 'y',\n",
              " 28: 'ø',\n",
              " 29: '…',\n",
              " 30: 'z',\n",
              " 31: '1',\n",
              " 32: 'w',\n",
              " 33: 'x',\n",
              " 34: 'q',\n",
              " 35: '0',\n",
              " 36: '2',\n",
              " 37: '8',\n",
              " 38: '9',\n",
              " 39: '6',\n",
              " 40: '7',\n",
              " 41: '3',\n",
              " 42: '5',\n",
              " 43: '4',\n",
              " 44: '️',\n",
              " 45: '’',\n",
              " 46: '❤',\n",
              " 47: 'Å',\n",
              " 48: '”',\n",
              " 49: '“',\n",
              " 50: 'é',\n",
              " 51: 'Ø',\n",
              " 52: '‘',\n",
              " 53: '«',\n",
              " 54: '📍',\n",
              " 55: '👍',\n",
              " 56: '😉',\n",
              " 57: '😅',\n",
              " 58: '🏻',\n",
              " 59: '‼',\n",
              " 60: '\\u200d',\n",
              " 61: 'ü',\n",
              " 62: 'ó',\n",
              " 63: 'ä',\n",
              " 64: '»',\n",
              " 65: '[',\n",
              " 66: '🦷',\n",
              " 67: '🥰',\n",
              " 68: '🤯',\n",
              " 69: '🤦'}"
            ]
          },
          "metadata": {},
          "execution_count": 52
        }
      ]
    },
    {
      "cell_type": "code",
      "metadata": {
        "id": "o9rWi6b07WMK",
        "colab": {
          "base_uri": "https://localhost:8080/"
        },
        "outputId": "3cfb9dc7-685a-47c8-af54-cdd5fc4d599b"
      },
      "source": [
        "eng_vocab = eng_vectorization.get_vocabulary()\n",
        "eng_index_lookup = dict(zip(range(len(eng_vocab)), eng_vocab))\n",
        "eng_index_lookup"
      ],
      "execution_count": 53,
      "outputs": [
        {
          "output_type": "execute_result",
          "data": {
            "text/plain": [
              "{0: '',\n",
              " 1: '[UNK]',\n",
              " 2: 'e',\n",
              " 3: 'r',\n",
              " 4: 't',\n",
              " 5: 's',\n",
              " 6: 'i',\n",
              " 7: 'd',\n",
              " 8: 'n',\n",
              " 9: 'a',\n",
              " 10: 'o',\n",
              " 11: 'l',\n",
              " 12: 'g',\n",
              " 13: 'k',\n",
              " 14: 'm',\n",
              " 15: 'v',\n",
              " 16: 'f',\n",
              " 17: 'h',\n",
              " 18: 'p',\n",
              " 19: 'u',\n",
              " 20: 'b',\n",
              " 21: 'j',\n",
              " 22: 'æ',\n",
              " 23: 'c',\n",
              " 24: 'å',\n",
              " 25: 'y',\n",
              " 26: 'ø',\n",
              " 27: '…',\n",
              " 28: 'z',\n",
              " 29: '1',\n",
              " 30: 'x',\n",
              " 31: 'w',\n",
              " 32: 'q',\n",
              " 33: '0',\n",
              " 34: '2',\n",
              " 35: '8',\n",
              " 36: '9',\n",
              " 37: '6',\n",
              " 38: '7',\n",
              " 39: '3',\n",
              " 40: '5',\n",
              " 41: '4',\n",
              " 42: '️',\n",
              " 43: '’',\n",
              " 44: 'Å',\n",
              " 45: '❤',\n",
              " 46: 'Ø',\n",
              " 47: '”',\n",
              " 48: '“',\n",
              " 49: 'é',\n",
              " 50: '‘',\n",
              " 51: '«',\n",
              " 52: '📍',\n",
              " 53: '👍',\n",
              " 54: 'ä',\n",
              " 55: '😉',\n",
              " 56: '😅',\n",
              " 57: '🏻',\n",
              " 58: '‼',\n",
              " 59: '\\u200d',\n",
              " 60: 'ü',\n",
              " 61: 'ó',\n",
              " 62: '»',\n",
              " 63: '🦷',\n",
              " 64: '🥰',\n",
              " 65: '🤯',\n",
              " 66: '🤦',\n",
              " 67: '🤣',\n",
              " 68: '🤔',\n",
              " 69: '🤓'}"
            ]
          },
          "metadata": {},
          "execution_count": 53
        }
      ]
    },
    {
      "cell_type": "code",
      "metadata": {
        "id": "dr_2ZNoe7WMK"
      },
      "source": [
        ""
      ],
      "execution_count": 53,
      "outputs": []
    }
  ]
}